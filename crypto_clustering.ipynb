{
 "cells": [
  {
   "cell_type": "markdown",
   "metadata": {},
   "source": [
    "# Clustering Crypto"
   ]
  },
  {
   "cell_type": "code",
   "execution_count": 73,
   "metadata": {},
   "outputs": [],
   "source": [
    "import requests\n",
    "import pandas as pd\n",
    "import matplotlib.pyplot as plt\n",
    "import hvplot.pandas\n",
    "import plotly.express as px\n",
    "from sklearn.preprocessing import StandardScaler, MinMaxScaler\n",
    "from sklearn.decomposition import PCA\n",
    "from sklearn.cluster import KMeans"
   ]
  },
  {
   "cell_type": "markdown",
   "metadata": {},
   "source": [
    "### Fetching Cryptocurrency Data"
   ]
  },
  {
   "cell_type": "code",
   "execution_count": 74,
   "metadata": {},
   "outputs": [],
   "source": [
    "url = \"https://min-api.cryptocompare.com/data/all/coinlist\"\n",
    "requests.get(url)\n",
    "response_data = requests.get(url)"
   ]
  },
  {
   "cell_type": "code",
   "execution_count": 75,
   "metadata": {},
   "outputs": [],
   "source": [
    "import json\n",
    "\n",
    "# Formatting as json\n",
    "data = response_data.json()"
   ]
  },
  {
   "cell_type": "markdown",
   "metadata": {},
   "source": [
    "### Data Preprocessing"
   ]
  },
  {
   "cell_type": "code",
   "execution_count": 76,
   "metadata": {},
   "outputs": [],
   "source": [
    "# Traspose the data\n",
    "crypto_df = pd.DataFrame.from_dict(data[\"Data\"],orient='index')\n",
    "# Keep only cryptocurrencies that are on trading\n",
    "crypto_df = crypto_df[crypto_df.IsTrading == True]\n",
    "# Keep only cryptocurrencies with a working algorithm\n",
    "# Dropping rows where there are 'N/A' text values\n",
    "crypto_df = crypto_df[crypto_df.Algorithm != \"N/A\"]\n",
    "crypto_df = crypto_df[crypto_df.TotalCoinSupply != \"N/A\"]\n",
    "# Remove the \"IsTrading\" column\n",
    "crypto_df.drop(['IsTrading'], axis=1,inplace = True)\n",
    "# Removing rows with at least 1 null value\n",
    "crypto_df = crypto_df.dropna(how='any',axis=0)\n",
    "# Removing rows with cryptocurrencies without coins mined\n",
    "crypto_df = crypto_df[crypto_df.TotalCoinsMined != 0]"
   ]
  },
  {
   "cell_type": "code",
   "execution_count": 77,
   "metadata": {},
   "outputs": [
    {
     "data": {
      "text/plain": [
       "42           42 Coin\n",
       "1337       EliteCoin\n",
       "BTCD     BitcoinDark\n",
       "XPY          PayCoin\n",
       "PRC      ProsperCoin\n",
       "            ...     \n",
       "NLG           Gulden\n",
       "GAME     Gamecredits\n",
       "SMART      SmartCash\n",
       "EMC         Emercoin\n",
       "MEC         MegaCoin\n",
       "Name: CoinName, Length: 556, dtype: object"
      ]
     },
     "execution_count": 77,
     "metadata": {},
     "output_type": "execute_result"
    }
   ],
   "source": [
    "# Fetching the cryptocurrencies names prior to drop them from crypto_df\n",
    "df_aux = crypto_df['CoinName']\n",
    "df_aux"
   ]
  },
  {
   "cell_type": "code",
   "execution_count": 78,
   "metadata": {},
   "outputs": [
    {
     "data": {
      "text/html": [
       "<div>\n",
       "<style scoped>\n",
       "    .dataframe tbody tr th:only-of-type {\n",
       "        vertical-align: middle;\n",
       "    }\n",
       "\n",
       "    .dataframe tbody tr th {\n",
       "        vertical-align: top;\n",
       "    }\n",
       "\n",
       "    .dataframe thead th {\n",
       "        text-align: right;\n",
       "    }\n",
       "</style>\n",
       "<table border=\"1\" class=\"dataframe\">\n",
       "  <thead>\n",
       "    <tr style=\"text-align: right;\">\n",
       "      <th></th>\n",
       "      <th>Id</th>\n",
       "      <th>Url</th>\n",
       "      <th>ImageUrl</th>\n",
       "      <th>ContentCreatedOn</th>\n",
       "      <th>Name</th>\n",
       "      <th>Symbol</th>\n",
       "      <th>CoinName</th>\n",
       "      <th>FullName</th>\n",
       "      <th>Algorithm</th>\n",
       "      <th>ProofType</th>\n",
       "      <th>...</th>\n",
       "      <th>PreMinedValue</th>\n",
       "      <th>TotalCoinsFreeFloat</th>\n",
       "      <th>SortOrder</th>\n",
       "      <th>Sponsored</th>\n",
       "      <th>Taxonomy</th>\n",
       "      <th>TotalCoinsMined</th>\n",
       "      <th>BlockNumber</th>\n",
       "      <th>NetHashesPerSecond</th>\n",
       "      <th>BlockReward</th>\n",
       "      <th>BlockTime</th>\n",
       "    </tr>\n",
       "  </thead>\n",
       "  <tbody>\n",
       "    <tr>\n",
       "      <td>42</td>\n",
       "      <td>4321</td>\n",
       "      <td>/coins/42/overview</td>\n",
       "      <td>/media/35650717/42.jpg</td>\n",
       "      <td>1427211129</td>\n",
       "      <td>42</td>\n",
       "      <td>42</td>\n",
       "      <td>42 Coin</td>\n",
       "      <td>42 Coin (42)</td>\n",
       "      <td>Scrypt</td>\n",
       "      <td>PoW/PoS</td>\n",
       "      <td>...</td>\n",
       "      <td>N/A</td>\n",
       "      <td>N/A</td>\n",
       "      <td>34</td>\n",
       "      <td>False</td>\n",
       "      <td>{'Access': '', 'FCA': '', 'FINMA': '', 'Indust...</td>\n",
       "      <td>4.199995e+01</td>\n",
       "      <td>152462.0</td>\n",
       "      <td>0.0</td>\n",
       "      <td>0.0</td>\n",
       "      <td>0.0</td>\n",
       "    </tr>\n",
       "    <tr>\n",
       "      <td>1337</td>\n",
       "      <td>20824</td>\n",
       "      <td>/coins/1337/overview</td>\n",
       "      <td>/media/35520987/elite.png</td>\n",
       "      <td>1465838687</td>\n",
       "      <td>1337</td>\n",
       "      <td>1337</td>\n",
       "      <td>EliteCoin</td>\n",
       "      <td>EliteCoin (1337)</td>\n",
       "      <td>X13</td>\n",
       "      <td>PoW/PoS</td>\n",
       "      <td>...</td>\n",
       "      <td>N/A</td>\n",
       "      <td>N/A</td>\n",
       "      <td>577</td>\n",
       "      <td>False</td>\n",
       "      <td>{'Access': '', 'FCA': '', 'FINMA': '', 'Indust...</td>\n",
       "      <td>2.933949e+10</td>\n",
       "      <td>2318088.0</td>\n",
       "      <td>0.0</td>\n",
       "      <td>0.0</td>\n",
       "      <td>60.0</td>\n",
       "    </tr>\n",
       "    <tr>\n",
       "      <td>BTCD</td>\n",
       "      <td>4400</td>\n",
       "      <td>/coins/btcd/overview</td>\n",
       "      <td>/media/19630/btcd_1.png</td>\n",
       "      <td>1427711372</td>\n",
       "      <td>BTCD</td>\n",
       "      <td>BTCD</td>\n",
       "      <td>BitcoinDark</td>\n",
       "      <td>BitcoinDark (BTCD)</td>\n",
       "      <td>SHA-256</td>\n",
       "      <td>PoW/PoS</td>\n",
       "      <td>...</td>\n",
       "      <td>N/A</td>\n",
       "      <td>N/A</td>\n",
       "      <td>13</td>\n",
       "      <td>False</td>\n",
       "      <td>{'Access': 'Permissionless', 'FCA': 'Exchange'...</td>\n",
       "      <td>1.288862e+06</td>\n",
       "      <td>0.0</td>\n",
       "      <td>0.0</td>\n",
       "      <td>0.0</td>\n",
       "      <td>0.0</td>\n",
       "    </tr>\n",
       "    <tr>\n",
       "      <td>XPY</td>\n",
       "      <td>5030</td>\n",
       "      <td>/coins/xpy/overview</td>\n",
       "      <td>/media/20076/xpy_1.png</td>\n",
       "      <td>1428671950</td>\n",
       "      <td>XPY</td>\n",
       "      <td>XPY</td>\n",
       "      <td>PayCoin</td>\n",
       "      <td>PayCoin (XPY)</td>\n",
       "      <td>SHA-256</td>\n",
       "      <td>PoS</td>\n",
       "      <td>...</td>\n",
       "      <td>N/A</td>\n",
       "      <td>N/A</td>\n",
       "      <td>17</td>\n",
       "      <td>False</td>\n",
       "      <td>{'Access': '', 'FCA': '', 'FINMA': '', 'Indust...</td>\n",
       "      <td>1.199533e+07</td>\n",
       "      <td>0.0</td>\n",
       "      <td>0.0</td>\n",
       "      <td>0.0</td>\n",
       "      <td>0.0</td>\n",
       "    </tr>\n",
       "    <tr>\n",
       "      <td>PRC</td>\n",
       "      <td>3638</td>\n",
       "      <td>/coins/prc/overview</td>\n",
       "      <td>/media/20393/prc.png</td>\n",
       "      <td>1424886122</td>\n",
       "      <td>PRC</td>\n",
       "      <td>PRC</td>\n",
       "      <td>ProsperCoin</td>\n",
       "      <td>ProsperCoin (PRC)</td>\n",
       "      <td>Scrypt</td>\n",
       "      <td>PoW</td>\n",
       "      <td>...</td>\n",
       "      <td>N/A</td>\n",
       "      <td>N/A</td>\n",
       "      <td>18</td>\n",
       "      <td>False</td>\n",
       "      <td>{'Access': '', 'FCA': '', 'FINMA': '', 'Indust...</td>\n",
       "      <td>6.070325e+06</td>\n",
       "      <td>602982.0</td>\n",
       "      <td>1136826.0</td>\n",
       "      <td>5.0</td>\n",
       "      <td>120.0</td>\n",
       "    </tr>\n",
       "  </tbody>\n",
       "</table>\n",
       "<p>5 rows × 24 columns</p>\n",
       "</div>"
      ],
      "text/plain": [
       "         Id                   Url                   ImageUrl  \\\n",
       "42     4321    /coins/42/overview     /media/35650717/42.jpg   \n",
       "1337  20824  /coins/1337/overview  /media/35520987/elite.png   \n",
       "BTCD   4400  /coins/btcd/overview    /media/19630/btcd_1.png   \n",
       "XPY    5030   /coins/xpy/overview     /media/20076/xpy_1.png   \n",
       "PRC    3638   /coins/prc/overview       /media/20393/prc.png   \n",
       "\n",
       "      ContentCreatedOn  Name Symbol     CoinName            FullName  \\\n",
       "42          1427211129    42     42      42 Coin        42 Coin (42)   \n",
       "1337        1465838687  1337   1337    EliteCoin    EliteCoin (1337)   \n",
       "BTCD        1427711372  BTCD   BTCD  BitcoinDark  BitcoinDark (BTCD)   \n",
       "XPY         1428671950   XPY    XPY      PayCoin       PayCoin (XPY)   \n",
       "PRC         1424886122   PRC    PRC  ProsperCoin   ProsperCoin (PRC)   \n",
       "\n",
       "     Algorithm ProofType  ... PreMinedValue TotalCoinsFreeFloat SortOrder  \\\n",
       "42      Scrypt   PoW/PoS  ...           N/A                 N/A        34   \n",
       "1337       X13   PoW/PoS  ...           N/A                 N/A       577   \n",
       "BTCD   SHA-256   PoW/PoS  ...           N/A                 N/A        13   \n",
       "XPY    SHA-256       PoS  ...           N/A                 N/A        17   \n",
       "PRC     Scrypt       PoW  ...           N/A                 N/A        18   \n",
       "\n",
       "     Sponsored                                           Taxonomy  \\\n",
       "42       False  {'Access': '', 'FCA': '', 'FINMA': '', 'Indust...   \n",
       "1337     False  {'Access': '', 'FCA': '', 'FINMA': '', 'Indust...   \n",
       "BTCD     False  {'Access': 'Permissionless', 'FCA': 'Exchange'...   \n",
       "XPY      False  {'Access': '', 'FCA': '', 'FINMA': '', 'Indust...   \n",
       "PRC      False  {'Access': '', 'FCA': '', 'FINMA': '', 'Indust...   \n",
       "\n",
       "     TotalCoinsMined BlockNumber  NetHashesPerSecond BlockReward  BlockTime  \n",
       "42      4.199995e+01    152462.0                 0.0         0.0        0.0  \n",
       "1337    2.933949e+10   2318088.0                 0.0         0.0       60.0  \n",
       "BTCD    1.288862e+06         0.0                 0.0         0.0        0.0  \n",
       "XPY     1.199533e+07         0.0                 0.0         0.0        0.0  \n",
       "PRC     6.070325e+06    602982.0           1136826.0         5.0      120.0  \n",
       "\n",
       "[5 rows x 24 columns]"
      ]
     },
     "execution_count": 78,
     "metadata": {},
     "output_type": "execute_result"
    }
   ],
   "source": [
    "crypto_df.head()"
   ]
  },
  {
   "cell_type": "code",
   "execution_count": 79,
   "metadata": {},
   "outputs": [],
   "source": [
    "# Remove unnecessary columns\n",
    "# Removig the cryptocurrency name since it's not going to be used on the clustering algorithm\n",
    "crypto_df.drop(['CoinName','PreMinedValue','TotalCoinsFreeFloat','BuiltOn','SmartContractAddress','Taxonomy','FullName','Name','Symbol','ImageUrl','Url','Id','ContentCreatedOn'], axis=1,inplace = True)"
   ]
  },
  {
   "cell_type": "code",
   "execution_count": 80,
   "metadata": {},
   "outputs": [
    {
     "data": {
      "text/html": [
       "<div>\n",
       "<style scoped>\n",
       "    .dataframe tbody tr th:only-of-type {\n",
       "        vertical-align: middle;\n",
       "    }\n",
       "\n",
       "    .dataframe tbody tr th {\n",
       "        vertical-align: top;\n",
       "    }\n",
       "\n",
       "    .dataframe thead th {\n",
       "        text-align: right;\n",
       "    }\n",
       "</style>\n",
       "<table border=\"1\" class=\"dataframe\">\n",
       "  <thead>\n",
       "    <tr style=\"text-align: right;\">\n",
       "      <th></th>\n",
       "      <th>Algorithm</th>\n",
       "      <th>ProofType</th>\n",
       "      <th>FullyPremined</th>\n",
       "      <th>TotalCoinSupply</th>\n",
       "      <th>SortOrder</th>\n",
       "      <th>Sponsored</th>\n",
       "      <th>TotalCoinsMined</th>\n",
       "      <th>BlockNumber</th>\n",
       "      <th>NetHashesPerSecond</th>\n",
       "      <th>BlockReward</th>\n",
       "      <th>BlockTime</th>\n",
       "    </tr>\n",
       "  </thead>\n",
       "  <tbody>\n",
       "    <tr>\n",
       "      <td>42</td>\n",
       "      <td>Scrypt</td>\n",
       "      <td>PoW/PoS</td>\n",
       "      <td>0</td>\n",
       "      <td>42</td>\n",
       "      <td>34</td>\n",
       "      <td>False</td>\n",
       "      <td>4.199995e+01</td>\n",
       "      <td>152462.0</td>\n",
       "      <td>0.0</td>\n",
       "      <td>0.0</td>\n",
       "      <td>0.0</td>\n",
       "    </tr>\n",
       "    <tr>\n",
       "      <td>1337</td>\n",
       "      <td>X13</td>\n",
       "      <td>PoW/PoS</td>\n",
       "      <td>0</td>\n",
       "      <td>314159265359</td>\n",
       "      <td>577</td>\n",
       "      <td>False</td>\n",
       "      <td>2.933949e+10</td>\n",
       "      <td>2318088.0</td>\n",
       "      <td>0.0</td>\n",
       "      <td>0.0</td>\n",
       "      <td>60.0</td>\n",
       "    </tr>\n",
       "    <tr>\n",
       "      <td>BTCD</td>\n",
       "      <td>SHA-256</td>\n",
       "      <td>PoW/PoS</td>\n",
       "      <td>0</td>\n",
       "      <td>22000000</td>\n",
       "      <td>13</td>\n",
       "      <td>False</td>\n",
       "      <td>1.288862e+06</td>\n",
       "      <td>0.0</td>\n",
       "      <td>0.0</td>\n",
       "      <td>0.0</td>\n",
       "      <td>0.0</td>\n",
       "    </tr>\n",
       "    <tr>\n",
       "      <td>XPY</td>\n",
       "      <td>SHA-256</td>\n",
       "      <td>PoS</td>\n",
       "      <td>0</td>\n",
       "      <td>12500000</td>\n",
       "      <td>17</td>\n",
       "      <td>False</td>\n",
       "      <td>1.199533e+07</td>\n",
       "      <td>0.0</td>\n",
       "      <td>0.0</td>\n",
       "      <td>0.0</td>\n",
       "      <td>0.0</td>\n",
       "    </tr>\n",
       "    <tr>\n",
       "      <td>PRC</td>\n",
       "      <td>Scrypt</td>\n",
       "      <td>PoW</td>\n",
       "      <td>0</td>\n",
       "      <td>21000000</td>\n",
       "      <td>18</td>\n",
       "      <td>False</td>\n",
       "      <td>6.070325e+06</td>\n",
       "      <td>602982.0</td>\n",
       "      <td>1136826.0</td>\n",
       "      <td>5.0</td>\n",
       "      <td>120.0</td>\n",
       "    </tr>\n",
       "  </tbody>\n",
       "</table>\n",
       "</div>"
      ],
      "text/plain": [
       "     Algorithm ProofType FullyPremined TotalCoinSupply SortOrder  Sponsored  \\\n",
       "42      Scrypt   PoW/PoS             0              42        34      False   \n",
       "1337       X13   PoW/PoS             0    314159265359       577      False   \n",
       "BTCD   SHA-256   PoW/PoS             0        22000000        13      False   \n",
       "XPY    SHA-256       PoS             0        12500000        17      False   \n",
       "PRC     Scrypt       PoW             0        21000000        18      False   \n",
       "\n",
       "      TotalCoinsMined  BlockNumber  NetHashesPerSecond  BlockReward  BlockTime  \n",
       "42       4.199995e+01     152462.0                 0.0          0.0        0.0  \n",
       "1337     2.933949e+10    2318088.0                 0.0          0.0       60.0  \n",
       "BTCD     1.288862e+06          0.0                 0.0          0.0        0.0  \n",
       "XPY      1.199533e+07          0.0                 0.0          0.0        0.0  \n",
       "PRC      6.070325e+06     602982.0           1136826.0          5.0      120.0  "
      ]
     },
     "execution_count": 80,
     "metadata": {},
     "output_type": "execute_result"
    }
   ],
   "source": [
    "crypto_df.head()"
   ]
  },
  {
   "cell_type": "code",
   "execution_count": 81,
   "metadata": {},
   "outputs": [
    {
     "name": "stdout",
     "output_type": "stream",
     "text": [
      "Algorithm              object\n",
      "ProofType              object\n",
      "FullyPremined          object\n",
      "TotalCoinSupply       float64\n",
      "SortOrder             float64\n",
      "Sponsored                bool\n",
      "TotalCoinsMined       float64\n",
      "BlockNumber           float64\n",
      "NetHashesPerSecond    float64\n",
      "BlockReward           float64\n",
      "BlockTime             float64\n",
      "dtype: object\n"
     ]
    }
   ],
   "source": [
    "# to change objects to floats .astype() \n",
    "crypto_df['TotalCoinSupply'] = crypto_df.TotalCoinSupply.astype(float)\n",
    "crypto_df['SortOrder'] = crypto_df.SortOrder.astype(float)\n",
    "print(crypto_df.dtypes)"
   ]
  },
  {
   "cell_type": "code",
   "execution_count": 82,
   "metadata": {},
   "outputs": [],
   "source": [
    "# Creating dummies variables for text features\n",
    "df_encoded = pd.get_dummies(crypto_df, columns=[\"Algorithm\",\"ProofType\",\"FullyPremined\",\"Sponsored\"]) "
   ]
  },
  {
   "cell_type": "code",
   "execution_count": 83,
   "metadata": {},
   "outputs": [
    {
     "data": {
      "text/plain": [
       "StandardScaler(copy=True, with_mean=True, with_std=True)"
      ]
     },
     "execution_count": 83,
     "metadata": {},
     "output_type": "execute_result"
    }
   ],
   "source": [
    "# Standardizing data\n",
    "scaler = StandardScaler()\n",
    "scaler.fit(df_encoded)"
   ]
  },
  {
   "cell_type": "code",
   "execution_count": 84,
   "metadata": {},
   "outputs": [
    {
     "data": {
      "text/plain": [
       "array([[-0.15491219, -1.14579337, -0.12059772, ...,  0.2123977 ,\n",
       "        -0.2123977 ,  0.        ],\n",
       "       [ 4.58284385, -0.6767767 ,  0.53278856, ...,  0.2123977 ,\n",
       "        -0.2123977 ,  0.        ],\n",
       "       [-0.15458041, -1.16393214, -0.12056902, ...,  0.2123977 ,\n",
       "        -0.2123977 ,  0.        ],\n",
       "       ...,\n",
       "       [-0.07950846,  0.04963771, -0.07069076, ...,  0.2123977 ,\n",
       "        -0.2123977 ,  0.        ],\n",
       "       [-0.13983144, -0.75710552, -0.11963878, ...,  0.2123977 ,\n",
       "        -0.2123977 ,  0.        ],\n",
       "       [-0.1542788 , -1.04127953, -0.11974574, ...,  0.2123977 ,\n",
       "        -0.2123977 ,  0.        ]])"
      ]
     },
     "execution_count": 84,
     "metadata": {},
     "output_type": "execute_result"
    }
   ],
   "source": [
    "scaled = StandardScaler().fit_transform(df_encoded)\n",
    "scaled"
   ]
  },
  {
   "cell_type": "markdown",
   "metadata": {},
   "source": [
    "### Reducing Dimensions Using PCA"
   ]
  },
  {
   "cell_type": "code",
   "execution_count": 85,
   "metadata": {},
   "outputs": [
    {
     "data": {
      "text/plain": [
       "array([[-0.59754913, -0.23289183, -0.9820036 ],\n",
       "       [ 2.17770104, -0.3908791 , -0.62948162],\n",
       "       [-0.50748332, -0.37633742, -0.65145546],\n",
       "       ...,\n",
       "       [-0.07249721, -0.61612798,  0.28753551],\n",
       "       [-0.44289572, -0.40496198, -0.51710298],\n",
       "       [-0.36272413, -0.40711245, -1.05848909]])"
      ]
     },
     "execution_count": 85,
     "metadata": {},
     "output_type": "execute_result"
    }
   ],
   "source": [
    "# Using PCA to reduce dimension to 3 principal components\n",
    "pca = PCA(n_components=3)\n",
    "data_pca = pca.fit_transform(scaled)\n",
    "data_pca"
   ]
  },
  {
   "cell_type": "code",
   "execution_count": 86,
   "metadata": {},
   "outputs": [
    {
     "data": {
      "text/html": [
       "<div>\n",
       "<style scoped>\n",
       "    .dataframe tbody tr th:only-of-type {\n",
       "        vertical-align: middle;\n",
       "    }\n",
       "\n",
       "    .dataframe tbody tr th {\n",
       "        vertical-align: top;\n",
       "    }\n",
       "\n",
       "    .dataframe thead th {\n",
       "        text-align: right;\n",
       "    }\n",
       "</style>\n",
       "<table border=\"1\" class=\"dataframe\">\n",
       "  <thead>\n",
       "    <tr style=\"text-align: right;\">\n",
       "      <th></th>\n",
       "      <th>p1</th>\n",
       "      <th>p2</th>\n",
       "      <th>p3</th>\n",
       "    </tr>\n",
       "  </thead>\n",
       "  <tbody>\n",
       "    <tr>\n",
       "      <td>0</td>\n",
       "      <td>-0.597549</td>\n",
       "      <td>-0.232892</td>\n",
       "      <td>-0.982004</td>\n",
       "    </tr>\n",
       "    <tr>\n",
       "      <td>1</td>\n",
       "      <td>2.177701</td>\n",
       "      <td>-0.390879</td>\n",
       "      <td>-0.629482</td>\n",
       "    </tr>\n",
       "    <tr>\n",
       "      <td>2</td>\n",
       "      <td>-0.507483</td>\n",
       "      <td>-0.376337</td>\n",
       "      <td>-0.651455</td>\n",
       "    </tr>\n",
       "    <tr>\n",
       "      <td>3</td>\n",
       "      <td>-0.338362</td>\n",
       "      <td>0.181992</td>\n",
       "      <td>0.153014</td>\n",
       "    </tr>\n",
       "    <tr>\n",
       "      <td>4</td>\n",
       "      <td>-0.391618</td>\n",
       "      <td>-0.400189</td>\n",
       "      <td>-1.092175</td>\n",
       "    </tr>\n",
       "    <tr>\n",
       "      <td>...</td>\n",
       "      <td>...</td>\n",
       "      <td>...</td>\n",
       "      <td>...</td>\n",
       "    </tr>\n",
       "    <tr>\n",
       "      <td>551</td>\n",
       "      <td>-0.361981</td>\n",
       "      <td>-0.419398</td>\n",
       "      <td>-1.008709</td>\n",
       "    </tr>\n",
       "    <tr>\n",
       "      <td>552</td>\n",
       "      <td>-0.353978</td>\n",
       "      <td>-0.431440</td>\n",
       "      <td>-0.940249</td>\n",
       "    </tr>\n",
       "    <tr>\n",
       "      <td>553</td>\n",
       "      <td>-0.072497</td>\n",
       "      <td>-0.616128</td>\n",
       "      <td>0.287536</td>\n",
       "    </tr>\n",
       "    <tr>\n",
       "      <td>554</td>\n",
       "      <td>-0.442896</td>\n",
       "      <td>-0.404962</td>\n",
       "      <td>-0.517103</td>\n",
       "    </tr>\n",
       "    <tr>\n",
       "      <td>555</td>\n",
       "      <td>-0.362724</td>\n",
       "      <td>-0.407112</td>\n",
       "      <td>-1.058489</td>\n",
       "    </tr>\n",
       "  </tbody>\n",
       "</table>\n",
       "<p>556 rows × 3 columns</p>\n",
       "</div>"
      ],
      "text/plain": [
       "           p1        p2        p3\n",
       "0   -0.597549 -0.232892 -0.982004\n",
       "1    2.177701 -0.390879 -0.629482\n",
       "2   -0.507483 -0.376337 -0.651455\n",
       "3   -0.338362  0.181992  0.153014\n",
       "4   -0.391618 -0.400189 -1.092175\n",
       "..        ...       ...       ...\n",
       "551 -0.361981 -0.419398 -1.008709\n",
       "552 -0.353978 -0.431440 -0.940249\n",
       "553 -0.072497 -0.616128  0.287536\n",
       "554 -0.442896 -0.404962 -0.517103\n",
       "555 -0.362724 -0.407112 -1.058489\n",
       "\n",
       "[556 rows x 3 columns]"
      ]
     },
     "execution_count": 86,
     "metadata": {},
     "output_type": "execute_result"
    }
   ],
   "source": [
    "# Creating a DataFrame with the principal components data\n",
    "df_pca = pd.DataFrame(\n",
    "    data=data_pca, columns=[\"p1\", \"p2\",\"p3\"]\n",
    ")\n",
    "df_pca"
   ]
  },
  {
   "cell_type": "markdown",
   "metadata": {},
   "source": [
    "### Clustering Crytocurrencies Using K-Means\n",
    "\n",
    "#### Finding the Best Value for `k` Using the Elbow Curve"
   ]
  },
  {
   "cell_type": "code",
   "execution_count": 87,
   "metadata": {},
   "outputs": [
    {
     "data": {
      "application/vnd.holoviews_exec.v0+json": "",
      "text/html": [
       "<div id='2070' style='display: table; margin: 0 auto;'>\n",
       "\n",
       "\n",
       "\n",
       "\n",
       "\n",
       "  <div class=\"bk-root\" id=\"a7b2b533-4810-4f13-95be-a4616b062c72\" data-root-id=\"2070\"></div>\n",
       "</div>\n",
       "<script type=\"application/javascript\">(function(root) {\n",
       "  function embed_document(root) {\n",
       "    \n",
       "  var docs_json = {\"b91c0740-e1ef-4fad-96f5-f40ef13ccf32\":{\"roots\":{\"references\":[{\"attributes\":{\"below\":[{\"id\":\"2079\",\"type\":\"LinearAxis\"}],\"center\":[{\"id\":\"2083\",\"type\":\"Grid\"},{\"id\":\"2088\",\"type\":\"Grid\"}],\"left\":[{\"id\":\"2084\",\"type\":\"LinearAxis\"}],\"margin\":null,\"min_border_bottom\":10,\"min_border_left\":10,\"min_border_right\":10,\"min_border_top\":10,\"plot_height\":300,\"plot_width\":700,\"renderers\":[{\"id\":\"2107\",\"type\":\"GlyphRenderer\"}],\"sizing_mode\":\"fixed\",\"title\":{\"id\":\"2071\",\"type\":\"Title\"},\"toolbar\":{\"id\":\"2094\",\"type\":\"Toolbar\"},\"x_range\":{\"id\":\"2067\",\"type\":\"Range1d\"},\"x_scale\":{\"id\":\"2075\",\"type\":\"LinearScale\"},\"y_range\":{\"id\":\"2068\",\"type\":\"Range1d\"},\"y_scale\":{\"id\":\"2077\",\"type\":\"LinearScale\"}},\"id\":\"2070\",\"subtype\":\"Figure\",\"type\":\"Plot\"},{\"attributes\":{},\"id\":\"2075\",\"type\":\"LinearScale\"},{\"attributes\":{\"line_alpha\":0.1,\"line_color\":\"#1f77b4\",\"line_width\":2,\"x\":{\"field\":\"k\"},\"y\":{\"field\":\"inertia\"}},\"id\":\"2105\",\"type\":\"Line\"},{\"attributes\":{},\"id\":\"2110\",\"type\":\"BasicTickFormatter\"},{\"attributes\":{\"line_color\":\"#1f77b4\",\"line_width\":2,\"x\":{\"field\":\"k\"},\"y\":{\"field\":\"inertia\"}},\"id\":\"2104\",\"type\":\"Line\"},{\"attributes\":{\"text\":\"Elbow Curve\",\"text_color\":{\"value\":\"black\"},\"text_font_size\":{\"value\":\"12pt\"}},\"id\":\"2071\",\"type\":\"Title\"},{\"attributes\":{\"ticks\":[1,2,3,4,5,6,7,8,9,10]},\"id\":\"2109\",\"type\":\"FixedTicker\"},{\"attributes\":{\"callback\":null,\"end\":4205.989680938606,\"reset_end\":4205.989680938606,\"reset_start\":323.95420914405946,\"start\":323.95420914405946,\"tags\":[[[\"inertia\",\"inertia\",null]]]},\"id\":\"2068\",\"type\":\"Range1d\"},{\"attributes\":{\"active_drag\":\"auto\",\"active_inspect\":\"auto\",\"active_multi\":null,\"active_scroll\":\"auto\",\"active_tap\":\"auto\",\"tools\":[{\"id\":\"2069\",\"type\":\"HoverTool\"},{\"id\":\"2089\",\"type\":\"SaveTool\"},{\"id\":\"2090\",\"type\":\"PanTool\"},{\"id\":\"2091\",\"type\":\"WheelZoomTool\"},{\"id\":\"2092\",\"type\":\"BoxZoomTool\"},{\"id\":\"2093\",\"type\":\"ResetTool\"}]},\"id\":\"2094\",\"type\":\"Toolbar\"},{\"attributes\":{},\"id\":\"2114\",\"type\":\"BasicTickFormatter\"},{\"attributes\":{},\"id\":\"2093\",\"type\":\"ResetTool\"},{\"attributes\":{},\"id\":\"2120\",\"type\":\"UnionRenderers\"},{\"attributes\":{\"overlay\":{\"id\":\"2122\",\"type\":\"BoxAnnotation\"}},\"id\":\"2092\",\"type\":\"BoxZoomTool\"},{\"attributes\":{},\"id\":\"2091\",\"type\":\"WheelZoomTool\"},{\"attributes\":{},\"id\":\"2090\",\"type\":\"PanTool\"},{\"attributes\":{},\"id\":\"2089\",\"type\":\"SaveTool\"},{\"attributes\":{\"callback\":null,\"data\":{\"inertia\":{\"__ndarray__\":\"yuC6W/1tsECKuwCx96ynQDYwbki1451AQv7IMd85k0BMo3yWYviLQOH6RGT6cIVAWeBNGKj+fUBlkA+02al5QIwGKgE6inZAebTOcEQ/dEA=\",\"dtype\":\"float64\",\"shape\":[10]},\"k\":[1,2,3,4,5,6,7,8,9,10]},\"selected\":{\"id\":\"2102\",\"type\":\"Selection\"},\"selection_policy\":{\"id\":\"2120\",\"type\":\"UnionRenderers\"}},\"id\":\"2101\",\"type\":\"ColumnDataSource\"},{\"attributes\":{},\"id\":\"2102\",\"type\":\"Selection\"},{\"attributes\":{\"dimension\":1,\"grid_line_color\":null,\"ticker\":{\"id\":\"2085\",\"type\":\"BasicTicker\"}},\"id\":\"2088\",\"type\":\"Grid\"},{\"attributes\":{},\"id\":\"2085\",\"type\":\"BasicTicker\"},{\"attributes\":{\"bottom_units\":\"screen\",\"fill_alpha\":{\"value\":0.5},\"fill_color\":{\"value\":\"lightgrey\"},\"left_units\":\"screen\",\"level\":\"overlay\",\"line_alpha\":{\"value\":1.0},\"line_color\":{\"value\":\"black\"},\"line_dash\":[4,4],\"line_width\":{\"value\":2},\"render_mode\":\"css\",\"right_units\":\"screen\",\"top_units\":\"screen\"},\"id\":\"2122\",\"type\":\"BoxAnnotation\"},{\"attributes\":{\"axis_label\":\"inertia\",\"bounds\":\"auto\",\"formatter\":{\"id\":\"2114\",\"type\":\"BasicTickFormatter\"},\"major_label_orientation\":\"horizontal\",\"ticker\":{\"id\":\"2085\",\"type\":\"BasicTicker\"}},\"id\":\"2084\",\"type\":\"LinearAxis\"},{\"attributes\":{\"grid_line_color\":null,\"ticker\":{\"id\":\"2080\",\"type\":\"BasicTicker\"}},\"id\":\"2083\",\"type\":\"Grid\"},{\"attributes\":{\"callback\":null,\"end\":10.0,\"reset_end\":10.0,\"reset_start\":1.0,\"start\":1.0,\"tags\":[[[\"k\",\"k\",null]]]},\"id\":\"2067\",\"type\":\"Range1d\"},{\"attributes\":{},\"id\":\"2080\",\"type\":\"BasicTicker\"},{\"attributes\":{\"source\":{\"id\":\"2101\",\"type\":\"ColumnDataSource\"}},\"id\":\"2108\",\"type\":\"CDSView\"},{\"attributes\":{\"axis_label\":\"k\",\"bounds\":\"auto\",\"formatter\":{\"id\":\"2110\",\"type\":\"BasicTickFormatter\"},\"major_label_orientation\":\"horizontal\",\"ticker\":{\"id\":\"2109\",\"type\":\"FixedTicker\"}},\"id\":\"2079\",\"type\":\"LinearAxis\"},{\"attributes\":{\"data_source\":{\"id\":\"2101\",\"type\":\"ColumnDataSource\"},\"glyph\":{\"id\":\"2104\",\"type\":\"Line\"},\"hover_glyph\":null,\"muted_glyph\":{\"id\":\"2106\",\"type\":\"Line\"},\"nonselection_glyph\":{\"id\":\"2105\",\"type\":\"Line\"},\"selection_glyph\":null,\"view\":{\"id\":\"2108\",\"type\":\"CDSView\"}},\"id\":\"2107\",\"type\":\"GlyphRenderer\"},{\"attributes\":{},\"id\":\"2077\",\"type\":\"LinearScale\"},{\"attributes\":{\"callback\":null,\"renderers\":[{\"id\":\"2107\",\"type\":\"GlyphRenderer\"}],\"tags\":[\"hv_created\"],\"tooltips\":[[\"k\",\"@{k}\"],[\"inertia\",\"@{inertia}\"]]},\"id\":\"2069\",\"type\":\"HoverTool\"},{\"attributes\":{\"line_alpha\":0.2,\"line_color\":\"#1f77b4\",\"line_width\":2,\"x\":{\"field\":\"k\"},\"y\":{\"field\":\"inertia\"}},\"id\":\"2106\",\"type\":\"Line\"}],\"root_ids\":[\"2070\"]},\"title\":\"Bokeh Application\",\"version\":\"1.3.4\"}};\n",
       "  var render_items = [{\"docid\":\"b91c0740-e1ef-4fad-96f5-f40ef13ccf32\",\"roots\":{\"2070\":\"a7b2b533-4810-4f13-95be-a4616b062c72\"}}];\n",
       "  root.Bokeh.embed.embed_items_notebook(docs_json, render_items);\n",
       "\n",
       "  }\n",
       "  if (root.Bokeh !== undefined) {\n",
       "    embed_document(root);\n",
       "  } else {\n",
       "    var attempts = 0;\n",
       "    var timer = setInterval(function(root) {\n",
       "      if (root.Bokeh !== undefined) {\n",
       "        embed_document(root);\n",
       "        clearInterval(timer);\n",
       "      }\n",
       "      attempts++;\n",
       "      if (attempts > 100) {\n",
       "        console.log(\"Bokeh: ERROR: Unable to run BokehJS code because BokehJS library is missing\");\n",
       "        clearInterval(timer);\n",
       "      }\n",
       "    }, 10, root)\n",
       "  }\n",
       "})(window);</script>"
      ],
      "text/plain": [
       ":Curve   [k]   (inertia)"
      ]
     },
     "execution_count": 87,
     "metadata": {
      "application/vnd.holoviews_exec.v0+json": {
       "id": "2070"
      }
     },
     "output_type": "execute_result"
    }
   ],
   "source": [
    "inertia = []\n",
    "k = list(range(1, 11))\n",
    "\n",
    "# Calculate the inertia for the range ok k values\n",
    "# Create the Elbow Curve using hvPlot\n",
    "\n",
    "for i in k:\n",
    "    km = KMeans(n_clusters=i, random_state=0)\n",
    "    km.fit(df_pca)\n",
    "    inertia.append(km.inertia_)\n",
    "\n",
    "# Create the Elbow Curve using hvPlot\n",
    "elbow_data = {\"k\": k, \"inertia\": inertia}\n",
    "df_elbow = pd.DataFrame(elbow_data)\n",
    "df_elbow.hvplot.line(x=\"k\", y=\"inertia\", xticks=k, title=\"Elbow Curve\")"
   ]
  },
  {
   "cell_type": "markdown",
   "metadata": {},
   "source": [
    "Running K-Means with `k=<you best value for k here>`"
   ]
  },
  {
   "cell_type": "code",
   "execution_count": 66,
   "metadata": {},
   "outputs": [],
   "source": [
    "def get_clusters(k, data):\n",
    "    # Initialize the K-Means model\n",
    "    model = KMeans(n_clusters=k, random_state=0)\n",
    "\n",
    "    # Fit the model\n",
    "    model.fit(data)\n",
    "\n",
    "    # Predict clusters\n",
    "    predictions = model.predict(data)\n",
    "\n",
    "    \n",
    "    data[\"class\"] = model.labels_\n",
    "\n",
    "    return data"
   ]
  },
  {
   "cell_type": "code",
   "execution_count": 90,
   "metadata": {},
   "outputs": [
    {
     "data": {
      "text/html": [
       "<div>\n",
       "<style scoped>\n",
       "    .dataframe tbody tr th:only-of-type {\n",
       "        vertical-align: middle;\n",
       "    }\n",
       "\n",
       "    .dataframe tbody tr th {\n",
       "        vertical-align: top;\n",
       "    }\n",
       "\n",
       "    .dataframe thead th {\n",
       "        text-align: right;\n",
       "    }\n",
       "</style>\n",
       "<table border=\"1\" class=\"dataframe\">\n",
       "  <thead>\n",
       "    <tr style=\"text-align: right;\">\n",
       "      <th></th>\n",
       "      <th>p1</th>\n",
       "      <th>p2</th>\n",
       "      <th>p3</th>\n",
       "      <th>class</th>\n",
       "    </tr>\n",
       "  </thead>\n",
       "  <tbody>\n",
       "    <tr>\n",
       "      <td>0</td>\n",
       "      <td>-0.597549</td>\n",
       "      <td>-0.232892</td>\n",
       "      <td>-0.982004</td>\n",
       "      <td>2</td>\n",
       "    </tr>\n",
       "    <tr>\n",
       "      <td>1</td>\n",
       "      <td>2.177701</td>\n",
       "      <td>-0.390879</td>\n",
       "      <td>-0.629482</td>\n",
       "      <td>2</td>\n",
       "    </tr>\n",
       "    <tr>\n",
       "      <td>2</td>\n",
       "      <td>-0.507483</td>\n",
       "      <td>-0.376337</td>\n",
       "      <td>-0.651455</td>\n",
       "      <td>2</td>\n",
       "    </tr>\n",
       "    <tr>\n",
       "      <td>3</td>\n",
       "      <td>-0.338362</td>\n",
       "      <td>0.181992</td>\n",
       "      <td>0.153014</td>\n",
       "      <td>2</td>\n",
       "    </tr>\n",
       "    <tr>\n",
       "      <td>4</td>\n",
       "      <td>-0.391618</td>\n",
       "      <td>-0.400189</td>\n",
       "      <td>-1.092175</td>\n",
       "      <td>2</td>\n",
       "    </tr>\n",
       "    <tr>\n",
       "      <td>5</td>\n",
       "      <td>-0.448834</td>\n",
       "      <td>-0.283830</td>\n",
       "      <td>-0.503448</td>\n",
       "      <td>2</td>\n",
       "    </tr>\n",
       "    <tr>\n",
       "      <td>6</td>\n",
       "      <td>-0.236639</td>\n",
       "      <td>0.065032</td>\n",
       "      <td>0.551220</td>\n",
       "      <td>0</td>\n",
       "    </tr>\n",
       "    <tr>\n",
       "      <td>7</td>\n",
       "      <td>-0.302109</td>\n",
       "      <td>-0.393446</td>\n",
       "      <td>-1.125366</td>\n",
       "      <td>2</td>\n",
       "    </tr>\n",
       "    <tr>\n",
       "      <td>8</td>\n",
       "      <td>-0.576395</td>\n",
       "      <td>-0.233508</td>\n",
       "      <td>-0.982765</td>\n",
       "      <td>2</td>\n",
       "    </tr>\n",
       "    <tr>\n",
       "      <td>9</td>\n",
       "      <td>-0.255204</td>\n",
       "      <td>-0.492352</td>\n",
       "      <td>-0.822031</td>\n",
       "      <td>2</td>\n",
       "    </tr>\n",
       "    <tr>\n",
       "      <td>10</td>\n",
       "      <td>2.319115</td>\n",
       "      <td>-0.715266</td>\n",
       "      <td>-1.434039</td>\n",
       "      <td>2</td>\n",
       "    </tr>\n",
       "    <tr>\n",
       "      <td>11</td>\n",
       "      <td>-0.026256</td>\n",
       "      <td>-0.521918</td>\n",
       "      <td>-0.869970</td>\n",
       "      <td>2</td>\n",
       "    </tr>\n",
       "    <tr>\n",
       "      <td>12</td>\n",
       "      <td>-0.323514</td>\n",
       "      <td>-0.397168</td>\n",
       "      <td>-1.108699</td>\n",
       "      <td>2</td>\n",
       "    </tr>\n",
       "    <tr>\n",
       "      <td>13</td>\n",
       "      <td>-0.388360</td>\n",
       "      <td>-0.403097</td>\n",
       "      <td>-1.078348</td>\n",
       "      <td>2</td>\n",
       "    </tr>\n",
       "    <tr>\n",
       "      <td>14</td>\n",
       "      <td>-0.528608</td>\n",
       "      <td>-0.228530</td>\n",
       "      <td>-1.004286</td>\n",
       "      <td>2</td>\n",
       "    </tr>\n",
       "    <tr>\n",
       "      <td>15</td>\n",
       "      <td>-0.463654</td>\n",
       "      <td>-0.530782</td>\n",
       "      <td>-1.015585</td>\n",
       "      <td>2</td>\n",
       "    </tr>\n",
       "    <tr>\n",
       "      <td>16</td>\n",
       "      <td>-0.296250</td>\n",
       "      <td>-0.394386</td>\n",
       "      <td>-1.120854</td>\n",
       "      <td>2</td>\n",
       "    </tr>\n",
       "    <tr>\n",
       "      <td>17</td>\n",
       "      <td>-0.588769</td>\n",
       "      <td>-0.234521</td>\n",
       "      <td>-0.974104</td>\n",
       "      <td>2</td>\n",
       "    </tr>\n",
       "    <tr>\n",
       "      <td>18</td>\n",
       "      <td>-0.395847</td>\n",
       "      <td>-0.404844</td>\n",
       "      <td>-1.069132</td>\n",
       "      <td>2</td>\n",
       "    </tr>\n",
       "    <tr>\n",
       "      <td>19</td>\n",
       "      <td>-0.520713</td>\n",
       "      <td>-0.228717</td>\n",
       "      <td>-1.002704</td>\n",
       "      <td>2</td>\n",
       "    </tr>\n",
       "  </tbody>\n",
       "</table>\n",
       "</div>"
      ],
      "text/plain": [
       "          p1        p2        p3  class\n",
       "0  -0.597549 -0.232892 -0.982004      2\n",
       "1   2.177701 -0.390879 -0.629482      2\n",
       "2  -0.507483 -0.376337 -0.651455      2\n",
       "3  -0.338362  0.181992  0.153014      2\n",
       "4  -0.391618 -0.400189 -1.092175      2\n",
       "5  -0.448834 -0.283830 -0.503448      2\n",
       "6  -0.236639  0.065032  0.551220      0\n",
       "7  -0.302109 -0.393446 -1.125366      2\n",
       "8  -0.576395 -0.233508 -0.982765      2\n",
       "9  -0.255204 -0.492352 -0.822031      2\n",
       "10  2.319115 -0.715266 -1.434039      2\n",
       "11 -0.026256 -0.521918 -0.869970      2\n",
       "12 -0.323514 -0.397168 -1.108699      2\n",
       "13 -0.388360 -0.403097 -1.078348      2\n",
       "14 -0.528608 -0.228530 -1.004286      2\n",
       "15 -0.463654 -0.530782 -1.015585      2\n",
       "16 -0.296250 -0.394386 -1.120854      2\n",
       "17 -0.588769 -0.234521 -0.974104      2\n",
       "18 -0.395847 -0.404844 -1.069132      2\n",
       "19 -0.520713 -0.228717 -1.002704      2"
      ]
     },
     "execution_count": 90,
     "metadata": {},
     "output_type": "execute_result"
    }
   ],
   "source": [
    " # Creating a new DataFrame including predicted clusters and cryptocurrencies features\n",
    "five_clusters = get_clusters(5, df_pca)\n",
    "five_clusters.head(20)"
   ]
  },
  {
   "cell_type": "code",
   "execution_count": 91,
   "metadata": {},
   "outputs": [],
   "source": [
    "df_info = crypto_df[['Algorithm', 'ProofType', 'TotalCoinsMined','TotalCoinSupply']]\n",
    "df_info.reset_index(inplace=True)\n",
    "df_aux.reset_index(inplace=True, drop=True)\n",
    "df_class = five_clusters[['class']]\n",
    "result = pd.concat([df_info,df_pca,df_aux], axis=1, join='inner')"
   ]
  },
  {
   "cell_type": "code",
   "execution_count": 92,
   "metadata": {},
   "outputs": [
    {
     "data": {
      "text/html": [
       "<div>\n",
       "<style scoped>\n",
       "    .dataframe tbody tr th:only-of-type {\n",
       "        vertical-align: middle;\n",
       "    }\n",
       "\n",
       "    .dataframe tbody tr th {\n",
       "        vertical-align: top;\n",
       "    }\n",
       "\n",
       "    .dataframe thead th {\n",
       "        text-align: right;\n",
       "    }\n",
       "</style>\n",
       "<table border=\"1\" class=\"dataframe\">\n",
       "  <thead>\n",
       "    <tr style=\"text-align: right;\">\n",
       "      <th></th>\n",
       "      <th>index</th>\n",
       "      <th>Algorithm</th>\n",
       "      <th>ProofType</th>\n",
       "      <th>TotalCoinsMined</th>\n",
       "      <th>TotalCoinSupply</th>\n",
       "      <th>p1</th>\n",
       "      <th>p2</th>\n",
       "      <th>p3</th>\n",
       "      <th>class</th>\n",
       "      <th>CoinName</th>\n",
       "    </tr>\n",
       "  </thead>\n",
       "  <tbody>\n",
       "    <tr>\n",
       "      <td>0</td>\n",
       "      <td>42</td>\n",
       "      <td>Scrypt</td>\n",
       "      <td>PoW/PoS</td>\n",
       "      <td>4.199995e+01</td>\n",
       "      <td>4.200000e+01</td>\n",
       "      <td>-0.597549</td>\n",
       "      <td>-0.232892</td>\n",
       "      <td>-0.982004</td>\n",
       "      <td>2</td>\n",
       "      <td>42 Coin</td>\n",
       "    </tr>\n",
       "    <tr>\n",
       "      <td>1</td>\n",
       "      <td>1337</td>\n",
       "      <td>X13</td>\n",
       "      <td>PoW/PoS</td>\n",
       "      <td>2.933949e+10</td>\n",
       "      <td>3.141593e+11</td>\n",
       "      <td>2.177701</td>\n",
       "      <td>-0.390879</td>\n",
       "      <td>-0.629482</td>\n",
       "      <td>2</td>\n",
       "      <td>EliteCoin</td>\n",
       "    </tr>\n",
       "    <tr>\n",
       "      <td>2</td>\n",
       "      <td>BTCD</td>\n",
       "      <td>SHA-256</td>\n",
       "      <td>PoW/PoS</td>\n",
       "      <td>1.288862e+06</td>\n",
       "      <td>2.200000e+07</td>\n",
       "      <td>-0.507483</td>\n",
       "      <td>-0.376337</td>\n",
       "      <td>-0.651455</td>\n",
       "      <td>2</td>\n",
       "      <td>BitcoinDark</td>\n",
       "    </tr>\n",
       "    <tr>\n",
       "      <td>3</td>\n",
       "      <td>XPY</td>\n",
       "      <td>SHA-256</td>\n",
       "      <td>PoS</td>\n",
       "      <td>1.199533e+07</td>\n",
       "      <td>1.250000e+07</td>\n",
       "      <td>-0.338362</td>\n",
       "      <td>0.181992</td>\n",
       "      <td>0.153014</td>\n",
       "      <td>2</td>\n",
       "      <td>PayCoin</td>\n",
       "    </tr>\n",
       "    <tr>\n",
       "      <td>4</td>\n",
       "      <td>PRC</td>\n",
       "      <td>Scrypt</td>\n",
       "      <td>PoW</td>\n",
       "      <td>6.070325e+06</td>\n",
       "      <td>2.100000e+07</td>\n",
       "      <td>-0.391618</td>\n",
       "      <td>-0.400189</td>\n",
       "      <td>-1.092175</td>\n",
       "      <td>2</td>\n",
       "      <td>ProsperCoin</td>\n",
       "    </tr>\n",
       "    <tr>\n",
       "      <td>...</td>\n",
       "      <td>...</td>\n",
       "      <td>...</td>\n",
       "      <td>...</td>\n",
       "      <td>...</td>\n",
       "      <td>...</td>\n",
       "      <td>...</td>\n",
       "      <td>...</td>\n",
       "      <td>...</td>\n",
       "      <td>...</td>\n",
       "      <td>...</td>\n",
       "    </tr>\n",
       "    <tr>\n",
       "      <td>551</td>\n",
       "      <td>NLG</td>\n",
       "      <td>Scrypt</td>\n",
       "      <td>PoW</td>\n",
       "      <td>4.150324e+08</td>\n",
       "      <td>1.680000e+09</td>\n",
       "      <td>-0.361981</td>\n",
       "      <td>-0.419398</td>\n",
       "      <td>-1.008709</td>\n",
       "      <td>2</td>\n",
       "      <td>Gulden</td>\n",
       "    </tr>\n",
       "    <tr>\n",
       "      <td>552</td>\n",
       "      <td>GAME</td>\n",
       "      <td>Scrypt</td>\n",
       "      <td>PoW</td>\n",
       "      <td>6.983610e+07</td>\n",
       "      <td>8.400000e+07</td>\n",
       "      <td>-0.353978</td>\n",
       "      <td>-0.431440</td>\n",
       "      <td>-0.940249</td>\n",
       "      <td>2</td>\n",
       "      <td>Gamecredits</td>\n",
       "    </tr>\n",
       "    <tr>\n",
       "      <td>553</td>\n",
       "      <td>SMART</td>\n",
       "      <td>Keccak</td>\n",
       "      <td>PoW</td>\n",
       "      <td>2.241009e+09</td>\n",
       "      <td>5.000000e+09</td>\n",
       "      <td>-0.072497</td>\n",
       "      <td>-0.616128</td>\n",
       "      <td>0.287536</td>\n",
       "      <td>2</td>\n",
       "      <td>SmartCash</td>\n",
       "    </tr>\n",
       "    <tr>\n",
       "      <td>554</td>\n",
       "      <td>EMC</td>\n",
       "      <td>SHA-256</td>\n",
       "      <td>PoW/PoS</td>\n",
       "      <td>4.305979e+07</td>\n",
       "      <td>1.000000e+09</td>\n",
       "      <td>-0.442896</td>\n",
       "      <td>-0.404962</td>\n",
       "      <td>-0.517103</td>\n",
       "      <td>2</td>\n",
       "      <td>Emercoin</td>\n",
       "    </tr>\n",
       "    <tr>\n",
       "      <td>555</td>\n",
       "      <td>MEC</td>\n",
       "      <td>Scrypt</td>\n",
       "      <td>PoW</td>\n",
       "      <td>3.825729e+07</td>\n",
       "      <td>4.200000e+07</td>\n",
       "      <td>-0.362724</td>\n",
       "      <td>-0.407112</td>\n",
       "      <td>-1.058489</td>\n",
       "      <td>2</td>\n",
       "      <td>MegaCoin</td>\n",
       "    </tr>\n",
       "  </tbody>\n",
       "</table>\n",
       "<p>556 rows × 10 columns</p>\n",
       "</div>"
      ],
      "text/plain": [
       "     index Algorithm ProofType  TotalCoinsMined  TotalCoinSupply        p1  \\\n",
       "0       42    Scrypt   PoW/PoS     4.199995e+01     4.200000e+01 -0.597549   \n",
       "1     1337       X13   PoW/PoS     2.933949e+10     3.141593e+11  2.177701   \n",
       "2     BTCD   SHA-256   PoW/PoS     1.288862e+06     2.200000e+07 -0.507483   \n",
       "3      XPY   SHA-256       PoS     1.199533e+07     1.250000e+07 -0.338362   \n",
       "4      PRC    Scrypt       PoW     6.070325e+06     2.100000e+07 -0.391618   \n",
       "..     ...       ...       ...              ...              ...       ...   \n",
       "551    NLG    Scrypt       PoW     4.150324e+08     1.680000e+09 -0.361981   \n",
       "552   GAME    Scrypt       PoW     6.983610e+07     8.400000e+07 -0.353978   \n",
       "553  SMART    Keccak       PoW     2.241009e+09     5.000000e+09 -0.072497   \n",
       "554    EMC   SHA-256   PoW/PoS     4.305979e+07     1.000000e+09 -0.442896   \n",
       "555    MEC    Scrypt       PoW     3.825729e+07     4.200000e+07 -0.362724   \n",
       "\n",
       "           p2        p3  class     CoinName  \n",
       "0   -0.232892 -0.982004      2      42 Coin  \n",
       "1   -0.390879 -0.629482      2    EliteCoin  \n",
       "2   -0.376337 -0.651455      2  BitcoinDark  \n",
       "3    0.181992  0.153014      2      PayCoin  \n",
       "4   -0.400189 -1.092175      2  ProsperCoin  \n",
       "..        ...       ...    ...          ...  \n",
       "551 -0.419398 -1.008709      2       Gulden  \n",
       "552 -0.431440 -0.940249      2  Gamecredits  \n",
       "553 -0.616128  0.287536      2    SmartCash  \n",
       "554 -0.404962 -0.517103      2     Emercoin  \n",
       "555 -0.407112 -1.058489      2     MegaCoin  \n",
       "\n",
       "[556 rows x 10 columns]"
      ]
     },
     "execution_count": 92,
     "metadata": {},
     "output_type": "execute_result"
    }
   ],
   "source": [
    "result"
   ]
  },
  {
   "cell_type": "markdown",
   "metadata": {},
   "source": [
    "### Visualizing Results\n",
    "\n",
    "#### 3D-Scatter with Clusters"
   ]
  },
  {
   "cell_type": "code",
   "execution_count": 94,
   "metadata": {},
   "outputs": [
    {
     "data": {
      "application/vnd.plotly.v1+json": {
       "config": {
        "plotlyServerURL": "https://plot.ly"
       },
       "data": [
        {
         "customdata": [
          [
           "Scrypt"
          ],
          [
           "X13"
          ],
          [
           "SHA-256"
          ],
          [
           "SHA-256"
          ],
          [
           "Scrypt"
          ],
          [
           "X15"
          ],
          [
           "Scrypt"
          ],
          [
           "Scrypt"
          ],
          [
           "Multiple"
          ],
          [
           "Scrypt"
          ],
          [
           "SHA-256"
          ],
          [
           "Scrypt"
          ],
          [
           "Scrypt"
          ],
          [
           "Scrypt"
          ],
          [
           "Groestl"
          ],
          [
           "Scrypt"
          ],
          [
           "Scrypt"
          ],
          [
           "Scrypt"
          ],
          [
           "Scrypt"
          ],
          [
           "Scrypt"
          ],
          [
           "X11"
          ],
          [
           "Scrypt"
          ],
          [
           "Groestl"
          ],
          [
           "SHA-256"
          ],
          [
           "Scrypt"
          ],
          [
           "Scrypt"
          ],
          [
           "Scrypt"
          ],
          [
           "Scrypt"
          ],
          [
           "Scrypt"
          ],
          [
           "Scrypt"
          ],
          [
           "Scrypt"
          ],
          [
           "Scrypt"
          ],
          [
           "Scrypt"
          ],
          [
           "X11"
          ],
          [
           "Scrypt"
          ],
          [
           "SHA-256"
          ],
          [
           "Scrypt"
          ],
          [
           "Scrypt"
          ],
          [
           "Scrypt"
          ],
          [
           "SHA3"
          ],
          [
           "HybridScryptHash256"
          ],
          [
           "Scrypt"
          ],
          [
           "Scrypt"
          ],
          [
           "SHA-256"
          ],
          [
           "Scrypt"
          ],
          [
           "Scrypt"
          ],
          [
           "Scrypt"
          ],
          [
           "NeoScrypt"
          ],
          [
           "Scrypt"
          ],
          [
           "Scrypt"
          ],
          [
           "Scrypt"
          ],
          [
           "Scrypt"
          ],
          [
           "X11"
          ],
          [
           "X11"
          ],
          [
           "Multiple"
          ],
          [
           "SHA-256"
          ],
          [
           "X11"
          ],
          [
           "SHA-256"
          ],
          [
           "SHA-256"
          ],
          [
           "SHA-256"
          ],
          [
           "X11"
          ],
          [
           "Scrypt"
          ],
          [
           "Scrypt"
          ],
          [
           "Scrypt"
          ],
          [
           "Scrypt"
          ],
          [
           "X11"
          ],
          [
           "Multiple"
          ],
          [
           "SHA-256"
          ],
          [
           "X13"
          ],
          [
           "Scrypt"
          ],
          [
           "Scrypt"
          ],
          [
           "SHA-256"
          ],
          [
           "Groestl"
          ],
          [
           "Scrypt"
          ],
          [
           "Scrypt"
          ],
          [
           "X13"
          ],
          [
           "Scrypt"
          ],
          [
           "Scrypt"
          ],
          [
           "Scrypt"
          ],
          [
           "Scrypt"
          ],
          [
           "X13"
          ],
          [
           "Multiple"
          ],
          [
           "Scrypt"
          ],
          [
           "Scrypt"
          ],
          [
           "X13"
          ],
          [
           "Stanford Folding"
          ],
          [
           "Scrypt"
          ],
          [
           "X11"
          ],
          [
           "X11"
          ],
          [
           "Multiple"
          ],
          [
           "QuBit"
          ],
          [
           "NeoScrypt"
          ],
          [
           "Scrypt"
          ],
          [
           "NeoScrypt"
          ],
          [
           "Blake"
          ],
          [
           "Scrypt"
          ],
          [
           "Scrypt"
          ],
          [
           "SHA-256"
          ],
          [
           "Scrypt"
          ],
          [
           "Scrypt"
          ],
          [
           "X11"
          ],
          [
           "Scrypt"
          ],
          [
           "M7 POW"
          ],
          [
           "Scrypt"
          ],
          [
           "SHA-256"
          ],
          [
           "Scrypt"
          ],
          [
           "X11"
          ],
          [
           "Scrypt"
          ],
          [
           "Scrypt"
          ],
          [
           "X11"
          ],
          [
           "Lyra2RE"
          ],
          [
           "SHA-256"
          ],
          [
           "QUAIT"
          ],
          [
           "X11"
          ],
          [
           "SHA-256"
          ],
          [
           "X11"
          ],
          [
           "X11"
          ],
          [
           "Scrypt"
          ],
          [
           "Scrypt"
          ],
          [
           "Scrypt"
          ],
          [
           "Scrypt"
          ],
          [
           "Scrypt"
          ],
          [
           "X13"
          ],
          [
           "X11"
          ],
          [
           "Scrypt"
          ],
          [
           "X15"
          ],
          [
           "X11"
          ],
          [
           "SHA-256"
          ],
          [
           "Scrypt"
          ],
          [
           "Scrypt"
          ],
          [
           "X11"
          ],
          [
           "SHA-256"
          ],
          [
           "1GB AES Pattern Search"
          ],
          [
           "SHA-256"
          ],
          [
           "X11"
          ],
          [
           "SHA-256"
          ],
          [
           "Scrypt"
          ],
          [
           "SHA-256"
          ],
          [
           "NIST5"
          ],
          [
           "Scrypt"
          ],
          [
           "X11"
          ],
          [
           "Scrypt"
          ],
          [
           "X11"
          ],
          [
           "Scrypt"
          ],
          [
           "Dagger"
          ],
          [
           "Scrypt"
          ],
          [
           "X11"
          ],
          [
           "Scrypt"
          ],
          [
           "SHA-256"
          ],
          [
           "Scrypt"
          ],
          [
           "X11"
          ],
          [
           "X11"
          ],
          [
           "SHA-256"
          ],
          [
           "SHA-256"
          ],
          [
           "NIST5"
          ],
          [
           "X11"
          ],
          [
           "Scrypt"
          ],
          [
           "Scrypt"
          ],
          [
           "Scrypt"
          ],
          [
           "X11"
          ],
          [
           "X11"
          ],
          [
           "Scrypt"
          ],
          [
           "CryptoNight"
          ],
          [
           "SHA-256"
          ],
          [
           "SHA-256"
          ],
          [
           "X11"
          ],
          [
           "Scrypt"
          ],
          [
           "Multiple"
          ],
          [
           "Scrypt"
          ],
          [
           "Scrypt"
          ],
          [
           "Scrypt"
          ],
          [
           "SHA-256"
          ],
          [
           "Scrypt"
          ],
          [
           "Scrypt"
          ],
          [
           "SHA-256D"
          ],
          [
           "Scrypt"
          ],
          [
           "X11"
          ],
          [
           "SHA-256D"
          ],
          [
           "Ethash"
          ],
          [
           "Equihash"
          ],
          [
           "X11"
          ],
          [
           "Scrypt"
          ],
          [
           "X11"
          ],
          [
           "X13"
          ],
          [
           "Scrypt"
          ],
          [
           "Scrypt"
          ],
          [
           "X11"
          ],
          [
           "X11"
          ],
          [
           "SHA-256"
          ],
          [
           "Scrypt"
          ],
          [
           "X11"
          ],
          [
           "Scrypt"
          ],
          [
           "Scrypt"
          ],
          [
           "X11"
          ],
          [
           "CryptoNight"
          ],
          [
           "Scrypt"
          ],
          [
           "Scrypt"
          ],
          [
           "Scrypt"
          ],
          [
           "QuBit"
          ],
          [
           "Scrypt"
          ],
          [
           "CryptoNight"
          ],
          [
           "Lyra2RE"
          ],
          [
           "Scrypt"
          ],
          [
           "SHA-256"
          ],
          [
           "X11"
          ],
          [
           "Scrypt"
          ],
          [
           "X11"
          ],
          [
           "Scrypt"
          ],
          [
           "CryptoNight-V7"
          ],
          [
           "Scrypt"
          ],
          [
           "Scrypt"
          ],
          [
           "Scrypt"
          ],
          [
           "X11"
          ],
          [
           "Equihash"
          ],
          [
           "Scrypt"
          ],
          [
           "Scrypt"
          ],
          [
           "Lyra2RE"
          ],
          [
           "Scrypt"
          ],
          [
           "Dagger-Hashimoto"
          ],
          [
           "X11"
          ],
          [
           "Blake2S"
          ],
          [
           "X11"
          ],
          [
           "Scrypt"
          ],
          [
           "X11"
          ],
          [
           "NIST5"
          ],
          [
           "X11"
          ],
          [
           "Scrypt"
          ],
          [
           "Scrypt"
          ],
          [
           "Scrypt"
          ],
          [
           "X11"
          ],
          [
           "Scrypt"
          ],
          [
           "Scrypt"
          ],
          [
           "Scrypt"
          ],
          [
           "SHA-256"
          ],
          [
           "Scrypt"
          ],
          [
           "X15"
          ],
          [
           "Scrypt"
          ],
          [
           "X11"
          ],
          [
           "CryptoNight-V7"
          ],
          [
           "536"
          ],
          [
           "Argon2d"
          ],
          [
           "Cloverhash"
          ],
          [
           "CryptoNight"
          ],
          [
           "NIST5"
          ],
          [
           "X11"
          ],
          [
           "NIST5"
          ],
          [
           "Skein"
          ],
          [
           "Scrypt"
          ],
          [
           "X13"
          ],
          [
           "Scrypt"
          ],
          [
           "X11"
          ],
          [
           "X11"
          ],
          [
           "Scrypt"
          ],
          [
           "Ethash"
          ],
          [
           "CryptoNight"
          ],
          [
           "X13"
          ],
          [
           "Time Travel"
          ],
          [
           "Scrypt"
          ],
          [
           "X11"
          ],
          [
           "Skein"
          ],
          [
           "X11"
          ],
          [
           "Scrypt"
          ],
          [
           "Scrypt"
          ],
          [
           "Scrypt"
          ],
          [
           "Scrypt"
          ],
          [
           "Scrypt"
          ],
          [
           "Scrypt"
          ],
          [
           "Scrypt"
          ],
          [
           "Scrypt"
          ],
          [
           "Scrypt"
          ],
          [
           "CryptoNight"
          ],
          [
           "X11"
          ],
          [
           "Equihash"
          ],
          [
           "NeoScrypt"
          ],
          [
           "X11"
          ],
          [
           "Scrypt"
          ],
          [
           "NeoScrypt"
          ],
          [
           "Scrypt"
          ],
          [
           "SHA-256"
          ],
          [
           "NIST5"
          ],
          [
           "PHI1612"
          ],
          [
           "Dagger"
          ],
          [
           "Scrypt"
          ],
          [
           "Scrypt"
          ],
          [
           "X11"
          ],
          [
           "NeoScrypt"
          ],
          [
           "Ethash"
          ],
          [
           "NeoScrypt"
          ],
          [
           "X11"
          ],
          [
           "NIST5"
          ],
          [
           "Multiple"
          ],
          [
           "Scrypt"
          ],
          [
           "CryptoNight"
          ],
          [
           "SHA-256"
          ],
          [
           "CryptoNight"
          ],
          [
           "Ethash"
          ],
          [
           "X11"
          ],
          [
           "CryptoNight-V7"
          ],
          [
           "Scrypt"
          ],
          [
           "Scrypt"
          ],
          [
           "Scrypt"
          ],
          [
           "X11"
          ],
          [
           "BLAKE256"
          ],
          [
           "X11"
          ],
          [
           "NeoScrypt"
          ],
          [
           "NeoScrypt"
          ],
          [
           "Scrypt"
          ],
          [
           "Scrypt"
          ],
          [
           "Scrypt"
          ],
          [
           "X11"
          ],
          [
           "SHA-256"
          ],
          [
           "C11"
          ],
          [
           "SkunkHash"
          ],
          [
           "Scrypt"
          ],
          [
           "CryptoNight"
          ],
          [
           "Scrypt"
          ],
          [
           "Lyra2REv2"
          ],
          [
           "Scrypt"
          ],
          [
           "Scrypt"
          ],
          [
           "X11"
          ],
          [
           "C11"
          ],
          [
           "X11"
          ],
          [
           "CryptoNight"
          ],
          [
           "Scrypt"
          ],
          [
           "IMesh"
          ],
          [
           "NIST5"
          ],
          [
           "Scrypt"
          ],
          [
           "Scrypt"
          ],
          [
           "Equihash"
          ],
          [
           "Lyra2Z"
          ],
          [
           "Scrypt"
          ],
          [
           "X11"
          ],
          [
           "CryptoNight"
          ],
          [
           "NIST5"
          ],
          [
           "Tribus"
          ],
          [
           "Lyra2Z"
          ],
          [
           "CryptoNight Heavy"
          ],
          [
           "Scrypt"
          ],
          [
           "Jump Consistent Hash"
          ],
          [
           "SHA-256D"
          ],
          [
           "CryptoNight"
          ],
          [
           "Scrypt"
          ],
          [
           "HMQ1725"
          ],
          [
           "X11"
          ],
          [
           "Lyra2REv2"
          ],
          [
           "Scrypt"
          ],
          [
           "Scrypt"
          ],
          [
           "CryptoNight-V7"
          ],
          [
           "Cryptonight-GPU"
          ],
          [
           "X11"
          ],
          [
           "X11"
          ],
          [
           "Scrypt"
          ],
          [
           "Equihash"
          ],
          [
           "Lyra2Z"
          ],
          [
           "CryptoNight"
          ],
          [
           "Scrypt"
          ],
          [
           "Scrypt"
          ],
          [
           "QuBit"
          ],
          [
           "Scrypt"
          ],
          [
           "SHA-256"
          ],
          [
           "SHA-256"
          ],
          [
           "SHA-256"
          ],
          [
           "Ethash"
          ],
          [
           "Multiple"
          ],
          [
           "HEX"
          ],
          [
           "SHA-256"
          ],
          [
           "Ethash"
          ],
          [
           "Scrypt"
          ],
          [
           "CryptoNight-V7"
          ],
          [
           "X11"
          ],
          [
           "Ethash"
          ],
          [
           "Equihash"
          ],
          [
           "SHA-256"
          ],
          [
           "BLAKE256"
          ],
          [
           "Equihash"
          ],
          [
           "Equihash"
          ],
          [
           "Blake2b"
          ],
          [
           "Equihash210,9"
          ],
          [
           "Lyra2REv2"
          ],
          [
           "Multiple"
          ],
          [
           "Multiple"
          ],
          [
           "Scrypt"
          ],
          [
           "NeoScrypt"
          ],
          [
           "SHA-256"
          ],
          [
           "Blake2b"
          ],
          [
           "CryptoNight"
          ],
          [
           "Equihash"
          ],
          [
           "Lyra2Z"
          ],
          [
           "SHA3"
          ],
          [
           "SHA-256"
          ],
          [
           "X13"
          ],
          [
           "X11"
          ],
          [
           "X11GOST"
          ],
          [
           "Scrypt"
          ],
          [
           "X13"
          ],
          [
           "Groestl"
          ],
          [
           "Quark"
          ],
          [
           "Scrypt"
          ],
          [
           "Shabal256"
          ],
          [
           "Ethash"
          ],
          [
           "Scrypt"
          ],
          [
           "Scrypt"
          ],
          [
           "CryptoNight"
          ],
          [
           "Scrypt"
          ],
          [
           "Scrypt"
          ],
          [
           "Scrypt"
          ],
          [
           "Keccak"
          ],
          [
           "SHA-256"
          ],
          [
           "Scrypt"
          ]
         ],
         "hoverlabel": {
          "namelength": 0
         },
         "hovertemplate": "<b>%{hovertext}</b><br><br>class=%{marker.color}<br>p3=%{x}<br>p2=%{y}<br>p1=%{z}<br>Algorithm=%{customdata[0]}",
         "hovertext": [
          "42 Coin",
          "EliteCoin",
          "BitcoinDark",
          "PayCoin",
          "ProsperCoin",
          "KoboCoin",
          "Argentum",
          "BlueCoin",
          "MyriadCoin",
          "MoonCoin",
          "ZetaCoin",
          "SexCoin",
          "Quatloo",
          "EnergyCoin",
          "Riecoin",
          "Digitalcoin ",
          "BitBar",
          "Catcoin",
          "CryptoBullion",
          "CannaCoin",
          "CryptCoin",
          "CasinoCoin",
          "Diamond",
          "DevCoin",
          "EarthCoin",
          "E-Gulden",
          "Emerald",
          "FlutterCoin",
          "Franko",
          "GrandCoin",
          "GlobalCoin",
          "GoldCoin",
          "HoboNickels",
          "HyperStake",
          "Infinite Coin",
          "IXcoin",
          "KrugerCoin",
          "LuckyCoin",
          "Litebar ",
          "MaxCoin",
          "MediterraneanCoin",
          "MintCoin",
          "MinCoin",
          "MazaCoin",
          "Nautilus Coin",
          "NobleCoin",
          "NyanCoin",
          "Orbitcoin",
          "PhoenixCoin",
          "RonPaulCoin",
          "StableCoin",
          "SmartCoin",
          "SuperCoin",
          "SyncCoin",
          "TeslaCoin",
          "TigerCoin",
          "TorCoin",
          "TerraCoin",
          "UnbreakableCoin",
          "Unobtanium",
          "UroCoin",
          "UnitaryStatus Dollar",
          "UltraCoin",
          "VeriCoin",
          "WorldCoin",
          "X11 Coin",
          "Crypti",
          "JouleCoin",
          "StealthCoin",
          "ZCC Coin",
          "MonaCoin",
          "Neutron",
          "FairCoin",
          "RubyCoin",
          "PesetaCoin",
          "Kore",
          "Wild Beast Coin",
          "Dnotes",
          "Flo",
          "8BIT Coin",
          "Sativa Coin",
          "JoinCoin",
          "ArtByte",
          "LiteDoge",
          "Triangles Coin",
          "Folding Coin",
          "SolarCoin",
          "TruckCoin",
          "Ucoin",
          "Unitus",
          "CypherPunkCoin",
          "UFO Coin",
          "OrangeCoin",
          "FriendshipCoin",
          "BlakeCoin",
          "OmniCron",
          "BitstarCoin",
          "NeosCoin",
          "HyperCoin",
          "Vtorrent",
          "PinkCoin",
          "GreenCoin",
          "Cryptonite",
          "BitcoinPlus",
          "SoonCoin",
          "1Credit",
          "IslaCoin",
          "Crypto Escudo",
          "AudioCoin",
          "MarsCoin ",
          "Crypto",
          "Anarchists Prime",
          "Droidz",
          "BowsCoin",
          "IncaKoin",
          "Squall Coin",
          "Piggy Coin",
          "Genstake",
          "Song Coin",
          "SmileyCoin",
          "BitZeny",
          "XiaoMiCoin",
          "Paycon",
          "CapriCoin",
          " ClubCoin",
          "EverGreenCoin",
          "MindCoin",
          "I0coin",
          "Bata",
          "Pakcoin",
          "Creditbit ",
          "OKCash",
          "HOdlcoin",
          "EDRCoin",
          "Hitcoin",
          "DubaiCoin",
          "HiCoin",
          "CarpeDiemCoin",
          "PWR Coin",
          "BillaryCoin",
          "Influxcoin",
          "GPU Coin",
          "Adzcoin",
          "Gapcoin",
          "SoilCoin",
          "YoCoin",
          "EuropeCoin",
          "ZeitCoin",
          "SwingCoin",
          "Francs",
          "BolivarCoin",
          "Ratecoin",
          "Revenu",
          "Clockcoin",
          "VIP Tokens",
          "BitSend",
          "PutinCoin",
          "iBankCoin",
          "Frankywillcoin",
          "PizzaCoin",
          "GoldBlocks",
          "CarterCoin",
          "Karbo",
          "BitTokens",
          "ZayedCoin",
          "MustangCoin",
          "ZoneCoin",
          "Circuits of Value",
          "RootCoin",
          "DopeCoin",
          "BitCurrency",
          "DollarCoin",
          "Swiscoin",
          "Shilling",
          "BuzzCoin",
          "PesoBit",
          "Halloween Coin",
          "LanaCoin",
          "Elementrem",
          "ZClassic",
          "InsaneCoin",
          "KiloCoin",
          "ArtexCoin",
          "EmberCoin",
          "PLNCoin",
          "AquariusCoin",
          "Kurrent",
          "Eternity",
          "Eurocoin",
          "BitcoinFast",
          "Stakenet",
          "BitConnect Coin",
          "MoneyCoin",
          "Enigma",
          "Cannabis Industry Coin",
          "Russiacoin",
          "PandaCoin",
          "GameUnits",
          "LiteCreed",
          "OsmiumCoin",
          "Bikercoins",
          "HexxCoin",
          "Klingon Empire Darsek",
          "Internet of People",
          "KushCoin",
          "Printerium",
          "PacCoin",
          "Impeach",
          "Citadel",
          "Zilbercoin",
          "FirstCoin",
          "BeaverCoin",
          "VaultCoin",
          "Zero",
          "OpenChat",
          "Canada eCoin",
          "Zoin",
          "RenosCoin",
          "DubaiCoin",
          "VirtacoinPlus",
          "TajCoin",
          "Impact",
          "EB3coin",
          "HappyCoin",
          "Coinonat",
          "Condensate",
          "Independent Money System",
          "ArgusCoin",
          "LomoCoin",
          "GoldReserve",
          "BenjiRolls",
          "ParallelCoin",
          "GrowthCoin",
          "ILCoin",
          "Degas Coin",
          "HTML5 Coin",
          "EquiTrader",
          "Insane Coin",
          "Quantum Resistant Ledger",
          "Espers",
          "Dynamic",
          "ChanCoin",
          "Dinastycoin",
          "Denarius",
          "DigitalPrice",
          "Virta Unique Coin",
          "Bitcoin Planet",
          "Unify",
          "BritCoin",
          "SocialCoin",
          "ArcticCoin",
          "DAS",
          "Linda",
          "Reality Clash",
          "LeviarCoin",
          "DeepOnion",
          "Bitcore",
          "gCn Coin",
          "Onix",
          "Cream",
          "Monoeci",
          "Draftcoin",
          "Sojourn Coin",
          "NewYorkCoin",
          "FrazCoin",
          "Kronecoin",
          "AdCoin",
          "Linx",
          "CoinonatX",
          "Ethereum Dark",
          "Sumokoin",
          "Regalcoin",
          "BitcoinZ",
          "TrezarCoin",
          "Elements",
          "TerraNovaCoin",
          "VIVO Coin",
          "WomenCoin",
          "Theresa May Coin",
          "NamoCoin",
          "LUXCoin",
          "Pirl",
          "Xios",
          "BlackholeCoin",
          "Pura",
          "Innova",
          "Ellaism",
          "GoByte",
          "Magnet",
          "Electra",
          "SHIELD",
          "Cash & Back Coin",
          "UltraNote",
          "GlobalToken",
          "BitCoal",
          "DaxxCoin",
          "AC3",
          "Lethean",
          "GermanCoin",
          "LiteCoin Ultra",
          "PopularCoin",
          "PhantomX",
          "Photon",
          "Sucre",
          "SparksPay",
          "GunCoin",
          "IrishCoin",
          "Trollcoin",
          "Litecoin Plus",
          "Pioneer Coin",
          "UnitedBitcoin",
          "Interzone",
          "MUNcoin",
          "Unified Society USDEX",
          "Niobio Cash",
          "ShareChain",
          "KREDS",
          "BitFlip",
          "LottoCoin",
          "Crypto Improvement Fund",
          "Stipend",
          "Pushi",
          "BitTube",
          "Poseidon",
          "Aidos Kuneen",
          "Bitspace",
          "Briacoin",
          "Ignition",
          "Bitrolium",
          "Alpenschillling",
          "Abjcoin",
          "FuturoCoin",
          "Monero Classic",
          "Jumpcoin",
          "KEYCO",
          "GINcoin",
          "Loki",
          "Swisscoin",
          "MassGrid",
          "TheVig",
          "PluraCoin",
          "EmaratCoin",
          "PlusOneCoin",
          "Axe",
          "Absolute Coin",
          "HexCoin",
          "TPCash",
          "Webchain",
          "Ryo",
          "EUNO",
          "Azart",
          "ThunderStake",
          "CrypticCoin",
          "Actinium",
          "FREDEnergy",
          "Oduwa",
          "Credit",
          "SLICE",
          "Nasdacoin",
          "BLAST",
          "Bitcoin SV",
          "Project Pai",
          "Callisto Network",
          "Crown Coin",
          "XDNA",
          "Bitcoin",
          "Ethereum",
          "Litecoin",
          "Monero",
          "Dash",
          "Ethereum Classic",
          "ZCash",
          "Bitcoin Cash",
          "Decred",
          "Bitcoin Gold",
          "Komodo",
          "Siacoin",
          "Aion",
          "Vertcoin",
          "DigiByte",
          "Verge",
          "Reddcoin",
          "FeatherCoin",
          "Namecoin",
          "Nano",
          "ByteCoin",
          "Horizen",
          "ZCoin",
          "Nexus",
          "SysCoin",
          "NavCoin",
          "IOCoin",
          "SibCoin",
          "Aurora Coin",
          "Bitcoin Diamond",
          "Groestlcoin",
          "QuarkCoin",
          "Einsteinium",
          "BurstCoin",
          "Expanse",
          "ViaCoin",
          "WhiteCoin",
          "DigitalNote ",
          "PotCoin",
          "Gulden",
          "Gamecredits",
          "SmartCash",
          "Emercoin",
          "MegaCoin"
         ],
         "legendgroup": "class=2",
         "marker": {
          "color": [
           2,
           2,
           2,
           2,
           2,
           2,
           2,
           2,
           2,
           2,
           2,
           2,
           2,
           2,
           2,
           2,
           2,
           2,
           2,
           2,
           2,
           2,
           2,
           2,
           2,
           2,
           2,
           2,
           2,
           2,
           2,
           2,
           2,
           2,
           2,
           2,
           2,
           2,
           2,
           2,
           2,
           2,
           2,
           2,
           2,
           2,
           2,
           2,
           2,
           2,
           2,
           2,
           2,
           2,
           2,
           2,
           2,
           2,
           2,
           2,
           2,
           2,
           2,
           2,
           2,
           2,
           2,
           2,
           2,
           2,
           2,
           2,
           2,
           2,
           2,
           2,
           2,
           2,
           2,
           2,
           2,
           2,
           2,
           2,
           2,
           2,
           2,
           2,
           2,
           2,
           2,
           2,
           2,
           2,
           2,
           2,
           2,
           2,
           2,
           2,
           2,
           2,
           2,
           2,
           2,
           2,
           2,
           2,
           2,
           2,
           2,
           2,
           2,
           2,
           2,
           2,
           2,
           2,
           2,
           2,
           2,
           2,
           2,
           2,
           2,
           2,
           2,
           2,
           2,
           2,
           2,
           2,
           2,
           2,
           2,
           2,
           2,
           2,
           2,
           2,
           2,
           2,
           2,
           2,
           2,
           2,
           2,
           2,
           2,
           2,
           2,
           2,
           2,
           2,
           2,
           2,
           2,
           2,
           2,
           2,
           2,
           2,
           2,
           2,
           2,
           2,
           2,
           2,
           2,
           2,
           2,
           2,
           2,
           2,
           2,
           2,
           2,
           2,
           2,
           2,
           2,
           2,
           2,
           2,
           2,
           2,
           2,
           2,
           2,
           2,
           2,
           2,
           2,
           2,
           2,
           2,
           2,
           2,
           2,
           2,
           2,
           2,
           2,
           2,
           2,
           2,
           2,
           2,
           2,
           2,
           2,
           2,
           2,
           2,
           2,
           2,
           2,
           2,
           2,
           2,
           2,
           2,
           2,
           2,
           2,
           2,
           2,
           2,
           2,
           2,
           2,
           2,
           2,
           2,
           2,
           2,
           2,
           2,
           2,
           2,
           2,
           2,
           2,
           2,
           2,
           2,
           2,
           2,
           2,
           2,
           2,
           2,
           2,
           2,
           2,
           2,
           2,
           2,
           2,
           2,
           2,
           2,
           2,
           2,
           2,
           2,
           2,
           2,
           2,
           2,
           2,
           2,
           2,
           2,
           2,
           2,
           2,
           2,
           2,
           2,
           2,
           2,
           2,
           2,
           2,
           2,
           2,
           2,
           2,
           2,
           2,
           2,
           2,
           2,
           2,
           2,
           2,
           2,
           2,
           2,
           2,
           2,
           2,
           2,
           2,
           2,
           2,
           2,
           2,
           2,
           2,
           2,
           2,
           2,
           2,
           2,
           2,
           2,
           2,
           2,
           2,
           2,
           2,
           2,
           2,
           2,
           2,
           2,
           2,
           2,
           2,
           2,
           2,
           2,
           2,
           2,
           2,
           2,
           2,
           2,
           2,
           2,
           2,
           2,
           2,
           2,
           2,
           2,
           2,
           2,
           2,
           2,
           2,
           2,
           2,
           2,
           2,
           2,
           2,
           2,
           2,
           2,
           2,
           2,
           2,
           2,
           2,
           2,
           2,
           2,
           2,
           2,
           2,
           2,
           2,
           2,
           2,
           2,
           2,
           2,
           2,
           2,
           2,
           2,
           2,
           2,
           2,
           2,
           2,
           2,
           2,
           2,
           2,
           2,
           2,
           2,
           2,
           2,
           2,
           2,
           2,
           2,
           2,
           2,
           2,
           2,
           2,
           2,
           2
          ],
          "coloraxis": "coloraxis",
          "symbol": "circle"
         },
         "mode": "markers",
         "name": "class=2",
         "scene": "scene",
         "showlegend": true,
         "type": "scatter3d",
         "x": [
          -0.9820036011545806,
          -0.6294816171471398,
          -0.6514554577190261,
          0.1530143778306142,
          -1.0921749276567143,
          -0.5034481482990837,
          -1.1253661896187634,
          -0.9827648762356447,
          -0.822031081059367,
          -1.434038718434422,
          -0.8699703169225323,
          -1.108698847977458,
          -1.0783480841128428,
          -1.0042859428371156,
          -1.015584533649019,
          -1.1208541180560712,
          -0.974103713151591,
          -1.0691321148643886,
          -1.0027043283824886,
          -1.0765960324370865,
          -0.6624726768988588,
          -1.5603715968841347,
          -0.8976821416646095,
          -0.7774610806590299,
          -1.1222566547253923,
          -1.0769785089569195,
          -1.1638051409582408,
          -1.3494077269733773,
          -1.1088293400105675,
          -1.0569852757728515,
          -1.097732734180709,
          -1.0539443645590882,
          -1.024877857335342,
          0.24658117515869948,
          -1.3289276462119664,
          -0.7214837303722984,
          -1.1103453254252655,
          -1.0565769851957592,
          -1.0543376871644958,
          -1.0755105593337728,
          -1.0279163893114516,
          -0.6313768971709395,
          -1.0728654137589992,
          -0.6309613925162377,
          -0.1379833828041767,
          -1.0744510675366774,
          -1.0389477531263767,
          -0.5811809679350259,
          -0.9596459547632064,
          -1.0484877967391595,
          -1.043900816028093,
          -1.0458492199965908,
          0.21599709753406196,
          -0.5102355803002356,
          0.13463556185770684,
          -0.6917330744182137,
          -0.5113610920799956,
          -0.6908131572222977,
          -0.6899335251549776,
          -1.3748997788984387,
          -0.6065662588157675,
          -1.3781468256764946,
          -0.9570132600195747,
          -1.3299552583015803,
          -1.0217366385563138,
          -0.5138136173480173,
          0.17339831835504033,
          -0.7357791507186728,
          -0.3986724597463293,
          -0.95673778073039,
          -1.0123550429284636,
          -0.5756229393430097,
          -0.8376012480325531,
          -0.12101305488697653,
          -1.006305629836146,
          -0.3574685405966441,
          -1.018209968245909,
          -0.11094496656761367,
          -1.048223800459497,
          -0.9031295289216356,
          -0.3491442338936822,
          -0.7256732247930215,
          -1.0020997801847884,
          -0.9555357130316862,
          -0.36126439535551297,
          -0.9433986764637351,
          -1.126062461911441,
          -0.4989786018460708,
          0.32523929392850115,
          -0.7057902945475134,
          -0.5069998695392208,
          -0.6398949957097543,
          -0.8956120140056261,
          -0.5124112973760573,
          -0.2935746506768166,
          -0.9950369200943006,
          -0.9115096521884931,
          0.24175072814270246,
          -0.892456358886373,
          -0.8898676216391013,
          -0.4847762086526157,
          -1.013662021008163,
          -0.9172289598089414,
          -0.09349467094529335,
          -0.6458713365480974,
          -1.0664509817095866,
          -0.46001238493425856,
          -0.9940887976425927,
          -0.9160016536668107,
          -0.5673458545972967,
          -0.7704546988565195,
          -0.6371927687113097,
          -0.7153170422432311,
          -0.5540288686018656,
          -0.5883759487354342,
          0.4358212156705345,
          -0.47790364141999203,
          -0.8630455246358745,
          -0.9589286764447058,
          -1.0530265299833321,
          -0.9557766008833045,
          -0.856605033425839,
          -0.2980925726773491,
          -0.45882268144188987,
          -0.8575455068301917,
          -0.35058719783522435,
          -0.5286049132122659,
          -1.0587191715311415,
          -0.9456976414524695,
          -0.949606813526787,
          -0.3106688063763156,
          -0.5337037326791049,
          -0.8593827730057347,
          -0.5099892713151516,
          -0.4628827856326963,
          -0.5043194189655354,
          -0.07964887018550015,
          -0.6535423998337274,
          -0.3531573279128626,
          -0.8446657016805248,
          -0.42310893874788125,
          -0.025055426595984618,
          -0.5098015478306729,
          -0.8396881933484842,
          -0.6656162775668388,
          -0.9298563866102386,
          -0.40851915688579177,
          -0.23185382012302594,
          -0.4932945795009284,
          -0.9187429515529243,
          -0.5004266309950901,
          -0.3955773157990536,
          -0.46728758886883853,
          -0.9108510125282774,
          -0.28667035271589386,
          -0.38640953139397194,
          -0.7934246196223038,
          -0.7879527345465166,
          -0.7940390479430286,
          -0.46389101253671405,
          -0.36081026744938555,
          -0.7738686302938528,
          -0.493826232876498,
          -0.4348938499669585,
          -0.5347654628382027,
          -0.36106400969000224,
          -0.7681333851069059,
          -0.5803037064399487,
          -0.7663401554998845,
          -0.8659727926089559,
          0.04115041959992917,
          -0.525611641065535,
          -0.9191376375456927,
          -0.861149125494847,
          -0.18129119868388377,
          -0.7563393248112559,
          -0.34525575202264486,
          -0.12371735071969264,
          -0.06632106767775044,
          -0.2169189750180358,
          -0.3073203036700078,
          -0.8312767224007136,
          -0.40256278349913277,
          -0.29318339947823735,
          -0.712626942925541,
          -0.7331745765420885,
          -0.3941460690488548,
          -0.2998823153121724,
          -0.3743436580323355,
          -0.7397709836248697,
          -0.04924684704405218,
          -0.7188658934730067,
          -0.7058076836965335,
          -0.2839320736485975,
          -0.4187801234856827,
          -0.6973508262503596,
          -0.010491193111967091,
          -0.6951526632041526,
          -0.2042638122131994,
          -0.7861503855993168,
          -0.40254627622096684,
          -0.5897495825313557,
          -0.6799808128566902,
          -0.34468813632559614,
          -0.2615282857662091,
          -0.6709446503929994,
          -0.4510715475580797,
          -0.6700439986719376,
          -0.4325442875070344,
          0.13342698381218643,
          -0.7913803757110484,
          -0.7622232421716019,
          -0.34401221931248577,
          -0.2331110490907302,
          -0.6608442527479046,
          -0.8249513736008516,
          -0.5609766696209694,
          0.14323701817366444,
          -0.5047342262545867,
          -0.2646638178291657,
          -0.33767750272327524,
          -0.23248237451054896,
          -0.752475880297003,
          -0.23016060386957868,
          -0.22911343189024955,
          -0.22918854215225154,
          -0.6381425573029741,
          -0.6375527478453289,
          -0.6466439906186426,
          -0.21810414805040673,
          -0.7381871175473216,
          -0.7344455211445196,
          0.12553003833216522,
          -0.4202163034789273,
          -0.6299713661545567,
          -0.2609149249804469,
          -0.7329167998235875,
          -0.20906600072803416,
          -0.3927152265808025,
          -0.29962546032262666,
          0.3429460436455455,
          -0.4650949535691255,
          -0.3200691878176627,
          -0.0841053923594932,
          -0.28618266942810044,
          -0.08506320399876376,
          -0.20939756136011153,
          -0.696671002060036,
          -0.04221764170567321,
          -0.6955234030490329,
          -0.2755071854870247,
          -0.2644630176747498,
          -0.6464466523073324,
          0.08849511616675193,
          -0.2944481117121522,
          -0.0390105712924144,
          -0.39038937543579905,
          -1.089862053672471,
          -0.25968296014883313,
          -0.18275888866828427,
          -0.14703137819191292,
          0.2449075273312895,
          -0.6536153448589437,
          -0.8389696139103079,
          -0.6372758005396982,
          -0.6409329475224814,
          -0.6402866640619722,
          -0.6341347652466514,
          -0.5336010377320716,
          -0.5181750279034989,
          -0.23538504035148247,
          -0.09527859995187109,
          -0.0963257868650317,
          -0.12364157208881514,
          -0.1798809234908777,
          -0.49553013944712665,
          -0.205454469198411,
          -0.5700902248146503,
          -0.1434941368288239,
          0.03409275852615603,
          0.017711438691044946,
          -0.3136066142242346,
          -0.4700307475134638,
          -0.46907072186987187,
          -0.13797601903206116,
          -0.17423828393045374,
          0.2218116137075253,
          -0.15796122524196834,
          -0.022091837619499177,
          0.014182839572337473,
          -0.2445305309685824,
          -0.425243241765418,
          -0.25196108452479055,
          -0.18109283772030613,
          -0.13249275774542352,
          0.24268629740414016,
          -0.09432613843628876,
          -0.16833687671808084,
          -0.4577292294421565,
          -0.4036863081773907,
          -0.5110069130177859,
          0.008617824055336268,
          -0.34563227264200674,
          -0.0782304234304316,
          -0.10711384196814909,
          -0.11743314354681102,
          -0.4885202356013202,
          -0.42007125316947347,
          -0.4290221611888991,
          -0.0536668838222839,
          -0.13004787485739602,
          0.07745411937184324,
          0.07461560667915355,
          -0.3268713162219352,
          -0.03752862623140271,
          -0.4314155161399169,
          0.333960244962259,
          -0.3905791083643611,
          -0.4246458130357891,
          0.03584828075037209,
          0.2606821238698712,
          0.1429624055742022,
          0.016047570404841695,
          -0.3572447149240093,
          0.24411917815816986,
          0.26035726846989515,
          -0.24220792297819724,
          -0.23569684301980176,
          0.28549135068355197,
          0.2724270388520562,
          -0.22310715101932846,
          0.113291464372118,
          0.05714594333811441,
          0.21143867236685693,
          0.3611539438494441,
          0.3146685410490155,
          0.46122404918089027,
          -0.20591394279002204,
          0.48346202017027845,
          0.47287545389080027,
          0.1290058163505939,
          -0.14544826789102913,
          0.5118091138643662,
          0.18117342382166113,
          0.6196266670814192,
          -0.21318025763092457,
          -0.1185980684465033,
          0.12552079432639818,
          0.5229938825813766,
          0.30333925738321965,
          0.23847892416876723,
          -0.118338675638979,
          0.504195691820914,
          0.5157141879365605,
          0.3616413266996321,
          0.139477387485589,
          0.08824390371105093,
          0.6112846593727639,
          0.24869059895620885,
          0.4836714318885,
          0.21214283340539888,
          0.13204458839279673,
          0.3949682111642347,
          0.09462752202728006,
          0.6686681546701908,
          -0.7622937268623389,
          -0.42718458678278826,
          -1.1099137708344555,
          -0.7738642434214491,
          -0.5854089332269828,
          -0.3210197661991336,
          -0.48154670375392444,
          -0.488829765973741,
          -0.5863963880335746,
          0.02798204153465875,
          0.25045153746349275,
          -1.494791833531764,
          -0.15944216631542563,
          -0.29427179275913956,
          -0.8417011268639902,
          -0.8559901824964102,
          -1.0140143557984096,
          -0.7051098924182395,
          -0.703485920941993,
          -0.8370057744682466,
          -1.0658931777645875,
          -0.1164916571783175,
          -0.25245571439922826,
          -1.4599231692788575,
          -1.0479449959956226,
          -0.430229385252126,
          -0.5623860037046094,
          -0.8334369347476207,
          -1.0028738904436447,
          0.12283353944027126,
          -0.9149455508290854,
          0.1412595488762234,
          -1.08945765505564,
          -1.8126999718218584,
          -0.18535381818198415,
          -1.1021521342236074,
          -0.8492527007185333,
          -0.6538219547383128,
          -0.9780009264266813,
          -1.008709016979395,
          -0.9402494161419742,
          0.2875355124772893,
          -0.5171029848668929,
          -1.0584890917449126
         ],
         "y": [
          -0.23289183336372665,
          -0.39087909674223636,
          -0.37633741693885814,
          0.18199176074535248,
          -0.4001893141743071,
          -0.28382989299830147,
          -0.39344629116824875,
          -0.23350841807117484,
          -0.4923521567384234,
          -0.7152656900974605,
          -0.5219180173656512,
          -0.3971682410188916,
          -0.40309707888308666,
          -0.22852960265257963,
          -0.5307824458263978,
          -0.39438605073597566,
          -0.23452081379109316,
          -0.40484408973304237,
          -0.2287169375949843,
          -0.4033178485119255,
          -0.45165166480065905,
          0.8582613160169634,
          -0.3650260367638762,
          -0.5849859745682918,
          -0.42257362741408955,
          -0.40328183107262244,
          -0.3856510548221955,
          -0.18393565218610303,
          -0.39678497576125477,
          -0.40978654601314973,
          -0.3991792337334202,
          -0.4080506970139184,
          -0.22447270844652326,
          0.27302835810258225,
          -0.5508244831011136,
          -0.5518597968325923,
          -0.3971416792063776,
          -0.40745596174722665,
          -0.4078672034173716,
          -0.44993721428372535,
          -0.5691790636972304,
          0.23349882523247475,
          -0.4041508823208857,
          -0.39166243460755507,
          0.3172883892733728,
          -0.4216390501593969,
          -0.4117471786607402,
          -0.41002877533800564,
          -0.23788430470483055,
          -0.40910131306118513,
          -0.410628626470928,
          -0.4097045481939479,
          0.2811366249571219,
          -0.293035702091632,
          0.2284218824710459,
          -0.5579543552385652,
          -0.2928231480129827,
          -0.5581135891918121,
          -0.5583076247784496,
          -1.0462212581709307,
          -0.46306978107463315,
          -0.3164867979534123,
          -0.23838458802894957,
          -0.1804616544064543,
          -0.41495055945762704,
          -0.2923390009348933,
          0.22060812817795117,
          -0.5490135052466403,
          -0.08796817362179876,
          -0.23998265617072034,
          -0.41665444030376336,
          -0.39199858017389133,
          -0.377404558992523,
          0.3137681566545428,
          -0.4180408410631734,
          -0.09634180685157535,
          -0.415295532741439,
          0.31103821390593017,
          -0.4096241904573119,
          -0.24908408723261574,
          -0.09804290938229235,
          -0.5080304552034672,
          -0.4205239284918548,
          -0.293077917538061,
          -0.09557100214825434,
          -0.5745852029663496,
          -0.49171850734782446,
          -0.2983622297695181,
          0.25890756381359104,
          -0.5121525620805271,
          -0.6186753222518679,
          -0.5963607447986603,
          -0.2508332200312211,
          -0.4241490406994813,
          -0.6154211506357314,
          -0.4200449403813459,
          -0.24749800508083902,
          0.16376011241252034,
          -0.25139578256854533,
          -0.25183918311551107,
          -0.29931516308780687,
          -0.4317641951428943,
          -0.6009738063010249,
          0.308161681418552,
          -0.5673073445010685,
          -0.4976906908373685,
          -0.3033492320809036,
          -0.422460178863491,
          -0.258215830262532,
          -0.4712171778455436,
          -0.6228629826987562,
          -0.5695637086425415,
          -0.31266857785211993,
          -0.47407361524903185,
          -0.4123093493909427,
          -0.4019389321033496,
          -0.30133241887710654,
          -0.25739906991779193,
          -0.42768674106555266,
          -0.4939139936615035,
          -0.42842527818236537,
          -0.2597154211994606,
          -0.10858393486020544,
          -0.30409930446407546,
          -0.2588367459254498,
          -0.3148671601938822,
          -0.4791102250281529,
          -0.8708178457311828,
          -0.4301644576161196,
          -0.4296277387717417,
          -0.2664107271630645,
          -0.40073978701214313,
          -0.6374176226712335,
          -0.40540058944485147,
          -0.3425472536013497,
          -0.40654014101536606,
          0.2833051280010312,
          -0.6133860717016867,
          -0.396257073802123,
          -0.2611602926562862,
          -0.31096024017179524,
          0.2938675972925522,
          -0.48307409767107856,
          -0.2624037259736911,
          -0.6694863884695507,
          -0.4335856106483726,
          -0.3143262898281438,
          0.19289526821173522,
          -0.4088580198118444,
          -0.43572299769712647,
          -0.484917212632491,
          -0.31682896679627454,
          -0.4143517213795788,
          -0.4823913959430114,
          -0.39653684486606045,
          -0.3186470700962322,
          -0.27469537496634505,
          -0.272780104786813,
          -0.2717174434995191,
          -0.4923888624856712,
          -0.3237841868100319,
          -0.27576384006769383,
          -0.5873504681861882,
          -0.4207995878668043,
          -0.590100645980606,
          -0.323687297772726,
          -0.2768236316807024,
          -0.5402389872232564,
          -0.27716999725476843,
          -0.4468627216911736,
          0.2803418550467679,
          -0.5919844339925082,
          -0.2522160204555754,
          -0.4475616049732625,
          -0.3962666320772213,
          -0.2792610652732089,
          -0.3287857420872838,
          -0.3735052046053608,
          -0.5377387348964812,
          -0.7052337255595396,
          -0.3347499325541217,
          -0.4639165653547402,
          -0.5064406544903495,
          -0.2205655541026638,
          -0.2882550435893934,
          -0.28406806850586586,
          -0.5069841880364344,
          -0.33630737107433467,
          -0.4332447481854403,
          -0.2827498797314851,
          -0.31875428633348507,
          -0.28698038131959025,
          -0.29026209427006905,
          -0.33950586941834465,
          -0.6026515240093384,
          -0.29148692956730277,
          0.21796939209582383,
          -0.2918009124719273,
          -0.49112905555130415,
          -0.4629150970895941,
          -0.6059986538270541,
          -0.6647483192393994,
          -0.29542921377558123,
          -0.4399955561805251,
          -0.34414724012992404,
          -0.29678826286185783,
          -0.5960026712334486,
          -0.29696136756555036,
          -0.7044377534107659,
          0.2615332871748502,
          -0.2717062889208283,
          -0.46783107864302204,
          -0.5180153198585171,
          -0.7021086509380091,
          -0.3010267437768513,
          -0.45530698421830335,
          -0.6658422597304278,
          0.2594495027310179,
          -0.6880544180453958,
          -0.343639390191598,
          -0.3925836665934724,
          -0.3503060540618069,
          -0.47391625416174343,
          -0.350706094590126,
          -0.5980368564861067,
          -0.3554580593767353,
          -0.3035166249476637,
          -0.3036401124061466,
          -0.3027662973050184,
          -0.35307620455309957,
          -0.4728248709313376,
          -0.47352865379287695,
          0.2600757100329965,
          -0.6513582098340648,
          -0.30529751822003437,
          -0.47210912332599836,
          -0.4739461912023007,
          -0.35493408982164815,
          -0.7126966583447552,
          -0.48953148255913054,
          -0.5774541544539489,
          -0.6856576865422542,
          -0.627066440949221,
          -0.43795201604956296,
          -0.5293413206830676,
          -0.43793891784538974,
          -0.4380835068117908,
          -0.4813240811104586,
          -0.16109746933897443,
          -0.4816001226101798,
          -0.5312952204611604,
          -0.5333303906474042,
          -0.3637604787927395,
          -0.5695214966488529,
          -0.6282279868575167,
          -0.16178865324157243,
          -0.7392929553200382,
          -0.796171503338036,
          -0.5359548125637783,
          -0.4436028041622389,
          -0.3676461951743514,
          0.23860444609636328,
          -0.5006613982935896,
          -0.6233707881695969,
          -0.4935096319993721,
          -0.49340373403787297,
          -0.4930782009199862,
          -0.49426350544229036,
          -0.3250249524809816,
          -0.32812963360088343,
          -0.6403834953839656,
          -0.3782847099681776,
          -0.9258036552258518,
          -0.5045645684293206,
          -0.5557174832995312,
          -0.332802158188648,
          -0.6769554965197953,
          -0.4004747028464254,
          -0.48081775726657017,
          -0.4643486990348083,
          -0.4839549394697692,
          -0.7419208564290269,
          -0.3380289342999096,
          -0.3383367769107029,
          -0.5598390293477419,
          -0.6835272278368373,
          -0.5971361723828114,
          -0.6868268832714222,
          -0.3934619607798848,
          -0.5221705586892254,
          -0.6080425092318607,
          -0.3475533947701412,
          -0.7493021127309688,
          -0.6629764644005952,
          -0.6614271323545049,
          -0.6117843648809276,
          -0.5688972626152162,
          -0.7600097403859016,
          -0.3965811013038801,
          -0.3517876548327006,
          -0.5309549932586292,
          -0.40036880447536793,
          -0.8119897416759614,
          -0.571772438339629,
          -0.697308205618326,
          -0.6958838469926083,
          -0.5248255220952798,
          -0.34995474092635215,
          -0.34654082649075807,
          -0.5766316186064042,
          -0.673510356293205,
          -0.7576469193924902,
          -0.7853921778365195,
          -0.3683973195704362,
          -0.683928509605661,
          -0.55773363655562,
          -0.6940534881174734,
          -0.5441854389577462,
          -0.5729288404474746,
          -0.5957219400838392,
          -0.6053130842575125,
          -0.42717665943474237,
          -0.7012556263120843,
          -0.5510012956021716,
          -0.8255054578845655,
          -0.5087520785853425,
          -0.38481260718533444,
          -0.3861372602266739,
          -0.8085153207188543,
          -0.831260216722111,
          -0.3887581554156608,
          -0.6110064212913064,
          -0.7004724239243004,
          -0.688485161919765,
          -0.8544334835534824,
          -0.8382348058388596,
          -0.8490243558771595,
          -0.41473504562901947,
          -0.8783438440539212,
          -0.48861544178087407,
          -0.7268484977762939,
          -0.40476624262035793,
          -0.856579016627135,
          -0.6249007932178989,
          -0.5612910412943424,
          -0.5805766586249954,
          -0.41118421877347044,
          -0.8205883863606114,
          -0.8433079405190111,
          -0.46063207093325986,
          -0.6368330104190381,
          -0.47015155229194155,
          -0.8659532219636354,
          -0.8801288013965026,
          -0.8527402577311981,
          -0.46320468986047,
          -0.5645560616968356,
          -0.8491050623275954,
          -0.48569204876462607,
          -0.8047972228873331,
          -0.804573353020723,
          -0.731621616078033,
          -0.639211363830814,
          0.13858902372734197,
          -0.6414483465823052,
          -0.5435932911699938,
          -0.46397914549070624,
          -0.3968171980098024,
          -0.6342515874889656,
          -0.2779573375753225,
          -0.4857900958706933,
          -0.6510540375058161,
          -0.7379342117768252,
          -0.4678008371378524,
          -0.7555434331888246,
          -0.6767338583136628,
          -1.6722048203406794,
          -0.5566421132250787,
          -0.5636925523225473,
          -0.5320379325322898,
          -0.5269719823173307,
          -0.2676169946748937,
          -0.5749923210208067,
          -0.5554807545145636,
          -0.9181067662784557,
          -0.8749100880158581,
          -0.7260394183542215,
          -0.7220008247933045,
          -0.6329857387271226,
          -0.8152737970417967,
          -0.08154746114374169,
          -0.2824354972173768,
          -0.6643654773704152,
          -0.22871482530533194,
          -0.1953600273146092,
          -0.5515376891709736,
          -0.3969747058587045,
          -0.4012629705340006,
          1.4384350100903402,
          -0.5132710630758078,
          -0.398253381869658,
          -0.26086800929634707,
          -0.5726648138887135,
          -0.23448549988924572,
          -0.4193981403487591,
          -0.4314397953538348,
          -0.6161279845205935,
          -0.4049619751214666,
          -0.40711245469107143
         ],
         "z": [
          -0.5975491305496271,
          2.1777010446792815,
          -0.5074833205111406,
          -0.3383615710965096,
          -0.3916182671856123,
          -0.4488341296917075,
          -0.3021093879557631,
          -0.5763948503299441,
          -0.25520382024547206,
          2.319114687387362,
          -0.026256272990879206,
          -0.3235137301305356,
          -0.3883596070425174,
          -0.52860819972287,
          -0.463654147936456,
          -0.2962495618440977,
          -0.5887690541529322,
          -0.3958470883933293,
          -0.5207126819569445,
          -0.3787829907721552,
          -0.39304185755584775,
          0.4074273552562057,
          -0.6741169204133453,
          0.09449482834628282,
          -0.08364389035698895,
          -0.36112094658265653,
          -0.1765340920340941,
          -0.49917797104797523,
          -0.285028749717138,
          -0.37507242550968356,
          -0.30310030884990347,
          -0.39455413709575327,
          -0.43644816665329444,
          -0.38978438792696746,
          1.4761738456588192,
          -0.28456142786973776,
          -0.2601567899673151,
          -0.3728197526909725,
          -0.3763374399733084,
          -0.9353353884885552,
          -0.37879239841597245,
          -0.2922864437073821,
          -0.3293381012683125,
          -0.40836746129548984,
          -0.418537725466703,
          -0.21852800722088356,
          -0.3836106252165172,
          -0.4877226575445243,
          -0.5330219178416017,
          -0.3588056201083279,
          -0.3631582347908557,
          -0.3552722087452786,
          -0.28524915095793507,
          -0.6147623534988376,
          -0.3052574646542886,
          -0.2893222078426301,
          -0.6072603881287207,
          -0.2892926709855105,
          -0.28895894593791493,
          -0.36112419885618197,
          -0.4170886603934683,
          -0.70175300803958,
          -0.5097908224326834,
          -0.437770243683748,
          -0.38077473775956727,
          -0.5883090021599274,
          -0.3696158379599843,
          -0.17945874108973825,
          -0.4214490638001273,
          -0.4899087248498761,
          -0.379296054048898,
          -0.47989785978772653,
          -0.6665089560207514,
          -0.3679070714982628,
          -0.3758377098868678,
          -0.4763292612031552,
          -0.351468861399582,
          -0.380780027846333,
          -0.28254062861831253,
          -0.5740181456624914,
          -0.4872540329707791,
          -0.3056549411368256,
          -0.35996442366653036,
          -0.12718275717527897,
          -0.4524873610023403,
          -0.35191209236538434,
          0.3981066077120535,
          -0.5557019078719972,
          -0.43457679529041415,
          -0.33382290704726936,
          -0.3570420978279557,
          -0.218868071151677,
          -0.567021309030211,
          -0.5246195321373125,
          -0.18189215972143166,
          -0.367429009722488,
          -0.5262341252741235,
          -0.29209391160638815,
          -0.5643814082909652,
          -0.5690610947649224,
          -0.5667416637833793,
          -0.22817674947473185,
          -0.3471735444333244,
          -0.37231028712669556,
          -0.27371430961365284,
          0.28252482049334865,
          -0.597013661403207,
          -0.315057937478115,
          -0.4119238659165706,
          -0.37434365095173033,
          -0.3470336934121609,
          -0.258781571278183,
          -0.6620294343855745,
          -0.38571438057493623,
          -0.17863902640001073,
          -0.3506127047228376,
          -0.516502432481892,
          -0.5590233358665946,
          -0.3601018768006058,
          0.3651938001181021,
          -0.35815497384496386,
          -0.5404807766777096,
          -0.46873533562927544,
          -0.5255998977329844,
          -0.5323960952708169,
          -0.43459419157065626,
          -0.3892644818126812,
          -0.25418460874671317,
          -0.35729833811097234,
          -0.34469091196175844,
          -0.6044728899769042,
          -0.4014429186410948,
          -0.35633916117058984,
          -0.44869225343348207,
          -0.2633449536009798,
          -0.45557868668478246,
          -0.14851070161129382,
          0.15599871899914156,
          -0.39917106390564777,
          -0.5283685446350844,
          -0.5606501246173887,
          -0.37684771223178287,
          -0.3817557824934003,
          -0.5188579998161058,
          -0.3412771845412072,
          -0.3390372035453449,
          -0.5661296823494074,
          0.9239919321209598,
          -0.42205366072761813,
          -0.3391645885513157,
          -0.3621669683801227,
          -0.553899297148593,
          -0.44098049933071365,
          -0.5988607497945629,
          -0.5413817065398856,
          -0.5491754415312173,
          -0.5055230264874647,
          -0.5329913019033738,
          -0.5139822444688201,
          -0.36653393719589905,
          -0.5614464774145697,
          -0.5271965947656496,
          0.24169046722632131,
          -0.4310490063425019,
          -0.2346532528024653,
          -0.5388191143054444,
          -0.5261921528771846,
          -0.2689116995163723,
          -0.5257229517157278,
          -0.3263070482395651,
          -0.3534985580928453,
          -0.2313792277419042,
          -0.44479732644403214,
          -0.32087166478198575,
          -0.12220473723734315,
          -0.5217968944191541,
          -0.5155552647011808,
          -0.4159087114734437,
          -0.22069791869494063,
          -0.21969932394372127,
          -0.5426770682937321,
          -0.2403570575065436,
          -0.3310567464045026,
          0.6933331341376222,
          -0.5062854756870131,
          -0.46106745664438736,
          -0.33965524726537116,
          -0.5234611289949783,
          -0.40953298436768315,
          -0.4398383647266094,
          -0.517586670457076,
          -0.48096742118634805,
          -0.49941415328684075,
          -0.5348255798586065,
          0.25576215748122816,
          -0.5002194132750657,
          0.38655449375354006,
          -0.500476744049373,
          -0.4809518656593355,
          -0.30104412445716766,
          0.2616276383095358,
          -0.26342419534531303,
          -0.49125106053089157,
          -0.3959675019937224,
          -0.5216319133388091,
          -0.49177435078368825,
          0.395062341575842,
          -0.491586264332889,
          -0.23710601438214,
          -0.31514796366774966,
          -0.44228903092823213,
          -0.29256477148143356,
          -0.31661754946297527,
          -0.009545243831365286,
          -0.4685614161583907,
          -0.15001708406962008,
          -0.26314351628307386,
          -0.29928237683992476,
          -0.2412802304394851,
          -0.45002383720871203,
          -0.5624907474790675,
          -0.5145084361474198,
          -0.2587088090713548,
          -0.50208231704605,
          -0.28945452336136157,
          -0.4891582099985808,
          -0.4802664066469884,
          -0.48005624504131483,
          -0.45455102846713286,
          -0.5111225250563571,
          -0.2767690952964923,
          -0.2828112876411495,
          -0.20388787894398192,
          -0.08572906758859318,
          -0.47655992596695207,
          0.7439804623350544,
          -0.2630651178506448,
          -0.5032761883432412,
          -0.20822180242787208,
          0.41190197328558154,
          -0.13878040676741765,
          -0.20550175085959627,
          0.3279420873035462,
          -0.4714588424622596,
          -0.28723487937554265,
          -0.4669013717482718,
          -0.5606315887687922,
          -0.26911738721080863,
          -0.37857716223534765,
          -0.2684612382979588,
          -0.28110133523418696,
          -0.29616167733669335,
          0.01765555641507253,
          -0.16607907832644597,
          0.3000637029853585,
          -0.33172245216519103,
          -0.2100448640965107,
          3.1177329112659877,
          -0.2716998272134273,
          -0.5495266066015433,
          -0.47069199206160084,
          -0.24995993134859612,
          -0.17638215480681088,
          1.4752516364903414,
          -0.2482499440846321,
          -0.23678953709190562,
          -0.23544897047050806,
          -0.24624682428567654,
          -0.442983143342786,
          -0.4380564109803653,
          0.32110762699219947,
          -0.4525029887606948,
          0.3825164715075347,
          -0.3577033070185011,
          -0.21258850179569594,
          -0.41382809760877043,
          -0.1832997869506745,
          0.33594956483629307,
          -0.32644773637549807,
          -0.4126267390569219,
          -0.45007895445049123,
          -0.21571965763472628,
          -0.42096159284999435,
          -0.4083103679139635,
          -0.24689121162579256,
          -0.17180337954234326,
          -0.11726706960787639,
          -0.16404345425170588,
          -0.4277595054037192,
          0.1413744935803964,
          -0.14225893843713666,
          -0.392029766164888,
          1.2092570472807234,
          -0.10756066929806558,
          0.3568081618201037,
          -0.03142068937552808,
          -0.2209877651879058,
          -0.13958774227785944,
          0.015664956122277102,
          -0.3965051508938332,
          -0.10907600548075058,
          -0.4014911382961147,
          1.0974326767604845,
          -0.22179327478268998,
          -0.14616788510692236,
          -0.11660467352879145,
          -0.17830521282832998,
          -0.2971368668450709,
          -0.2846500727735398,
          -0.21115024599546098,
          -0.09146843680488853,
          -0.16152965983168074,
          -0.056540768345976024,
          -0.34476714224364247,
          0.4073015360119936,
          0.023590224414814648,
          -0.06504881101461162,
          -0.15958868230864617,
          0.14460036369807372,
          -0.18396311634385332,
          -0.3316465364765834,
          -0.3839582762226089,
          0.43718315398705115,
          -0.1471449565988669,
          -0.051963862887707594,
          -0.32196107610436436,
          -0.31100897373623715,
          -0.3239473867259986,
          -0.04115186723411095,
          -0.0224741797868701,
          -0.3197399404543063,
          -0.161839930156601,
          0.48054737468459885,
          -0.1253854039868982,
          0.004050479671392883,
          -0.00310628768037965,
          0.00968075179666203,
          -0.04025578125822536,
          0.019902249251047634,
          -0.26447351859139057,
          0.4953994032953877,
          -0.29618759764612757,
          0.03286413131720955,
          -0.12816409721766056,
          -0.20671273209781352,
          -0.0982065985463616,
          -0.2741136803064605,
          -0.035613599405720786,
          0.04178009364643579,
          -0.3083198554956855,
          -0.11643673617021649,
          -0.05416581843140354,
          0.1440701243010792,
          0.06549742926075758,
          0.7707413954388905,
          -0.18757847755413357,
          0.7314607839510933,
          0.04171683496211678,
          -0.15419923815375183,
          0.17963119434880784,
          0.05968629314569893,
          0.04565470433684981,
          -0.007051587580038423,
          -0.30205477148740933,
          -0.2532405909763446,
          -0.2971845037590639,
          -0.08984297264162724,
          -0.36432661791946336,
          -0.30969456143050367,
          -0.6072873480795977,
          -0.30802590019091153,
          -0.29435848614851523,
          -0.17160846284960354,
          -0.2814365889787196,
          -0.11786586262317982,
          -0.39472710786536275,
          1.9571113419334536,
          0.32104252468574407,
          -0.2758356549201223,
          -0.05222480408558455,
          0.059005760413731914,
          -0.14675440643910537,
          -0.2806707186007609,
          -0.2940248894393035,
          0.16243548123352256,
          3.70110460714467,
          -0.16590878445899726,
          -0.209199213488563,
          -1.256114498179309,
          -0.3257959887015587,
          -0.4099576002616784,
          -0.5593154383345447,
          -0.36613992564118003,
          -0.5440250128447833,
          -0.31694315469325945,
          -0.3797064539806537,
          -0.11616264668647859,
          -0.3302355768850643,
          -0.18880801706278544,
          -0.262984529893001,
          -0.21761901775597767,
          -0.5144842914354206,
          0.33621140528950616,
          -0.49378288811441384,
          -0.3619808120928119,
          -0.35397751088934254,
          -0.07249721010302318,
          -0.4428957243941053,
          -0.36272413193543257
         ]
        },
        {
         "customdata": [
          [
           "SHA-256D"
          ],
          [
           "PoS"
          ],
          [
           "Counterparty"
          ],
          [
           "X11"
          ],
          [
           "X11"
          ],
          [
           "PoS"
          ],
          [
           "Counterparty"
          ],
          [
           "POS 3.0"
          ],
          [
           "X13"
          ],
          [
           "PoS"
          ],
          [
           "PoS"
          ],
          [
           "X13"
          ],
          [
           "Blake"
          ],
          [
           "PoS"
          ],
          [
           "PoS"
          ],
          [
           "SHA-256"
          ],
          [
           "PoS"
          ],
          [
           "SHA-256"
          ],
          [
           "PoS"
          ],
          [
           "PoS"
          ],
          [
           "SkunkHash v2 Raptor"
          ],
          [
           "DPoS"
          ],
          [
           "PoS"
          ],
          [
           "DPoS"
          ],
          [
           "SHA-512"
          ],
          [
           "NEP-5"
          ],
          [
           "Lyra2REv2"
          ],
          [
           "Quark"
          ],
          [
           "POS 2.0"
          ],
          [
           "Mars"
          ],
          [
           "DPoS"
          ],
          [
           "NIST5"
          ],
          [
           "Quark"
          ],
          [
           "PoS"
          ],
          [
           "Quark"
          ],
          [
           "X11"
          ],
          [
           "POS 3.0"
          ],
          [
           "Ethash"
          ],
          [
           "NeoScrypt"
          ],
          [
           "CryptoNight"
          ],
          [
           "Ethash"
          ],
          [
           "Ethash"
          ],
          [
           "X13"
          ],
          [
           "XEVAN"
          ],
          [
           "Scrypt"
          ],
          [
           "Scrypt"
          ],
          [
           "Green Protocol"
          ],
          [
           "PoS"
          ],
          [
           "Semux BFT consensus"
          ],
          [
           "Quark"
          ],
          [
           "PoS"
          ],
          [
           "X16R"
          ],
          [
           "XEVAN"
          ],
          [
           "Scrypt"
          ],
          [
           "CryptoNight"
          ],
          [
           "Scrypt"
          ],
          [
           "X15"
          ],
          [
           "Scrypt"
          ],
          [
           "Quark"
          ],
          [
           "SHA-256"
          ],
          [
           "DPoS"
          ],
          [
           "X16R"
          ],
          [
           "X16R"
          ],
          [
           "Quark"
          ],
          [
           "Quark"
          ],
          [
           "Scrypt"
          ],
          [
           "Quark"
          ],
          [
           "XEVAN"
          ],
          [
           "X11"
          ],
          [
           "Scrypt"
          ],
          [
           "PoS"
          ],
          [
           "X11"
          ],
          [
           "DPoS"
          ],
          [
           "X16R"
          ],
          [
           "Keccak"
          ],
          [
           "XEVAN"
          ],
          [
           "SHA-256"
          ],
          [
           "XEVAN"
          ],
          [
           "X11"
          ],
          [
           "Quark"
          ],
          [
           "Argon2d"
          ],
          [
           "Blake"
          ],
          [
           "Blake"
          ],
          [
           "Equihash"
          ],
          [
           "Exosis"
          ],
          [
           "Quark"
          ],
          [
           "Equihash"
          ],
          [
           "Quark"
          ],
          [
           "Quark"
          ],
          [
           "ERC20 + BEP-2"
          ],
          [
           "Lyra2REv2"
          ],
          [
           "Equihash+Scrypt"
          ],
          [
           "X11"
          ],
          [
           "XEVAN"
          ],
          [
           "SHA-256D"
          ],
          [
           "X11"
          ],
          [
           "X13"
          ],
          [
           "CryptoNight"
          ],
          [
           "SHA-256"
          ],
          [
           "Quark"
          ],
          [
           "Equihash"
          ],
          [
           "SHA-512"
          ],
          [
           "Cryptonight Haven"
          ],
          [
           "Ethash"
          ],
          [
           "X13"
          ],
          [
           "SHA-256"
          ],
          [
           "Quark"
          ],
          [
           "DPoS"
          ],
          [
           "Ouroboros"
          ],
          [
           "VBFT"
          ],
          [
           "VeChainThor Authority"
          ],
          [
           "POS 3.0"
          ],
          [
           "X16R"
          ],
          [
           "Ethash"
          ],
          [
           "DPoS"
          ],
          [
           "Ethash"
          ],
          [
           "SHA-256"
          ]
         ],
         "hoverlabel": {
          "namelength": 0
         },
         "hovertemplate": "<b>%{hovertext}</b><br><br>class=%{marker.color}<br>p3=%{x}<br>p2=%{y}<br>p1=%{z}<br>Algorithm=%{customdata[0]}",
         "hovertext": [
          "PetroDollar",
          "Exclusive Coin",
          "StorjCoin",
          "Creva Coin",
          "UnCoin",
          "Radium",
          "Scotcoin",
          "Let it Ride",
          "MudraCoin",
          "Opair",
          "CoffeeCoin",
          "RoyalCoin",
          "Netko",
          "Atmos",
          "MacronCoin",
          "ProCurrency",
          "Phreak",
          "Ultimate Secure Cash",
          "Wagerr",
          "Particl",
          "Signatum",
          "Growers International",
          "Stakecoin",
          "Oxycoin",
          "Obsidian",
          "Red Pulse Phoenix",
          "Rupee",
          "Bitcloud 2.0",
          "KekCoin",
          "MinexCoin",
          "Lamden Tau",
          "Bulwark",
          "Kalkulus",
          "Copico",
          "Digiwage",
          "Monkey Project",
          "TokenPay",
          "1717 Masonic Commemorative Token",
          "THEKEY Token",
          "TurtleCoin",
          "Dorado",
          "Logarithm",
          "Tokyo Coin",
          "Ellerium",
          "Velox",
          "MedicCoin",
          "Bitcoin Green",
          "Deviant Coin",
          "Semux",
          "Carebit",
          "Zealium",
          "Proton",
          "Bitcoin Incognito",
          "HollyWoodCoin",
          "Newton Coin",
          "Xt3ch",
          "Dekado",
          "Lynx",
          "Poseidon Quark",
          "BitcoinWSpectrum",
          "Muse",
          "Motion",
          "Trivechain",
          "Dystem",
          "Giant",
          "Peony Coin",
          "Vitae",
          "Urals Coin",
          "ARENON",
          "MMOCoin",
          "Ketan",
          "PAXEX",
          "Zipper",
          "Xchange",
          "RoBet",
          "Bettex coin",
          "TigerCash",
          "BitMoney",
          "Junson Ming Chan Coin",
          "HerbCoin",
          "URANIUMX",
          "Universal Molecule",
          "Lithium",
          "PirateCash",
          "Exosis",
          "Galilel",
          "Bithereum",
          "Stakinglab",
          "Crypto Sports",
          "Atomic Wallet Coin",
          "Scribe Network",
          "Vollar",
          "Platinum",
          "Beetle Coin",
          "Titan Coin",
          "Award",
          "Bitcoin Rhodium",
          "Beldex",
          "eXPerience Chain",
          "STREAMIT COIN",
          "Beam",
          "Kcash",
          "BLOC.MONEY",
          "Monarch Token",
          "ABBC Coin",
          "Zeph",
          "Lobstex",
          "EOS",
          "Cardano",
          "Ontology",
          "VeChain",
          "QTUM",
          "Ravencoin",
          "Waltonchain",
          "ARK",
          "Metaverse",
          "Infinity Economics"
         ],
         "legendgroup": "class=0",
         "marker": {
          "color": [
           0,
           0,
           0,
           0,
           0,
           0,
           0,
           0,
           0,
           0,
           0,
           0,
           0,
           0,
           0,
           0,
           0,
           0,
           0,
           0,
           0,
           0,
           0,
           0,
           0,
           0,
           0,
           0,
           0,
           0,
           0,
           0,
           0,
           0,
           0,
           0,
           0,
           0,
           0,
           0,
           0,
           0,
           0,
           0,
           0,
           0,
           0,
           0,
           0,
           0,
           0,
           0,
           0,
           0,
           0,
           0,
           0,
           0,
           0,
           0,
           0,
           0,
           0,
           0,
           0,
           0,
           0,
           0,
           0,
           0,
           0,
           0,
           0,
           0,
           0,
           0,
           0,
           0,
           0,
           0,
           0,
           0,
           0,
           0,
           0,
           0,
           0,
           0,
           0,
           0,
           0,
           0,
           0,
           0,
           0,
           0,
           0,
           0,
           0,
           0,
           0,
           0,
           0,
           0,
           0,
           0,
           0,
           0,
           0,
           0,
           0,
           0,
           0,
           0,
           0,
           0,
           0
          ],
          "coloraxis": "coloraxis",
          "symbol": "diamond"
         },
         "mode": "markers",
         "name": "class=0",
         "scene": "scene",
         "showlegend": true,
         "type": "scatter3d",
         "x": [
          0.5512203292820544,
          0.8901646790222435,
          0.7875536604802984,
          0.4597762109985526,
          0.3374336501486559,
          0.9990446501758203,
          0.9740879962459101,
          1.1984706487566217,
          0.5745150000188052,
          1.114830111765207,
          1.1305548519730877,
          0.6196115300814378,
          0.9677364279493497,
          1.21525545414359,
          1.2329713607801107,
          0.4316044070590231,
          1.2406670440129912,
          0.5120990605751793,
          1.3684193014002035,
          1.2836775645361065,
          1.4160044341551623,
          1.164067104536206,
          1.3304571540744707,
          0.5955210246996616,
          1.907661039791635,
          1.6571268185836945,
          1.063191464172487,
          0.8281187087924784,
          1.6462335642304418,
          1.741306411689827,
          0.7022858934705795,
          0.9022558364702166,
          1.686031884195049,
          1.5842675321787072,
          1.706939598050178,
          0.8446247561789687,
          1.6510542549720915,
          1.2369349004943953,
          0.9424026515336988,
          -1.2366805828611995,
          1.3511124468244933,
          1.3610073576737718,
          1.0563886452783189,
          1.208559091094955,
          0.5269042031661852,
          0.5709387611421755,
          2.0705592380320903,
          1.6459651223878344,
          1.1964588338604563,
          1.0856116664611648,
          1.6599269558885188,
          1.6428670598351527,
          2.1702014156290996,
          0.6200730612519572,
          -0.09899545649044271,
          0.6570123308261753,
          1.1689777222884823,
          -0.25630558357690547,
          1.9614267581637352,
          1.0011224314291576,
          1.4979977803719082,
          0.8017293875045621,
          0.9092248280145238,
          1.9662228165712476,
          1.172995020386842,
          0.6644287700589322,
          1.9739158239025263,
          1.2675551330637254,
          1.1044570583649553,
          0.6858374443181494,
          1.7705202741248227,
          1.1420615284345852,
          1.473583391082532,
          0.9096563763666093,
          1.8809228557710835,
          2.279842770790733,
          1.1513649426167976,
          3.4843497654392883,
          1.1548098250916938,
          1.4281142015278847,
          2.112781336173992,
          0.7316095856598638,
          0.7440755533780796,
          1.552348348657192,
          1.0107318466296462,
          1.4635079604283223,
          0.6986217455991097,
          2.4122921373562463,
          2.3028474318865566,
          2.9525722424034915,
          0.8471338942844993,
          1.1362037100415197,
          1.4723214051939626,
          1.7368295103256615,
          0.8830960592204158,
          0.6860166303098187,
          0.7694042770853393,
          0.6264853483777968,
          1.3088077079640963,
          2.467036573310485,
          0.6661685843888732,
          3.612886733806622,
          1.3833560187677092,
          2.0079083586762336,
          1.4855253202465937,
          -0.2907508780139143,
          2.497673815321765,
          -0.2836572456806242,
          1.4500342951272998,
          1.8085198467942236,
          0.5482705947903525,
          1.3792178804076234,
          1.6214266688848513,
          1.151234985645905,
          0.4071524291103737,
          1.176311781283602,
          0.6604981206277865
         ],
         "y": [
          0.06503174372396678,
          1.6052112751019794,
          1.5331946073543594,
          0.07618234982225086,
          -0.043181612976255244,
          1.5828588648843744,
          1.3381776725817176,
          0.4862203800038638,
          0.43562963461711607,
          1.5589907578108504,
          1.5557104878404155,
          0.4265717043721408,
          -0.10912106969870566,
          1.538251070368646,
          1.53401919115356,
          0.049429889983430196,
          1.5332735215061337,
          0.10807894417229687,
          1.3515550146725601,
          1.5244564143745065,
          0.4215945658472098,
          1.140294665085502,
          1.5148182649422461,
          1.7765922535674368,
          1.4641503600198698,
          0.13488079209925963,
          0.0713688943686984,
          -0.34768914795191824,
          0.3825923876589507,
          0.13341658938480586,
          1.7551669480874048,
          0.08300587965273075,
          0.19985441210530414,
          1.3069888939976142,
          0.1954479538931538,
          0.1522653336833541,
          0.39336382187374197,
          0.1080490860501445,
          -0.1761023345818092,
          -1.83495448031858,
          -0.0710841158373325,
          -0.07265041029525304,
          0.3358208771936296,
          -0.5969896701139527,
          0.18064103372819884,
          0.1682615117680435,
          0.3131709416296567,
          1.449789231915073,
          1.075020072295671,
          -0.40138051973764055,
          1.446992172066958,
          0.04150844870559858,
          -0.7092137409591446,
          0.16086764817021093,
          -0.902306305147148,
          0.15403808105989394,
          0.09658466823265474,
          -0.6857103152846024,
          0.14264364714123298,
          0.007714676298811591,
          1.226801437242541,
          -0.6986596189917353,
          -0.5307696822794793,
          0.14222797791878383,
          -0.41832195871351935,
          0.1355477152690122,
          0.14058949029173615,
          -0.7990883057459196,
          0.09882362251309547,
          0.1477133357732792,
          1.4243101046387552,
          0.09111684152687685,
          0.8568828933412055,
          -0.720986891531498,
          -0.1775734518997156,
          -0.09345243930726456,
          -0.025159529780914715,
          -0.9831029936794767,
          -0.3004745999777654,
          -0.47111688786170886,
          -0.18254476783056076,
          -0.8189861903034411,
          -0.8214770642003212,
          -0.15595732618692637,
          -0.9593225699556265,
          -0.4779446814742474,
          -0.8932443385792014,
          -0.10433214999594559,
          0.07320289198377816,
          -0.08898786789418775,
          -0.7976624759794358,
          -0.9388399975793469,
          0.023321609953441597,
          -0.7070656844015296,
          -0.5778153332201659,
          -0.5398685338725312,
          -0.517497060656143,
          -0.8198179422396121,
          -0.4885763279563398,
          0.038599887775946785,
          -0.8868410738615234,
          1.4555682641805467,
          -1.057428855179098,
          -0.2075230891234813,
          0.0909755055315309,
          0.6335059042322239,
          0.03306873325703481,
          1.955510327678334,
          0.3366017876604149,
          0.3801317457823459,
          -1.1865970061835949,
          0.449057905959,
          -0.1974637283591884,
          -0.02958770840811396,
          1.8163545097148255,
          -0.03477305692256461,
          0.05803311061836773
         ],
         "z": [
          -0.2366387192022818,
          -0.2890493173061162,
          -0.3447684082822828,
          -0.25301901053947906,
          0.7717811930029892,
          -0.2459061713631935,
          -0.12953494660167672,
          -0.28534026123221345,
          -0.27473639112087994,
          -0.26560443815473506,
          -0.26333562390554205,
          -0.2603130147752751,
          -0.022013898206297147,
          -0.19911298953699577,
          -0.2213447190415492,
          0.3174295964604762,
          -0.22264676772861272,
          -0.21022676154472228,
          -0.028084618786649106,
          -0.19569080154876006,
          -0.2509189920615011,
          1.2945202720785844,
          -0.19441854510369844,
          3.8956051625108215,
          -0.31511809918109573,
          0.06273368668716002,
          -0.17644832292842388,
          -0.31266104501918096,
          -0.14932881436448545,
          0.04814403486576773,
          3.9265554668177893,
          -0.23775299772538433,
          -0.11047122101395791,
          0.033171002802960765,
          -0.10087160583453571,
          -0.2511947928388203,
          -0.13223897111783683,
          -0.10771421603275648,
          0.19631865708760718,
          8.81256384075302,
          0.07118261646249453,
          0.07117301208458306,
          -0.09735248843993241,
          -0.038912680272858935,
          -0.16613230915693586,
          -0.13849645788477893,
          -0.06294799202854186,
          -0.06076676080697106,
          4.241635392912264,
          -0.20172221010184593,
          -0.05186427695405221,
          -0.021230333717993863,
          0.24470473519150526,
          -0.13255384563763384,
          2.250787714864636,
          -0.13119894362044174,
          -0.03465259200068783,
          2.4646954601276887,
          -0.025432985009762182,
          -0.03493179793787667,
          1.2514996445092152,
          0.035995844968035755,
          -0.1680735891818614,
          -0.010371661465041426,
          -0.18798232111360194,
          0.0016398260074742244,
          3.7729655586053086e-05,
          0.22264234224377483,
          -0.1370081691546674,
          -0.09834548912227449,
          -0.03790008113467104,
          -0.14560655788991028,
          3.3706832114614067,
          0.06783805041266716,
          0.214061923470128,
          0.2424090630361864,
          0.033776180075984395,
          1.4507971776459054,
          0.8032487467254232,
          -0.0967842428888832,
          0.2607331439208591,
          0.15544449165961335,
          0.12972353203978498,
          0.07058140206697319,
          0.18653977472667585,
          -0.07327989953445796,
          0.10382592721610562,
          0.25947056708063,
          0.09861156371793273,
          0.4075984161448468,
          0.10275168577321578,
          0.2545319877996484,
          -0.025669356507053365,
          0.17343671336782543,
          -0.08861655736457741,
          -0.18154381035194847,
          0.13914781214215796,
          0.6472582570607105,
          2.559065701338961,
          0.15386371966968743,
          0.09437568293231358,
          -0.33045881915137176,
          0.29044058486670643,
          0.3181556894400316,
          0.23257217041496567,
          3.659031573294151,
          0.17772847513125986,
          5.557901482981881,
          0.7929154354485942,
          0.23339153272443786,
          3.8597918461342133,
          -0.253145802971535,
          0.3971291867046244,
          -0.0028141975559879645,
          3.817332480059464,
          0.006329090545411632,
          0.02004068696491085
         ]
        },
        {
         "customdata": [
          [
           "Scrypt"
          ],
          [
           "Scrypt"
          ],
          [
           "Scrypt"
          ],
          [
           "Counterparty"
          ],
          [
           "Scrypt"
          ],
          [
           "PoS"
          ],
          [
           "Scrypt"
          ],
          [
           "X11"
          ],
          [
           "X14"
          ],
          [
           "PoS"
          ],
          [
           "X11"
          ],
          [
           "PoS"
          ],
          [
           "PoS"
          ],
          [
           "Scrypt"
          ],
          [
           "X13"
          ],
          [
           "Scrypt"
          ],
          [
           "Scrypt"
          ],
          [
           "DPoS"
          ],
          [
           "CryptoNight"
          ],
          [
           "SHA-512"
          ],
          [
           "PoS"
          ],
          [
           "Leased POS"
          ],
          [
           "DPoS"
          ],
          [
           "PoS"
          ]
         ],
         "hoverlabel": {
          "namelength": 0
         },
         "hovertemplate": "<b>%{hovertext}</b><br><br>class=%{marker.color}<br>p3=%{x}<br>p2=%{y}<br>p1=%{z}<br>Algorithm=%{customdata[0]}",
         "hovertext": [
          "MasterCoin",
          "Diggits",
          "Revolution VR",
          "BitCrystals",
          "SafeExchangeCoin",
          "Nebuchadnezzar",
          "Omni",
          "Lutetium Coin",
          "GanjaCoin V2",
          "TeamUP",
          "XenixCoin",
          "FreeCoin",
          "Creatio",
          "GAKHcoin",
          "FindCoin",
          "Aureus",
          "eBoost",
          "ALAX",
          "PlatinCoin",
          "Bitshares",
          "Steem",
          "Waves",
          "Lisk",
          "Nxt"
         ],
         "legendgroup": "class=3",
         "marker": {
          "color": [
           3,
           3,
           3,
           3,
           3,
           3,
           3,
           3,
           3,
           3,
           3,
           3,
           3,
           3,
           3,
           3,
           3,
           3,
           3,
           3,
           3,
           3,
           3,
           3
          ],
          "coloraxis": "coloraxis",
          "symbol": "square"
         },
         "mode": "markers",
         "name": "class=3",
         "scene": "scene",
         "showlegend": true,
         "type": "scatter3d",
         "x": [
          -1.0870205297039077,
          -0.15365434361711555,
          -1.0467401503092424,
          0.8709080342012682,
          -1.4292280019162924,
          0.9542633342991834,
          -0.9954331794931651,
          0.3348374784792397,
          -0.7485969943932907,
          1.0349535983305993,
          -0.4007469068079133,
          1.056711761879824,
          1.0588501527375167,
          -0.798069018279267,
          0.5917002211172234,
          0.3226283234340587,
          -0.6866705574955063,
          0.7420672307134099,
          0.014866584266551179,
          1.320768179579543,
          0.031408864633442245,
          -3.9475273073822614,
          0.191610962247192,
          0.46902671588771727
         ],
         "y": [
          4.791507628117909,
          5.512967863937005,
          4.782776918874304,
          6.553987627073,
          6.107214953744129,
          6.784726486008838,
          4.772703108609526,
          5.4481617567437635,
          7.972102242191624,
          6.7678799231405815,
          4.877122027927649,
          6.763626019097385,
          6.763252929131826,
          4.921985817605682,
          5.624922212016232,
          5.260270022943246,
          4.709052221224535,
          6.938292641165545,
          4.500379277256943,
          6.770518494233657,
          6.060714244845628,
          20.156364248575045,
          7.053203919690963,
          10.209171391548953
         ],
         "z": [
          -0.18583927036477257,
          -0.20096140042902647,
          -0.1674436903529846,
          0.037527960809443345,
          -0.0797604808425289,
          -0.10589365552016063,
          -0.15350723168270783,
          -0.1968306896081019,
          -0.2942643327350432,
          -0.07535101119748583,
          -0.3545971282376031,
          -0.06912907452991429,
          -0.0689724941753783,
          -0.31544522543075054,
          -0.048489634992377274,
          0.09938994693878249,
          0.0010571797108081147,
          4.174661814012452,
          0.6345690181171578,
          -0.24071387526595722,
          -0.08348930801021157,
          -0.7344288501549385,
          3.963109169323148,
          -0.11428859863052955
         ]
        },
        {
         "customdata": [
          [
           "Proof-of-BibleHash"
          ],
          [
           "SHA-256 + Hive"
          ],
          [
           "SHA3-256"
          ],
          [
           "ECC 256K1"
          ],
          [
           "Proof-of-Authority"
          ]
         ],
         "hoverlabel": {
          "namelength": 0
         },
         "hovertemplate": "<b>%{hovertext}</b><br><br>class=%{marker.color}<br>p3=%{x}<br>p2=%{y}<br>p1=%{z}<br>Algorithm=%{customdata[0]}",
         "hovertext": [
          "BiblePay",
          "LitecoinCash",
          "Fiii",
          "Acute Angle Cloud",
          "Poa Network"
         ],
         "legendgroup": "class=4",
         "marker": {
          "color": [
           4,
           4,
           4,
           4,
           4
          ],
          "coloraxis": "coloraxis",
          "symbol": "x"
         },
         "mode": "markers",
         "name": "class=4",
         "scene": "scene",
         "showlegend": true,
         "type": "scatter3d",
         "x": [
          9.636144544430426,
          7.236500878703835,
          16.645072456447082,
          14.32142641565131,
          10.236143728311776
         ],
         "y": [
          -0.8835317274359179,
          -0.7750016260537292,
          -1.1384008488275572,
          -1.0342383707280298,
          -0.8843493326659376
         ],
         "z": [
          1.0318837105430965,
          -0.2409520154046755,
          -0.028104084849693723,
          0.2754332530746103,
          0.11227248675701636
         ]
        },
        {
         "customdata": [
          [
           "TRC10"
          ]
         ],
         "hoverlabel": {
          "namelength": 0
         },
         "hovertemplate": "<b>%{hovertext}</b><br><br>class=%{marker.color}<br>p3=%{x}<br>p2=%{y}<br>p1=%{z}<br>Algorithm=%{customdata[0]}",
         "hovertext": [
          "BitTorrent"
         ],
         "legendgroup": "class=1",
         "marker": {
          "color": [
           1
          ],
          "coloraxis": "coloraxis",
          "symbol": "cross"
         },
         "mode": "markers",
         "name": "class=1",
         "scene": "scene",
         "showlegend": true,
         "type": "scatter3d",
         "x": [
          -2.542291270007147
         ],
         "y": [
          -1.7900360540975135
         ],
         "z": [
          34.11340228417971
         ]
        }
       ],
       "layout": {
        "coloraxis": {
         "colorbar": {
          "title": {
           "text": "class"
          }
         },
         "colorscale": [
          [
           0,
           "#0d0887"
          ],
          [
           0.1111111111111111,
           "#46039f"
          ],
          [
           0.2222222222222222,
           "#7201a8"
          ],
          [
           0.3333333333333333,
           "#9c179e"
          ],
          [
           0.4444444444444444,
           "#bd3786"
          ],
          [
           0.5555555555555556,
           "#d8576b"
          ],
          [
           0.6666666666666666,
           "#ed7953"
          ],
          [
           0.7777777777777778,
           "#fb9f3a"
          ],
          [
           0.8888888888888888,
           "#fdca26"
          ],
          [
           1,
           "#f0f921"
          ]
         ]
        },
        "height": 600,
        "legend": {
         "tracegroupgap": 0,
         "x": 0,
         "y": 1
        },
        "margin": {
         "t": 60
        },
        "scene": {
         "aspectmode": "auto",
         "aspectratio": {
          "x": 0.8169221141368681,
          "y": 0.8724102247750734,
          "z": 1.403132229889515
         },
         "camera": {
          "center": {
           "x": 0,
           "y": 0,
           "z": 0
          },
          "eye": {
           "x": 1.1535447209586525,
           "y": 1.1535447209586522,
           "z": 1.1535447209586522
          },
          "projection": {
           "type": "perspective"
          },
          "up": {
           "x": 0,
           "y": 0,
           "z": 1
          }
         },
         "domain": {
          "x": [
           0,
           0.98
          ],
          "y": [
           0,
           1
          ]
         },
         "xaxis": {
          "title": {
           "text": "p3"
          },
          "type": "linear"
         },
         "yaxis": {
          "title": {
           "text": "p2"
          },
          "type": "linear"
         },
         "zaxis": {
          "title": {
           "text": "p1"
          },
          "type": "linear"
         }
        },
        "template": {
         "data": {
          "bar": [
           {
            "error_x": {
             "color": "#2a3f5f"
            },
            "error_y": {
             "color": "#2a3f5f"
            },
            "marker": {
             "line": {
              "color": "#E5ECF6",
              "width": 0.5
             }
            },
            "type": "bar"
           }
          ],
          "barpolar": [
           {
            "marker": {
             "line": {
              "color": "#E5ECF6",
              "width": 0.5
             }
            },
            "type": "barpolar"
           }
          ],
          "carpet": [
           {
            "aaxis": {
             "endlinecolor": "#2a3f5f",
             "gridcolor": "white",
             "linecolor": "white",
             "minorgridcolor": "white",
             "startlinecolor": "#2a3f5f"
            },
            "baxis": {
             "endlinecolor": "#2a3f5f",
             "gridcolor": "white",
             "linecolor": "white",
             "minorgridcolor": "white",
             "startlinecolor": "#2a3f5f"
            },
            "type": "carpet"
           }
          ],
          "choropleth": [
           {
            "colorbar": {
             "outlinewidth": 0,
             "ticks": ""
            },
            "type": "choropleth"
           }
          ],
          "contour": [
           {
            "colorbar": {
             "outlinewidth": 0,
             "ticks": ""
            },
            "colorscale": [
             [
              0,
              "#0d0887"
             ],
             [
              0.1111111111111111,
              "#46039f"
             ],
             [
              0.2222222222222222,
              "#7201a8"
             ],
             [
              0.3333333333333333,
              "#9c179e"
             ],
             [
              0.4444444444444444,
              "#bd3786"
             ],
             [
              0.5555555555555556,
              "#d8576b"
             ],
             [
              0.6666666666666666,
              "#ed7953"
             ],
             [
              0.7777777777777778,
              "#fb9f3a"
             ],
             [
              0.8888888888888888,
              "#fdca26"
             ],
             [
              1,
              "#f0f921"
             ]
            ],
            "type": "contour"
           }
          ],
          "contourcarpet": [
           {
            "colorbar": {
             "outlinewidth": 0,
             "ticks": ""
            },
            "type": "contourcarpet"
           }
          ],
          "heatmap": [
           {
            "colorbar": {
             "outlinewidth": 0,
             "ticks": ""
            },
            "colorscale": [
             [
              0,
              "#0d0887"
             ],
             [
              0.1111111111111111,
              "#46039f"
             ],
             [
              0.2222222222222222,
              "#7201a8"
             ],
             [
              0.3333333333333333,
              "#9c179e"
             ],
             [
              0.4444444444444444,
              "#bd3786"
             ],
             [
              0.5555555555555556,
              "#d8576b"
             ],
             [
              0.6666666666666666,
              "#ed7953"
             ],
             [
              0.7777777777777778,
              "#fb9f3a"
             ],
             [
              0.8888888888888888,
              "#fdca26"
             ],
             [
              1,
              "#f0f921"
             ]
            ],
            "type": "heatmap"
           }
          ],
          "heatmapgl": [
           {
            "colorbar": {
             "outlinewidth": 0,
             "ticks": ""
            },
            "colorscale": [
             [
              0,
              "#0d0887"
             ],
             [
              0.1111111111111111,
              "#46039f"
             ],
             [
              0.2222222222222222,
              "#7201a8"
             ],
             [
              0.3333333333333333,
              "#9c179e"
             ],
             [
              0.4444444444444444,
              "#bd3786"
             ],
             [
              0.5555555555555556,
              "#d8576b"
             ],
             [
              0.6666666666666666,
              "#ed7953"
             ],
             [
              0.7777777777777778,
              "#fb9f3a"
             ],
             [
              0.8888888888888888,
              "#fdca26"
             ],
             [
              1,
              "#f0f921"
             ]
            ],
            "type": "heatmapgl"
           }
          ],
          "histogram": [
           {
            "marker": {
             "colorbar": {
              "outlinewidth": 0,
              "ticks": ""
             }
            },
            "type": "histogram"
           }
          ],
          "histogram2d": [
           {
            "colorbar": {
             "outlinewidth": 0,
             "ticks": ""
            },
            "colorscale": [
             [
              0,
              "#0d0887"
             ],
             [
              0.1111111111111111,
              "#46039f"
             ],
             [
              0.2222222222222222,
              "#7201a8"
             ],
             [
              0.3333333333333333,
              "#9c179e"
             ],
             [
              0.4444444444444444,
              "#bd3786"
             ],
             [
              0.5555555555555556,
              "#d8576b"
             ],
             [
              0.6666666666666666,
              "#ed7953"
             ],
             [
              0.7777777777777778,
              "#fb9f3a"
             ],
             [
              0.8888888888888888,
              "#fdca26"
             ],
             [
              1,
              "#f0f921"
             ]
            ],
            "type": "histogram2d"
           }
          ],
          "histogram2dcontour": [
           {
            "colorbar": {
             "outlinewidth": 0,
             "ticks": ""
            },
            "colorscale": [
             [
              0,
              "#0d0887"
             ],
             [
              0.1111111111111111,
              "#46039f"
             ],
             [
              0.2222222222222222,
              "#7201a8"
             ],
             [
              0.3333333333333333,
              "#9c179e"
             ],
             [
              0.4444444444444444,
              "#bd3786"
             ],
             [
              0.5555555555555556,
              "#d8576b"
             ],
             [
              0.6666666666666666,
              "#ed7953"
             ],
             [
              0.7777777777777778,
              "#fb9f3a"
             ],
             [
              0.8888888888888888,
              "#fdca26"
             ],
             [
              1,
              "#f0f921"
             ]
            ],
            "type": "histogram2dcontour"
           }
          ],
          "mesh3d": [
           {
            "colorbar": {
             "outlinewidth": 0,
             "ticks": ""
            },
            "type": "mesh3d"
           }
          ],
          "parcoords": [
           {
            "line": {
             "colorbar": {
              "outlinewidth": 0,
              "ticks": ""
             }
            },
            "type": "parcoords"
           }
          ],
          "scatter": [
           {
            "marker": {
             "colorbar": {
              "outlinewidth": 0,
              "ticks": ""
             }
            },
            "type": "scatter"
           }
          ],
          "scatter3d": [
           {
            "line": {
             "colorbar": {
              "outlinewidth": 0,
              "ticks": ""
             }
            },
            "marker": {
             "colorbar": {
              "outlinewidth": 0,
              "ticks": ""
             }
            },
            "type": "scatter3d"
           }
          ],
          "scattercarpet": [
           {
            "marker": {
             "colorbar": {
              "outlinewidth": 0,
              "ticks": ""
             }
            },
            "type": "scattercarpet"
           }
          ],
          "scattergeo": [
           {
            "marker": {
             "colorbar": {
              "outlinewidth": 0,
              "ticks": ""
             }
            },
            "type": "scattergeo"
           }
          ],
          "scattergl": [
           {
            "marker": {
             "colorbar": {
              "outlinewidth": 0,
              "ticks": ""
             }
            },
            "type": "scattergl"
           }
          ],
          "scattermapbox": [
           {
            "marker": {
             "colorbar": {
              "outlinewidth": 0,
              "ticks": ""
             }
            },
            "type": "scattermapbox"
           }
          ],
          "scatterpolar": [
           {
            "marker": {
             "colorbar": {
              "outlinewidth": 0,
              "ticks": ""
             }
            },
            "type": "scatterpolar"
           }
          ],
          "scatterpolargl": [
           {
            "marker": {
             "colorbar": {
              "outlinewidth": 0,
              "ticks": ""
             }
            },
            "type": "scatterpolargl"
           }
          ],
          "scatterternary": [
           {
            "marker": {
             "colorbar": {
              "outlinewidth": 0,
              "ticks": ""
             }
            },
            "type": "scatterternary"
           }
          ],
          "surface": [
           {
            "colorbar": {
             "outlinewidth": 0,
             "ticks": ""
            },
            "colorscale": [
             [
              0,
              "#0d0887"
             ],
             [
              0.1111111111111111,
              "#46039f"
             ],
             [
              0.2222222222222222,
              "#7201a8"
             ],
             [
              0.3333333333333333,
              "#9c179e"
             ],
             [
              0.4444444444444444,
              "#bd3786"
             ],
             [
              0.5555555555555556,
              "#d8576b"
             ],
             [
              0.6666666666666666,
              "#ed7953"
             ],
             [
              0.7777777777777778,
              "#fb9f3a"
             ],
             [
              0.8888888888888888,
              "#fdca26"
             ],
             [
              1,
              "#f0f921"
             ]
            ],
            "type": "surface"
           }
          ],
          "table": [
           {
            "cells": {
             "fill": {
              "color": "#EBF0F8"
             },
             "line": {
              "color": "white"
             }
            },
            "header": {
             "fill": {
              "color": "#C8D4E3"
             },
             "line": {
              "color": "white"
             }
            },
            "type": "table"
           }
          ]
         },
         "layout": {
          "annotationdefaults": {
           "arrowcolor": "#2a3f5f",
           "arrowhead": 0,
           "arrowwidth": 1
          },
          "colorscale": {
           "diverging": [
            [
             0,
             "#8e0152"
            ],
            [
             0.1,
             "#c51b7d"
            ],
            [
             0.2,
             "#de77ae"
            ],
            [
             0.3,
             "#f1b6da"
            ],
            [
             0.4,
             "#fde0ef"
            ],
            [
             0.5,
             "#f7f7f7"
            ],
            [
             0.6,
             "#e6f5d0"
            ],
            [
             0.7,
             "#b8e186"
            ],
            [
             0.8,
             "#7fbc41"
            ],
            [
             0.9,
             "#4d9221"
            ],
            [
             1,
             "#276419"
            ]
           ],
           "sequential": [
            [
             0,
             "#0d0887"
            ],
            [
             0.1111111111111111,
             "#46039f"
            ],
            [
             0.2222222222222222,
             "#7201a8"
            ],
            [
             0.3333333333333333,
             "#9c179e"
            ],
            [
             0.4444444444444444,
             "#bd3786"
            ],
            [
             0.5555555555555556,
             "#d8576b"
            ],
            [
             0.6666666666666666,
             "#ed7953"
            ],
            [
             0.7777777777777778,
             "#fb9f3a"
            ],
            [
             0.8888888888888888,
             "#fdca26"
            ],
            [
             1,
             "#f0f921"
            ]
           ],
           "sequentialminus": [
            [
             0,
             "#0d0887"
            ],
            [
             0.1111111111111111,
             "#46039f"
            ],
            [
             0.2222222222222222,
             "#7201a8"
            ],
            [
             0.3333333333333333,
             "#9c179e"
            ],
            [
             0.4444444444444444,
             "#bd3786"
            ],
            [
             0.5555555555555556,
             "#d8576b"
            ],
            [
             0.6666666666666666,
             "#ed7953"
            ],
            [
             0.7777777777777778,
             "#fb9f3a"
            ],
            [
             0.8888888888888888,
             "#fdca26"
            ],
            [
             1,
             "#f0f921"
            ]
           ]
          },
          "colorway": [
           "#636efa",
           "#EF553B",
           "#00cc96",
           "#ab63fa",
           "#FFA15A",
           "#19d3f3",
           "#FF6692",
           "#B6E880",
           "#FF97FF",
           "#FECB52"
          ],
          "font": {
           "color": "#2a3f5f"
          },
          "geo": {
           "bgcolor": "white",
           "lakecolor": "white",
           "landcolor": "#E5ECF6",
           "showlakes": true,
           "showland": true,
           "subunitcolor": "white"
          },
          "hoverlabel": {
           "align": "left"
          },
          "hovermode": "closest",
          "mapbox": {
           "style": "light"
          },
          "paper_bgcolor": "white",
          "plot_bgcolor": "#E5ECF6",
          "polar": {
           "angularaxis": {
            "gridcolor": "white",
            "linecolor": "white",
            "ticks": ""
           },
           "bgcolor": "#E5ECF6",
           "radialaxis": {
            "gridcolor": "white",
            "linecolor": "white",
            "ticks": ""
           }
          },
          "scene": {
           "xaxis": {
            "backgroundcolor": "#E5ECF6",
            "gridcolor": "white",
            "gridwidth": 2,
            "linecolor": "white",
            "showbackground": true,
            "ticks": "",
            "zerolinecolor": "white"
           },
           "yaxis": {
            "backgroundcolor": "#E5ECF6",
            "gridcolor": "white",
            "gridwidth": 2,
            "linecolor": "white",
            "showbackground": true,
            "ticks": "",
            "zerolinecolor": "white"
           },
           "zaxis": {
            "backgroundcolor": "#E5ECF6",
            "gridcolor": "white",
            "gridwidth": 2,
            "linecolor": "white",
            "showbackground": true,
            "ticks": "",
            "zerolinecolor": "white"
           }
          },
          "shapedefaults": {
           "line": {
            "color": "#2a3f5f"
           }
          },
          "ternary": {
           "aaxis": {
            "gridcolor": "white",
            "linecolor": "white",
            "ticks": ""
           },
           "baxis": {
            "gridcolor": "white",
            "linecolor": "white",
            "ticks": ""
           },
           "bgcolor": "#E5ECF6",
           "caxis": {
            "gridcolor": "white",
            "linecolor": "white",
            "ticks": ""
           }
          },
          "title": {
           "x": 0.05
          },
          "xaxis": {
           "automargin": true,
           "gridcolor": "white",
           "linecolor": "white",
           "ticks": "",
           "zerolinecolor": "white",
           "zerolinewidth": 2
          },
          "yaxis": {
           "automargin": true,
           "gridcolor": "white",
           "linecolor": "white",
           "ticks": "",
           "zerolinecolor": "white",
           "zerolinewidth": 2
          }
         }
        },
        "width": 800
       }
      },
      "image/png": "[encoded data removed]",
      "text/html": [
       "<div>\n",
       "        \n",
       "        \n",
       "            <div id=\"0db15928-1974-4dde-baff-0f3552c29f9e\" class=\"plotly-graph-div\" style=\"height:600px; width:800px;\"></div>\n",
       "            <script type=\"text/javascript\">\n",
       "                require([\"plotly\"], function(Plotly) {\n",
       "                    window.PLOTLYENV=window.PLOTLYENV || {};\n",
       "                    \n",
       "                if (document.getElementById(\"0db15928-1974-4dde-baff-0f3552c29f9e\")) {\n",
       "                    Plotly.newPlot(\n",
       "                        '0db15928-1974-4dde-baff-0f3552c29f9e',\n",
       "                        [{\"customdata\": [[\"Scrypt\"], [\"X13\"], [\"SHA-256\"], [\"SHA-256\"], [\"Scrypt\"], [\"X15\"], [\"Scrypt\"], [\"Scrypt\"], [\"Multiple\"], [\"Scrypt\"], [\"SHA-256\"], [\"Scrypt\"], [\"Scrypt\"], [\"Scrypt\"], [\"Groestl\"], [\"Scrypt\"], [\"Scrypt\"], [\"Scrypt\"], [\"Scrypt\"], [\"Scrypt\"], [\"X11\"], [\"Scrypt\"], [\"Groestl\"], [\"SHA-256\"], [\"Scrypt\"], [\"Scrypt\"], [\"Scrypt\"], [\"Scrypt\"], [\"Scrypt\"], [\"Scrypt\"], [\"Scrypt\"], [\"Scrypt\"], [\"Scrypt\"], [\"X11\"], [\"Scrypt\"], [\"SHA-256\"], [\"Scrypt\"], [\"Scrypt\"], [\"Scrypt\"], [\"SHA3\"], [\"HybridScryptHash256\"], [\"Scrypt\"], [\"Scrypt\"], [\"SHA-256\"], [\"Scrypt\"], [\"Scrypt\"], [\"Scrypt\"], [\"NeoScrypt\"], [\"Scrypt\"], [\"Scrypt\"], [\"Scrypt\"], [\"Scrypt\"], [\"X11\"], [\"X11\"], [\"Multiple\"], [\"SHA-256\"], [\"X11\"], [\"SHA-256\"], [\"SHA-256\"], [\"SHA-256\"], [\"X11\"], [\"Scrypt\"], [\"Scrypt\"], [\"Scrypt\"], [\"Scrypt\"], [\"X11\"], [\"Multiple\"], [\"SHA-256\"], [\"X13\"], [\"Scrypt\"], [\"Scrypt\"], [\"SHA-256\"], [\"Groestl\"], [\"Scrypt\"], [\"Scrypt\"], [\"X13\"], [\"Scrypt\"], [\"Scrypt\"], [\"Scrypt\"], [\"Scrypt\"], [\"X13\"], [\"Multiple\"], [\"Scrypt\"], [\"Scrypt\"], [\"X13\"], [\"Stanford Folding\"], [\"Scrypt\"], [\"X11\"], [\"X11\"], [\"Multiple\"], [\"QuBit\"], [\"NeoScrypt\"], [\"Scrypt\"], [\"NeoScrypt\"], [\"Blake\"], [\"Scrypt\"], [\"Scrypt\"], [\"SHA-256\"], [\"Scrypt\"], [\"Scrypt\"], [\"X11\"], [\"Scrypt\"], [\"M7 POW\"], [\"Scrypt\"], [\"SHA-256\"], [\"Scrypt\"], [\"X11\"], [\"Scrypt\"], [\"Scrypt\"], [\"X11\"], [\"Lyra2RE\"], [\"SHA-256\"], [\"QUAIT\"], [\"X11\"], [\"SHA-256\"], [\"X11\"], [\"X11\"], [\"Scrypt\"], [\"Scrypt\"], [\"Scrypt\"], [\"Scrypt\"], [\"Scrypt\"], [\"X13\"], [\"X11\"], [\"Scrypt\"], [\"X15\"], [\"X11\"], [\"SHA-256\"], [\"Scrypt\"], [\"Scrypt\"], [\"X11\"], [\"SHA-256\"], [\"1GB AES Pattern Search\"], [\"SHA-256\"], [\"X11\"], [\"SHA-256\"], [\"Scrypt\"], [\"SHA-256\"], [\"NIST5\"], [\"Scrypt\"], [\"X11\"], [\"Scrypt\"], [\"X11\"], [\"Scrypt\"], [\"Dagger\"], [\"Scrypt\"], [\"X11\"], [\"Scrypt\"], [\"SHA-256\"], [\"Scrypt\"], [\"X11\"], [\"X11\"], [\"SHA-256\"], [\"SHA-256\"], [\"NIST5\"], [\"X11\"], [\"Scrypt\"], [\"Scrypt\"], [\"Scrypt\"], [\"X11\"], [\"X11\"], [\"Scrypt\"], [\"CryptoNight\"], [\"SHA-256\"], [\"SHA-256\"], [\"X11\"], [\"Scrypt\"], [\"Multiple\"], [\"Scrypt\"], [\"Scrypt\"], [\"Scrypt\"], [\"SHA-256\"], [\"Scrypt\"], [\"Scrypt\"], [\"SHA-256D\"], [\"Scrypt\"], [\"X11\"], [\"SHA-256D\"], [\"Ethash\"], [\"Equihash\"], [\"X11\"], [\"Scrypt\"], [\"X11\"], [\"X13\"], [\"Scrypt\"], [\"Scrypt\"], [\"X11\"], [\"X11\"], [\"SHA-256\"], [\"Scrypt\"], [\"X11\"], [\"Scrypt\"], [\"Scrypt\"], [\"X11\"], [\"CryptoNight\"], [\"Scrypt\"], [\"Scrypt\"], [\"Scrypt\"], [\"QuBit\"], [\"Scrypt\"], [\"CryptoNight\"], [\"Lyra2RE\"], [\"Scrypt\"], [\"SHA-256\"], [\"X11\"], [\"Scrypt\"], [\"X11\"], [\"Scrypt\"], [\"CryptoNight-V7\"], [\"Scrypt\"], [\"Scrypt\"], [\"Scrypt\"], [\"X11\"], [\"Equihash\"], [\"Scrypt\"], [\"Scrypt\"], [\"Lyra2RE\"], [\"Scrypt\"], [\"Dagger-Hashimoto\"], [\"X11\"], [\"Blake2S\"], [\"X11\"], [\"Scrypt\"], [\"X11\"], [\"NIST5\"], [\"X11\"], [\"Scrypt\"], [\"Scrypt\"], [\"Scrypt\"], [\"X11\"], [\"Scrypt\"], [\"Scrypt\"], [\"Scrypt\"], [\"SHA-256\"], [\"Scrypt\"], [\"X15\"], [\"Scrypt\"], [\"X11\"], [\"CryptoNight-V7\"], [\"536\"], [\"Argon2d\"], [\"Cloverhash\"], [\"CryptoNight\"], [\"NIST5\"], [\"X11\"], [\"NIST5\"], [\"Skein\"], [\"Scrypt\"], [\"X13\"], [\"Scrypt\"], [\"X11\"], [\"X11\"], [\"Scrypt\"], [\"Ethash\"], [\"CryptoNight\"], [\"X13\"], [\"Time Travel\"], [\"Scrypt\"], [\"X11\"], [\"Skein\"], [\"X11\"], [\"Scrypt\"], [\"Scrypt\"], [\"Scrypt\"], [\"Scrypt\"], [\"Scrypt\"], [\"Scrypt\"], [\"Scrypt\"], [\"Scrypt\"], [\"Scrypt\"], [\"CryptoNight\"], [\"X11\"], [\"Equihash\"], [\"NeoScrypt\"], [\"X11\"], [\"Scrypt\"], [\"NeoScrypt\"], [\"Scrypt\"], [\"SHA-256\"], [\"NIST5\"], [\"PHI1612\"], [\"Dagger\"], [\"Scrypt\"], [\"Scrypt\"], [\"X11\"], [\"NeoScrypt\"], [\"Ethash\"], [\"NeoScrypt\"], [\"X11\"], [\"NIST5\"], [\"Multiple\"], [\"Scrypt\"], [\"CryptoNight\"], [\"SHA-256\"], [\"CryptoNight\"], [\"Ethash\"], [\"X11\"], [\"CryptoNight-V7\"], [\"Scrypt\"], [\"Scrypt\"], [\"Scrypt\"], [\"X11\"], [\"BLAKE256\"], [\"X11\"], [\"NeoScrypt\"], [\"NeoScrypt\"], [\"Scrypt\"], [\"Scrypt\"], [\"Scrypt\"], [\"X11\"], [\"SHA-256\"], [\"C11\"], [\"SkunkHash\"], [\"Scrypt\"], [\"CryptoNight\"], [\"Scrypt\"], [\"Lyra2REv2\"], [\"Scrypt\"], [\"Scrypt\"], [\"X11\"], [\"C11\"], [\"X11\"], [\"CryptoNight\"], [\"Scrypt\"], [\"IMesh\"], [\"NIST5\"], [\"Scrypt\"], [\"Scrypt\"], [\"Equihash\"], [\"Lyra2Z\"], [\"Scrypt\"], [\"X11\"], [\"CryptoNight\"], [\"NIST5\"], [\"Tribus\"], [\"Lyra2Z\"], [\"CryptoNight Heavy\"], [\"Scrypt\"], [\"Jump Consistent Hash\"], [\"SHA-256D\"], [\"CryptoNight\"], [\"Scrypt\"], [\"HMQ1725\"], [\"X11\"], [\"Lyra2REv2\"], [\"Scrypt\"], [\"Scrypt\"], [\"CryptoNight-V7\"], [\"Cryptonight-GPU\"], [\"X11\"], [\"X11\"], [\"Scrypt\"], [\"Equihash\"], [\"Lyra2Z\"], [\"CryptoNight\"], [\"Scrypt\"], [\"Scrypt\"], [\"QuBit\"], [\"Scrypt\"], [\"SHA-256\"], [\"SHA-256\"], [\"SHA-256\"], [\"Ethash\"], [\"Multiple\"], [\"HEX\"], [\"SHA-256\"], [\"Ethash\"], [\"Scrypt\"], [\"CryptoNight-V7\"], [\"X11\"], [\"Ethash\"], [\"Equihash\"], [\"SHA-256\"], [\"BLAKE256\"], [\"Equihash\"], [\"Equihash\"], [\"Blake2b\"], [\"Equihash210,9\"], [\"Lyra2REv2\"], [\"Multiple\"], [\"Multiple\"], [\"Scrypt\"], [\"NeoScrypt\"], [\"SHA-256\"], [\"Blake2b\"], [\"CryptoNight\"], [\"Equihash\"], [\"Lyra2Z\"], [\"SHA3\"], [\"SHA-256\"], [\"X13\"], [\"X11\"], [\"X11GOST\"], [\"Scrypt\"], [\"X13\"], [\"Groestl\"], [\"Quark\"], [\"Scrypt\"], [\"Shabal256\"], [\"Ethash\"], [\"Scrypt\"], [\"Scrypt\"], [\"CryptoNight\"], [\"Scrypt\"], [\"Scrypt\"], [\"Scrypt\"], [\"Keccak\"], [\"SHA-256\"], [\"Scrypt\"]], \"hoverlabel\": {\"namelength\": 0}, \"hovertemplate\": \"<b>%{hovertext}</b><br><br>class=%{marker.color}<br>p3=%{x}<br>p2=%{y}<br>p1=%{z}<br>Algorithm=%{customdata[0]}\", \"hovertext\": [\"42 Coin\", \"EliteCoin\", \"BitcoinDark\", \"PayCoin\", \"ProsperCoin\", \"KoboCoin\", \"Argentum\", \"BlueCoin\", \"MyriadCoin\", \"MoonCoin\", \"ZetaCoin\", \"SexCoin\", \"Quatloo\", \"EnergyCoin\", \"Riecoin\", \"Digitalcoin \", \"BitBar\", \"Catcoin\", \"CryptoBullion\", \"CannaCoin\", \"CryptCoin\", \"CasinoCoin\", \"Diamond\", \"DevCoin\", \"EarthCoin\", \"E-Gulden\", \"Emerald\", \"FlutterCoin\", \"Franko\", \"GrandCoin\", \"GlobalCoin\", \"GoldCoin\", \"HoboNickels\", \"HyperStake\", \"Infinite Coin\", \"IXcoin\", \"KrugerCoin\", \"LuckyCoin\", \"Litebar \", \"MaxCoin\", \"MediterraneanCoin\", \"MintCoin\", \"MinCoin\", \"MazaCoin\", \"Nautilus Coin\", \"NobleCoin\", \"NyanCoin\", \"Orbitcoin\", \"PhoenixCoin\", \"RonPaulCoin\", \"StableCoin\", \"SmartCoin\", \"SuperCoin\", \"SyncCoin\", \"TeslaCoin\", \"TigerCoin\", \"TorCoin\", \"TerraCoin\", \"UnbreakableCoin\", \"Unobtanium\", \"UroCoin\", \"UnitaryStatus Dollar\", \"UltraCoin\", \"VeriCoin\", \"WorldCoin\", \"X11 Coin\", \"Crypti\", \"JouleCoin\", \"StealthCoin\", \"ZCC Coin\", \"MonaCoin\", \"Neutron\", \"FairCoin\", \"RubyCoin\", \"PesetaCoin\", \"Kore\", \"Wild Beast Coin\", \"Dnotes\", \"Flo\", \"8BIT Coin\", \"Sativa Coin\", \"JoinCoin\", \"ArtByte\", \"LiteDoge\", \"Triangles Coin\", \"Folding Coin\", \"SolarCoin\", \"TruckCoin\", \"Ucoin\", \"Unitus\", \"CypherPunkCoin\", \"UFO Coin\", \"OrangeCoin\", \"FriendshipCoin\", \"BlakeCoin\", \"OmniCron\", \"BitstarCoin\", \"NeosCoin\", \"HyperCoin\", \"Vtorrent\", \"PinkCoin\", \"GreenCoin\", \"Cryptonite\", \"BitcoinPlus\", \"SoonCoin\", \"1Credit\", \"IslaCoin\", \"Crypto Escudo\", \"AudioCoin\", \"MarsCoin \", \"Crypto\", \"Anarchists Prime\", \"Droidz\", \"BowsCoin\", \"IncaKoin\", \"Squall Coin\", \"Piggy Coin\", \"Genstake\", \"Song Coin\", \"SmileyCoin\", \"BitZeny\", \"XiaoMiCoin\", \"Paycon\", \"CapriCoin\", \" ClubCoin\", \"EverGreenCoin\", \"MindCoin\", \"I0coin\", \"Bata\", \"Pakcoin\", \"Creditbit \", \"OKCash\", \"HOdlcoin\", \"EDRCoin\", \"Hitcoin\", \"DubaiCoin\", \"HiCoin\", \"CarpeDiemCoin\", \"PWR Coin\", \"BillaryCoin\", \"Influxcoin\", \"GPU Coin\", \"Adzcoin\", \"Gapcoin\", \"SoilCoin\", \"YoCoin\", \"EuropeCoin\", \"ZeitCoin\", \"SwingCoin\", \"Francs\", \"BolivarCoin\", \"Ratecoin\", \"Revenu\", \"Clockcoin\", \"VIP Tokens\", \"BitSend\", \"PutinCoin\", \"iBankCoin\", \"Frankywillcoin\", \"PizzaCoin\", \"GoldBlocks\", \"CarterCoin\", \"Karbo\", \"BitTokens\", \"ZayedCoin\", \"MustangCoin\", \"ZoneCoin\", \"Circuits of Value\", \"RootCoin\", \"DopeCoin\", \"BitCurrency\", \"DollarCoin\", \"Swiscoin\", \"Shilling\", \"BuzzCoin\", \"PesoBit\", \"Halloween Coin\", \"LanaCoin\", \"Elementrem\", \"ZClassic\", \"InsaneCoin\", \"KiloCoin\", \"ArtexCoin\", \"EmberCoin\", \"PLNCoin\", \"AquariusCoin\", \"Kurrent\", \"Eternity\", \"Eurocoin\", \"BitcoinFast\", \"Stakenet\", \"BitConnect Coin\", \"MoneyCoin\", \"Enigma\", \"Cannabis Industry Coin\", \"Russiacoin\", \"PandaCoin\", \"GameUnits\", \"LiteCreed\", \"OsmiumCoin\", \"Bikercoins\", \"HexxCoin\", \"Klingon Empire Darsek\", \"Internet of People\", \"KushCoin\", \"Printerium\", \"PacCoin\", \"Impeach\", \"Citadel\", \"Zilbercoin\", \"FirstCoin\", \"BeaverCoin\", \"VaultCoin\", \"Zero\", \"OpenChat\", \"Canada eCoin\", \"Zoin\", \"RenosCoin\", \"DubaiCoin\", \"VirtacoinPlus\", \"TajCoin\", \"Impact\", \"EB3coin\", \"HappyCoin\", \"Coinonat\", \"Condensate\", \"Independent Money System\", \"ArgusCoin\", \"LomoCoin\", \"GoldReserve\", \"BenjiRolls\", \"ParallelCoin\", \"GrowthCoin\", \"ILCoin\", \"Degas Coin\", \"HTML5 Coin\", \"EquiTrader\", \"Insane Coin\", \"Quantum Resistant Ledger\", \"Espers\", \"Dynamic\", \"ChanCoin\", \"Dinastycoin\", \"Denarius\", \"DigitalPrice\", \"Virta Unique Coin\", \"Bitcoin Planet\", \"Unify\", \"BritCoin\", \"SocialCoin\", \"ArcticCoin\", \"DAS\", \"Linda\", \"Reality Clash\", \"LeviarCoin\", \"DeepOnion\", \"Bitcore\", \"gCn Coin\", \"Onix\", \"Cream\", \"Monoeci\", \"Draftcoin\", \"Sojourn Coin\", \"NewYorkCoin\", \"FrazCoin\", \"Kronecoin\", \"AdCoin\", \"Linx\", \"CoinonatX\", \"Ethereum Dark\", \"Sumokoin\", \"Regalcoin\", \"BitcoinZ\", \"TrezarCoin\", \"Elements\", \"TerraNovaCoin\", \"VIVO Coin\", \"WomenCoin\", \"Theresa May Coin\", \"NamoCoin\", \"LUXCoin\", \"Pirl\", \"Xios\", \"BlackholeCoin\", \"Pura\", \"Innova\", \"Ellaism\", \"GoByte\", \"Magnet\", \"Electra\", \"SHIELD\", \"Cash & Back Coin\", \"UltraNote\", \"GlobalToken\", \"BitCoal\", \"DaxxCoin\", \"AC3\", \"Lethean\", \"GermanCoin\", \"LiteCoin Ultra\", \"PopularCoin\", \"PhantomX\", \"Photon\", \"Sucre\", \"SparksPay\", \"GunCoin\", \"IrishCoin\", \"Trollcoin\", \"Litecoin Plus\", \"Pioneer Coin\", \"UnitedBitcoin\", \"Interzone\", \"MUNcoin\", \"Unified Society USDEX\", \"Niobio Cash\", \"ShareChain\", \"KREDS\", \"BitFlip\", \"LottoCoin\", \"Crypto Improvement Fund\", \"Stipend\", \"Pushi\", \"BitTube\", \"Poseidon\", \"Aidos Kuneen\", \"Bitspace\", \"Briacoin\", \"Ignition\", \"Bitrolium\", \"Alpenschillling\", \"Abjcoin\", \"FuturoCoin\", \"Monero Classic\", \"Jumpcoin\", \"KEYCO\", \"GINcoin\", \"Loki\", \"Swisscoin\", \"MassGrid\", \"TheVig\", \"PluraCoin\", \"EmaratCoin\", \"PlusOneCoin\", \"Axe\", \"Absolute Coin\", \"HexCoin\", \"TPCash\", \"Webchain\", \"Ryo\", \"EUNO\", \"Azart\", \"ThunderStake\", \"CrypticCoin\", \"Actinium\", \"FREDEnergy\", \"Oduwa\", \"Credit\", \"SLICE\", \"Nasdacoin\", \"BLAST\", \"Bitcoin SV\", \"Project Pai\", \"Callisto Network\", \"Crown Coin\", \"XDNA\", \"Bitcoin\", \"Ethereum\", \"Litecoin\", \"Monero\", \"Dash\", \"Ethereum Classic\", \"ZCash\", \"Bitcoin Cash\", \"Decred\", \"Bitcoin Gold\", \"Komodo\", \"Siacoin\", \"Aion\", \"Vertcoin\", \"DigiByte\", \"Verge\", \"Reddcoin\", \"FeatherCoin\", \"Namecoin\", \"Nano\", \"ByteCoin\", \"Horizen\", \"ZCoin\", \"Nexus\", \"SysCoin\", \"NavCoin\", \"IOCoin\", \"SibCoin\", \"Aurora Coin\", \"Bitcoin Diamond\", \"Groestlcoin\", \"QuarkCoin\", \"Einsteinium\", \"BurstCoin\", \"Expanse\", \"ViaCoin\", \"WhiteCoin\", \"DigitalNote \", \"PotCoin\", \"Gulden\", \"Gamecredits\", \"SmartCash\", \"Emercoin\", \"MegaCoin\"], \"legendgroup\": \"class=2\", \"marker\": {\"color\": [2, 2, 2, 2, 2, 2, 2, 2, 2, 2, 2, 2, 2, 2, 2, 2, 2, 2, 2, 2, 2, 2, 2, 2, 2, 2, 2, 2, 2, 2, 2, 2, 2, 2, 2, 2, 2, 2, 2, 2, 2, 2, 2, 2, 2, 2, 2, 2, 2, 2, 2, 2, 2, 2, 2, 2, 2, 2, 2, 2, 2, 2, 2, 2, 2, 2, 2, 2, 2, 2, 2, 2, 2, 2, 2, 2, 2, 2, 2, 2, 2, 2, 2, 2, 2, 2, 2, 2, 2, 2, 2, 2, 2, 2, 2, 2, 2, 2, 2, 2, 2, 2, 2, 2, 2, 2, 2, 2, 2, 2, 2, 2, 2, 2, 2, 2, 2, 2, 2, 2, 2, 2, 2, 2, 2, 2, 2, 2, 2, 2, 2, 2, 2, 2, 2, 2, 2, 2, 2, 2, 2, 2, 2, 2, 2, 2, 2, 2, 2, 2, 2, 2, 2, 2, 2, 2, 2, 2, 2, 2, 2, 2, 2, 2, 2, 2, 2, 2, 2, 2, 2, 2, 2, 2, 2, 2, 2, 2, 2, 2, 2, 2, 2, 2, 2, 2, 2, 2, 2, 2, 2, 2, 2, 2, 2, 2, 2, 2, 2, 2, 2, 2, 2, 2, 2, 2, 2, 2, 2, 2, 2, 2, 2, 2, 2, 2, 2, 2, 2, 2, 2, 2, 2, 2, 2, 2, 2, 2, 2, 2, 2, 2, 2, 2, 2, 2, 2, 2, 2, 2, 2, 2, 2, 2, 2, 2, 2, 2, 2, 2, 2, 2, 2, 2, 2, 2, 2, 2, 2, 2, 2, 2, 2, 2, 2, 2, 2, 2, 2, 2, 2, 2, 2, 2, 2, 2, 2, 2, 2, 2, 2, 2, 2, 2, 2, 2, 2, 2, 2, 2, 2, 2, 2, 2, 2, 2, 2, 2, 2, 2, 2, 2, 2, 2, 2, 2, 2, 2, 2, 2, 2, 2, 2, 2, 2, 2, 2, 2, 2, 2, 2, 2, 2, 2, 2, 2, 2, 2, 2, 2, 2, 2, 2, 2, 2, 2, 2, 2, 2, 2, 2, 2, 2, 2, 2, 2, 2, 2, 2, 2, 2, 2, 2, 2, 2, 2, 2, 2, 2, 2, 2, 2, 2, 2, 2, 2, 2, 2, 2, 2, 2, 2, 2, 2, 2, 2, 2, 2, 2, 2, 2, 2, 2, 2, 2, 2, 2, 2, 2, 2, 2, 2, 2, 2, 2, 2, 2, 2, 2, 2, 2, 2, 2, 2, 2, 2, 2, 2, 2], \"coloraxis\": \"coloraxis\", \"symbol\": \"circle\"}, \"mode\": \"markers\", \"name\": \"class=2\", \"scene\": \"scene\", \"showlegend\": true, \"type\": \"scatter3d\", \"x\": [-0.9820036011545806, -0.6294816171471398, -0.6514554577190261, 0.1530143778306142, -1.0921749276567143, -0.5034481482990837, -1.1253661896187634, -0.9827648762356447, -0.822031081059367, -1.434038718434422, -0.8699703169225323, -1.108698847977458, -1.0783480841128428, -1.0042859428371156, -1.015584533649019, -1.1208541180560712, -0.974103713151591, -1.0691321148643886, -1.0027043283824886, -1.0765960324370865, -0.6624726768988588, -1.5603715968841347, -0.8976821416646095, -0.7774610806590299, -1.1222566547253923, -1.0769785089569195, -1.1638051409582408, -1.3494077269733773, -1.1088293400105675, -1.0569852757728515, -1.097732734180709, -1.0539443645590882, -1.024877857335342, 0.24658117515869948, -1.3289276462119664, -0.7214837303722984, -1.1103453254252655, -1.0565769851957592, -1.0543376871644958, -1.0755105593337728, -1.0279163893114516, -0.6313768971709395, -1.0728654137589992, -0.6309613925162377, -0.1379833828041767, -1.0744510675366774, -1.0389477531263767, -0.5811809679350259, -0.9596459547632064, -1.0484877967391595, -1.043900816028093, -1.0458492199965908, 0.21599709753406196, -0.5102355803002356, 0.13463556185770684, -0.6917330744182137, -0.5113610920799956, -0.6908131572222977, -0.6899335251549776, -1.3748997788984387, -0.6065662588157675, -1.3781468256764946, -0.9570132600195747, -1.3299552583015803, -1.0217366385563138, -0.5138136173480173, 0.17339831835504033, -0.7357791507186728, -0.3986724597463293, -0.95673778073039, -1.0123550429284636, -0.5756229393430097, -0.8376012480325531, -0.12101305488697653, -1.006305629836146, -0.3574685405966441, -1.018209968245909, -0.11094496656761367, -1.048223800459497, -0.9031295289216356, -0.3491442338936822, -0.7256732247930215, -1.0020997801847884, -0.9555357130316862, -0.36126439535551297, -0.9433986764637351, -1.126062461911441, -0.4989786018460708, 0.32523929392850115, -0.7057902945475134, -0.5069998695392208, -0.6398949957097543, -0.8956120140056261, -0.5124112973760573, -0.2935746506768166, -0.9950369200943006, -0.9115096521884931, 0.24175072814270246, -0.892456358886373, -0.8898676216391013, -0.4847762086526157, -1.013662021008163, -0.9172289598089414, -0.09349467094529335, -0.6458713365480974, -1.0664509817095866, -0.46001238493425856, -0.9940887976425927, -0.9160016536668107, -0.5673458545972967, -0.7704546988565195, -0.6371927687113097, -0.7153170422432311, -0.5540288686018656, -0.5883759487354342, 0.4358212156705345, -0.47790364141999203, -0.8630455246358745, -0.9589286764447058, -1.0530265299833321, -0.9557766008833045, -0.856605033425839, -0.2980925726773491, -0.45882268144188987, -0.8575455068301917, -0.35058719783522435, -0.5286049132122659, -1.0587191715311415, -0.9456976414524695, -0.949606813526787, -0.3106688063763156, -0.5337037326791049, -0.8593827730057347, -0.5099892713151516, -0.4628827856326963, -0.5043194189655354, -0.07964887018550015, -0.6535423998337274, -0.3531573279128626, -0.8446657016805248, -0.42310893874788125, -0.025055426595984618, -0.5098015478306729, -0.8396881933484842, -0.6656162775668388, -0.9298563866102386, -0.40851915688579177, -0.23185382012302594, -0.4932945795009284, -0.9187429515529243, -0.5004266309950901, -0.3955773157990536, -0.46728758886883853, -0.9108510125282774, -0.28667035271589386, -0.38640953139397194, -0.7934246196223038, -0.7879527345465166, -0.7940390479430286, -0.46389101253671405, -0.36081026744938555, -0.7738686302938528, -0.493826232876498, -0.4348938499669585, -0.5347654628382027, -0.36106400969000224, -0.7681333851069059, -0.5803037064399487, -0.7663401554998845, -0.8659727926089559, 0.04115041959992917, -0.525611641065535, -0.9191376375456927, -0.861149125494847, -0.18129119868388377, -0.7563393248112559, -0.34525575202264486, -0.12371735071969264, -0.06632106767775044, -0.2169189750180358, -0.3073203036700078, -0.8312767224007136, -0.40256278349913277, -0.29318339947823735, -0.712626942925541, -0.7331745765420885, -0.3941460690488548, -0.2998823153121724, -0.3743436580323355, -0.7397709836248697, -0.04924684704405218, -0.7188658934730067, -0.7058076836965335, -0.2839320736485975, -0.4187801234856827, -0.6973508262503596, -0.010491193111967091, -0.6951526632041526, -0.2042638122131994, -0.7861503855993168, -0.40254627622096684, -0.5897495825313557, -0.6799808128566902, -0.34468813632559614, -0.2615282857662091, -0.6709446503929994, -0.4510715475580797, -0.6700439986719376, -0.4325442875070344, 0.13342698381218643, -0.7913803757110484, -0.7622232421716019, -0.34401221931248577, -0.2331110490907302, -0.6608442527479046, -0.8249513736008516, -0.5609766696209694, 0.14323701817366444, -0.5047342262545867, -0.2646638178291657, -0.33767750272327524, -0.23248237451054896, -0.752475880297003, -0.23016060386957868, -0.22911343189024955, -0.22918854215225154, -0.6381425573029741, -0.6375527478453289, -0.6466439906186426, -0.21810414805040673, -0.7381871175473216, -0.7344455211445196, 0.12553003833216522, -0.4202163034789273, -0.6299713661545567, -0.2609149249804469, -0.7329167998235875, -0.20906600072803416, -0.3927152265808025, -0.29962546032262666, 0.3429460436455455, -0.4650949535691255, -0.3200691878176627, -0.0841053923594932, -0.28618266942810044, -0.08506320399876376, -0.20939756136011153, -0.696671002060036, -0.04221764170567321, -0.6955234030490329, -0.2755071854870247, -0.2644630176747498, -0.6464466523073324, 0.08849511616675193, -0.2944481117121522, -0.0390105712924144, -0.39038937543579905, -1.089862053672471, -0.25968296014883313, -0.18275888866828427, -0.14703137819191292, 0.2449075273312895, -0.6536153448589437, -0.8389696139103079, -0.6372758005396982, -0.6409329475224814, -0.6402866640619722, -0.6341347652466514, -0.5336010377320716, -0.5181750279034989, -0.23538504035148247, -0.09527859995187109, -0.0963257868650317, -0.12364157208881514, -0.1798809234908777, -0.49553013944712665, -0.205454469198411, -0.5700902248146503, -0.1434941368288239, 0.03409275852615603, 0.017711438691044946, -0.3136066142242346, -0.4700307475134638, -0.46907072186987187, -0.13797601903206116, -0.17423828393045374, 0.2218116137075253, -0.15796122524196834, -0.022091837619499177, 0.014182839572337473, -0.2445305309685824, -0.425243241765418, -0.25196108452479055, -0.18109283772030613, -0.13249275774542352, 0.24268629740414016, -0.09432613843628876, -0.16833687671808084, -0.4577292294421565, -0.4036863081773907, -0.5110069130177859, 0.008617824055336268, -0.34563227264200674, -0.0782304234304316, -0.10711384196814909, -0.11743314354681102, -0.4885202356013202, -0.42007125316947347, -0.4290221611888991, -0.0536668838222839, -0.13004787485739602, 0.07745411937184324, 0.07461560667915355, -0.3268713162219352, -0.03752862623140271, -0.4314155161399169, 0.333960244962259, -0.3905791083643611, -0.4246458130357891, 0.03584828075037209, 0.2606821238698712, 0.1429624055742022, 0.016047570404841695, -0.3572447149240093, 0.24411917815816986, 0.26035726846989515, -0.24220792297819724, -0.23569684301980176, 0.28549135068355197, 0.2724270388520562, -0.22310715101932846, 0.113291464372118, 0.05714594333811441, 0.21143867236685693, 0.3611539438494441, 0.3146685410490155, 0.46122404918089027, -0.20591394279002204, 0.48346202017027845, 0.47287545389080027, 0.1290058163505939, -0.14544826789102913, 0.5118091138643662, 0.18117342382166113, 0.6196266670814192, -0.21318025763092457, -0.1185980684465033, 0.12552079432639818, 0.5229938825813766, 0.30333925738321965, 0.23847892416876723, -0.118338675638979, 0.504195691820914, 0.5157141879365605, 0.3616413266996321, 0.139477387485589, 0.08824390371105093, 0.6112846593727639, 0.24869059895620885, 0.4836714318885, 0.21214283340539888, 0.13204458839279673, 0.3949682111642347, 0.09462752202728006, 0.6686681546701908, -0.7622937268623389, -0.42718458678278826, -1.1099137708344555, -0.7738642434214491, -0.5854089332269828, -0.3210197661991336, -0.48154670375392444, -0.488829765973741, -0.5863963880335746, 0.02798204153465875, 0.25045153746349275, -1.494791833531764, -0.15944216631542563, -0.29427179275913956, -0.8417011268639902, -0.8559901824964102, -1.0140143557984096, -0.7051098924182395, -0.703485920941993, -0.8370057744682466, -1.0658931777645875, -0.1164916571783175, -0.25245571439922826, -1.4599231692788575, -1.0479449959956226, -0.430229385252126, -0.5623860037046094, -0.8334369347476207, -1.0028738904436447, 0.12283353944027126, -0.9149455508290854, 0.1412595488762234, -1.08945765505564, -1.8126999718218584, -0.18535381818198415, -1.1021521342236074, -0.8492527007185333, -0.6538219547383128, -0.9780009264266813, -1.008709016979395, -0.9402494161419742, 0.2875355124772893, -0.5171029848668929, -1.0584890917449126], \"y\": [-0.23289183336372665, -0.39087909674223636, -0.37633741693885814, 0.18199176074535248, -0.4001893141743071, -0.28382989299830147, -0.39344629116824875, -0.23350841807117484, -0.4923521567384234, -0.7152656900974605, -0.5219180173656512, -0.3971682410188916, -0.40309707888308666, -0.22852960265257963, -0.5307824458263978, -0.39438605073597566, -0.23452081379109316, -0.40484408973304237, -0.2287169375949843, -0.4033178485119255, -0.45165166480065905, 0.8582613160169634, -0.3650260367638762, -0.5849859745682918, -0.42257362741408955, -0.40328183107262244, -0.3856510548221955, -0.18393565218610303, -0.39678497576125477, -0.40978654601314973, -0.3991792337334202, -0.4080506970139184, -0.22447270844652326, 0.27302835810258225, -0.5508244831011136, -0.5518597968325923, -0.3971416792063776, -0.40745596174722665, -0.4078672034173716, -0.44993721428372535, -0.5691790636972304, 0.23349882523247475, -0.4041508823208857, -0.39166243460755507, 0.3172883892733728, -0.4216390501593969, -0.4117471786607402, -0.41002877533800564, -0.23788430470483055, -0.40910131306118513, -0.410628626470928, -0.4097045481939479, 0.2811366249571219, -0.293035702091632, 0.2284218824710459, -0.5579543552385652, -0.2928231480129827, -0.5581135891918121, -0.5583076247784496, -1.0462212581709307, -0.46306978107463315, -0.3164867979534123, -0.23838458802894957, -0.1804616544064543, -0.41495055945762704, -0.2923390009348933, 0.22060812817795117, -0.5490135052466403, -0.08796817362179876, -0.23998265617072034, -0.41665444030376336, -0.39199858017389133, -0.377404558992523, 0.3137681566545428, -0.4180408410631734, -0.09634180685157535, -0.415295532741439, 0.31103821390593017, -0.4096241904573119, -0.24908408723261574, -0.09804290938229235, -0.5080304552034672, -0.4205239284918548, -0.293077917538061, -0.09557100214825434, -0.5745852029663496, -0.49171850734782446, -0.2983622297695181, 0.25890756381359104, -0.5121525620805271, -0.6186753222518679, -0.5963607447986603, -0.2508332200312211, -0.4241490406994813, -0.6154211506357314, -0.4200449403813459, -0.24749800508083902, 0.16376011241252034, -0.25139578256854533, -0.25183918311551107, -0.29931516308780687, -0.4317641951428943, -0.6009738063010249, 0.308161681418552, -0.5673073445010685, -0.4976906908373685, -0.3033492320809036, -0.422460178863491, -0.258215830262532, -0.4712171778455436, -0.6228629826987562, -0.5695637086425415, -0.31266857785211993, -0.47407361524903185, -0.4123093493909427, -0.4019389321033496, -0.30133241887710654, -0.25739906991779193, -0.42768674106555266, -0.4939139936615035, -0.42842527818236537, -0.2597154211994606, -0.10858393486020544, -0.30409930446407546, -0.2588367459254498, -0.3148671601938822, -0.4791102250281529, -0.8708178457311828, -0.4301644576161196, -0.4296277387717417, -0.2664107271630645, -0.40073978701214313, -0.6374176226712335, -0.40540058944485147, -0.3425472536013497, -0.40654014101536606, 0.2833051280010312, -0.6133860717016867, -0.396257073802123, -0.2611602926562862, -0.31096024017179524, 0.2938675972925522, -0.48307409767107856, -0.2624037259736911, -0.6694863884695507, -0.4335856106483726, -0.3143262898281438, 0.19289526821173522, -0.4088580198118444, -0.43572299769712647, -0.484917212632491, -0.31682896679627454, -0.4143517213795788, -0.4823913959430114, -0.39653684486606045, -0.3186470700962322, -0.27469537496634505, -0.272780104786813, -0.2717174434995191, -0.4923888624856712, -0.3237841868100319, -0.27576384006769383, -0.5873504681861882, -0.4207995878668043, -0.590100645980606, -0.323687297772726, -0.2768236316807024, -0.5402389872232564, -0.27716999725476843, -0.4468627216911736, 0.2803418550467679, -0.5919844339925082, -0.2522160204555754, -0.4475616049732625, -0.3962666320772213, -0.2792610652732089, -0.3287857420872838, -0.3735052046053608, -0.5377387348964812, -0.7052337255595396, -0.3347499325541217, -0.4639165653547402, -0.5064406544903495, -0.2205655541026638, -0.2882550435893934, -0.28406806850586586, -0.5069841880364344, -0.33630737107433467, -0.4332447481854403, -0.2827498797314851, -0.31875428633348507, -0.28698038131959025, -0.29026209427006905, -0.33950586941834465, -0.6026515240093384, -0.29148692956730277, 0.21796939209582383, -0.2918009124719273, -0.49112905555130415, -0.4629150970895941, -0.6059986538270541, -0.6647483192393994, -0.29542921377558123, -0.4399955561805251, -0.34414724012992404, -0.29678826286185783, -0.5960026712334486, -0.29696136756555036, -0.7044377534107659, 0.2615332871748502, -0.2717062889208283, -0.46783107864302204, -0.5180153198585171, -0.7021086509380091, -0.3010267437768513, -0.45530698421830335, -0.6658422597304278, 0.2594495027310179, -0.6880544180453958, -0.343639390191598, -0.3925836665934724, -0.3503060540618069, -0.47391625416174343, -0.350706094590126, -0.5980368564861067, -0.3554580593767353, -0.3035166249476637, -0.3036401124061466, -0.3027662973050184, -0.35307620455309957, -0.4728248709313376, -0.47352865379287695, 0.2600757100329965, -0.6513582098340648, -0.30529751822003437, -0.47210912332599836, -0.4739461912023007, -0.35493408982164815, -0.7126966583447552, -0.48953148255913054, -0.5774541544539489, -0.6856576865422542, -0.627066440949221, -0.43795201604956296, -0.5293413206830676, -0.43793891784538974, -0.4380835068117908, -0.4813240811104586, -0.16109746933897443, -0.4816001226101798, -0.5312952204611604, -0.5333303906474042, -0.3637604787927395, -0.5695214966488529, -0.6282279868575167, -0.16178865324157243, -0.7392929553200382, -0.796171503338036, -0.5359548125637783, -0.4436028041622389, -0.3676461951743514, 0.23860444609636328, -0.5006613982935896, -0.6233707881695969, -0.4935096319993721, -0.49340373403787297, -0.4930782009199862, -0.49426350544229036, -0.3250249524809816, -0.32812963360088343, -0.6403834953839656, -0.3782847099681776, -0.9258036552258518, -0.5045645684293206, -0.5557174832995312, -0.332802158188648, -0.6769554965197953, -0.4004747028464254, -0.48081775726657017, -0.4643486990348083, -0.4839549394697692, -0.7419208564290269, -0.3380289342999096, -0.3383367769107029, -0.5598390293477419, -0.6835272278368373, -0.5971361723828114, -0.6868268832714222, -0.3934619607798848, -0.5221705586892254, -0.6080425092318607, -0.3475533947701412, -0.7493021127309688, -0.6629764644005952, -0.6614271323545049, -0.6117843648809276, -0.5688972626152162, -0.7600097403859016, -0.3965811013038801, -0.3517876548327006, -0.5309549932586292, -0.40036880447536793, -0.8119897416759614, -0.571772438339629, -0.697308205618326, -0.6958838469926083, -0.5248255220952798, -0.34995474092635215, -0.34654082649075807, -0.5766316186064042, -0.673510356293205, -0.7576469193924902, -0.7853921778365195, -0.3683973195704362, -0.683928509605661, -0.55773363655562, -0.6940534881174734, -0.5441854389577462, -0.5729288404474746, -0.5957219400838392, -0.6053130842575125, -0.42717665943474237, -0.7012556263120843, -0.5510012956021716, -0.8255054578845655, -0.5087520785853425, -0.38481260718533444, -0.3861372602266739, -0.8085153207188543, -0.831260216722111, -0.3887581554156608, -0.6110064212913064, -0.7004724239243004, -0.688485161919765, -0.8544334835534824, -0.8382348058388596, -0.8490243558771595, -0.41473504562901947, -0.8783438440539212, -0.48861544178087407, -0.7268484977762939, -0.40476624262035793, -0.856579016627135, -0.6249007932178989, -0.5612910412943424, -0.5805766586249954, -0.41118421877347044, -0.8205883863606114, -0.8433079405190111, -0.46063207093325986, -0.6368330104190381, -0.47015155229194155, -0.8659532219636354, -0.8801288013965026, -0.8527402577311981, -0.46320468986047, -0.5645560616968356, -0.8491050623275954, -0.48569204876462607, -0.8047972228873331, -0.804573353020723, -0.731621616078033, -0.639211363830814, 0.13858902372734197, -0.6414483465823052, -0.5435932911699938, -0.46397914549070624, -0.3968171980098024, -0.6342515874889656, -0.2779573375753225, -0.4857900958706933, -0.6510540375058161, -0.7379342117768252, -0.4678008371378524, -0.7555434331888246, -0.6767338583136628, -1.6722048203406794, -0.5566421132250787, -0.5636925523225473, -0.5320379325322898, -0.5269719823173307, -0.2676169946748937, -0.5749923210208067, -0.5554807545145636, -0.9181067662784557, -0.8749100880158581, -0.7260394183542215, -0.7220008247933045, -0.6329857387271226, -0.8152737970417967, -0.08154746114374169, -0.2824354972173768, -0.6643654773704152, -0.22871482530533194, -0.1953600273146092, -0.5515376891709736, -0.3969747058587045, -0.4012629705340006, 1.4384350100903402, -0.5132710630758078, -0.398253381869658, -0.26086800929634707, -0.5726648138887135, -0.23448549988924572, -0.4193981403487591, -0.4314397953538348, -0.6161279845205935, -0.4049619751214666, -0.40711245469107143], \"z\": [-0.5975491305496271, 2.1777010446792815, -0.5074833205111406, -0.3383615710965096, -0.3916182671856123, -0.4488341296917075, -0.3021093879557631, -0.5763948503299441, -0.25520382024547206, 2.319114687387362, -0.026256272990879206, -0.3235137301305356, -0.3883596070425174, -0.52860819972287, -0.463654147936456, -0.2962495618440977, -0.5887690541529322, -0.3958470883933293, -0.5207126819569445, -0.3787829907721552, -0.39304185755584775, 0.4074273552562057, -0.6741169204133453, 0.09449482834628282, -0.08364389035698895, -0.36112094658265653, -0.1765340920340941, -0.49917797104797523, -0.285028749717138, -0.37507242550968356, -0.30310030884990347, -0.39455413709575327, -0.43644816665329444, -0.38978438792696746, 1.4761738456588192, -0.28456142786973776, -0.2601567899673151, -0.3728197526909725, -0.3763374399733084, -0.9353353884885552, -0.37879239841597245, -0.2922864437073821, -0.3293381012683125, -0.40836746129548984, -0.418537725466703, -0.21852800722088356, -0.3836106252165172, -0.4877226575445243, -0.5330219178416017, -0.3588056201083279, -0.3631582347908557, -0.3552722087452786, -0.28524915095793507, -0.6147623534988376, -0.3052574646542886, -0.2893222078426301, -0.6072603881287207, -0.2892926709855105, -0.28895894593791493, -0.36112419885618197, -0.4170886603934683, -0.70175300803958, -0.5097908224326834, -0.437770243683748, -0.38077473775956727, -0.5883090021599274, -0.3696158379599843, -0.17945874108973825, -0.4214490638001273, -0.4899087248498761, -0.379296054048898, -0.47989785978772653, -0.6665089560207514, -0.3679070714982628, -0.3758377098868678, -0.4763292612031552, -0.351468861399582, -0.380780027846333, -0.28254062861831253, -0.5740181456624914, -0.4872540329707791, -0.3056549411368256, -0.35996442366653036, -0.12718275717527897, -0.4524873610023403, -0.35191209236538434, 0.3981066077120535, -0.5557019078719972, -0.43457679529041415, -0.33382290704726936, -0.3570420978279557, -0.218868071151677, -0.567021309030211, -0.5246195321373125, -0.18189215972143166, -0.367429009722488, -0.5262341252741235, -0.29209391160638815, -0.5643814082909652, -0.5690610947649224, -0.5667416637833793, -0.22817674947473185, -0.3471735444333244, -0.37231028712669556, -0.27371430961365284, 0.28252482049334865, -0.597013661403207, -0.315057937478115, -0.4119238659165706, -0.37434365095173033, -0.3470336934121609, -0.258781571278183, -0.6620294343855745, -0.38571438057493623, -0.17863902640001073, -0.3506127047228376, -0.516502432481892, -0.5590233358665946, -0.3601018768006058, 0.3651938001181021, -0.35815497384496386, -0.5404807766777096, -0.46873533562927544, -0.5255998977329844, -0.5323960952708169, -0.43459419157065626, -0.3892644818126812, -0.25418460874671317, -0.35729833811097234, -0.34469091196175844, -0.6044728899769042, -0.4014429186410948, -0.35633916117058984, -0.44869225343348207, -0.2633449536009798, -0.45557868668478246, -0.14851070161129382, 0.15599871899914156, -0.39917106390564777, -0.5283685446350844, -0.5606501246173887, -0.37684771223178287, -0.3817557824934003, -0.5188579998161058, -0.3412771845412072, -0.3390372035453449, -0.5661296823494074, 0.9239919321209598, -0.42205366072761813, -0.3391645885513157, -0.3621669683801227, -0.553899297148593, -0.44098049933071365, -0.5988607497945629, -0.5413817065398856, -0.5491754415312173, -0.5055230264874647, -0.5329913019033738, -0.5139822444688201, -0.36653393719589905, -0.5614464774145697, -0.5271965947656496, 0.24169046722632131, -0.4310490063425019, -0.2346532528024653, -0.5388191143054444, -0.5261921528771846, -0.2689116995163723, -0.5257229517157278, -0.3263070482395651, -0.3534985580928453, -0.2313792277419042, -0.44479732644403214, -0.32087166478198575, -0.12220473723734315, -0.5217968944191541, -0.5155552647011808, -0.4159087114734437, -0.22069791869494063, -0.21969932394372127, -0.5426770682937321, -0.2403570575065436, -0.3310567464045026, 0.6933331341376222, -0.5062854756870131, -0.46106745664438736, -0.33965524726537116, -0.5234611289949783, -0.40953298436768315, -0.4398383647266094, -0.517586670457076, -0.48096742118634805, -0.49941415328684075, -0.5348255798586065, 0.25576215748122816, -0.5002194132750657, 0.38655449375354006, -0.500476744049373, -0.4809518656593355, -0.30104412445716766, 0.2616276383095358, -0.26342419534531303, -0.49125106053089157, -0.3959675019937224, -0.5216319133388091, -0.49177435078368825, 0.395062341575842, -0.491586264332889, -0.23710601438214, -0.31514796366774966, -0.44228903092823213, -0.29256477148143356, -0.31661754946297527, -0.009545243831365286, -0.4685614161583907, -0.15001708406962008, -0.26314351628307386, -0.29928237683992476, -0.2412802304394851, -0.45002383720871203, -0.5624907474790675, -0.5145084361474198, -0.2587088090713548, -0.50208231704605, -0.28945452336136157, -0.4891582099985808, -0.4802664066469884, -0.48005624504131483, -0.45455102846713286, -0.5111225250563571, -0.2767690952964923, -0.2828112876411495, -0.20388787894398192, -0.08572906758859318, -0.47655992596695207, 0.7439804623350544, -0.2630651178506448, -0.5032761883432412, -0.20822180242787208, 0.41190197328558154, -0.13878040676741765, -0.20550175085959627, 0.3279420873035462, -0.4714588424622596, -0.28723487937554265, -0.4669013717482718, -0.5606315887687922, -0.26911738721080863, -0.37857716223534765, -0.2684612382979588, -0.28110133523418696, -0.29616167733669335, 0.01765555641507253, -0.16607907832644597, 0.3000637029853585, -0.33172245216519103, -0.2100448640965107, 3.1177329112659877, -0.2716998272134273, -0.5495266066015433, -0.47069199206160084, -0.24995993134859612, -0.17638215480681088, 1.4752516364903414, -0.2482499440846321, -0.23678953709190562, -0.23544897047050806, -0.24624682428567654, -0.442983143342786, -0.4380564109803653, 0.32110762699219947, -0.4525029887606948, 0.3825164715075347, -0.3577033070185011, -0.21258850179569594, -0.41382809760877043, -0.1832997869506745, 0.33594956483629307, -0.32644773637549807, -0.4126267390569219, -0.45007895445049123, -0.21571965763472628, -0.42096159284999435, -0.4083103679139635, -0.24689121162579256, -0.17180337954234326, -0.11726706960787639, -0.16404345425170588, -0.4277595054037192, 0.1413744935803964, -0.14225893843713666, -0.392029766164888, 1.2092570472807234, -0.10756066929806558, 0.3568081618201037, -0.03142068937552808, -0.2209877651879058, -0.13958774227785944, 0.015664956122277102, -0.3965051508938332, -0.10907600548075058, -0.4014911382961147, 1.0974326767604845, -0.22179327478268998, -0.14616788510692236, -0.11660467352879145, -0.17830521282832998, -0.2971368668450709, -0.2846500727735398, -0.21115024599546098, -0.09146843680488853, -0.16152965983168074, -0.056540768345976024, -0.34476714224364247, 0.4073015360119936, 0.023590224414814648, -0.06504881101461162, -0.15958868230864617, 0.14460036369807372, -0.18396311634385332, -0.3316465364765834, -0.3839582762226089, 0.43718315398705115, -0.1471449565988669, -0.051963862887707594, -0.32196107610436436, -0.31100897373623715, -0.3239473867259986, -0.04115186723411095, -0.0224741797868701, -0.3197399404543063, -0.161839930156601, 0.48054737468459885, -0.1253854039868982, 0.004050479671392883, -0.00310628768037965, 0.00968075179666203, -0.04025578125822536, 0.019902249251047634, -0.26447351859139057, 0.4953994032953877, -0.29618759764612757, 0.03286413131720955, -0.12816409721766056, -0.20671273209781352, -0.0982065985463616, -0.2741136803064605, -0.035613599405720786, 0.04178009364643579, -0.3083198554956855, -0.11643673617021649, -0.05416581843140354, 0.1440701243010792, 0.06549742926075758, 0.7707413954388905, -0.18757847755413357, 0.7314607839510933, 0.04171683496211678, -0.15419923815375183, 0.17963119434880784, 0.05968629314569893, 0.04565470433684981, -0.007051587580038423, -0.30205477148740933, -0.2532405909763446, -0.2971845037590639, -0.08984297264162724, -0.36432661791946336, -0.30969456143050367, -0.6072873480795977, -0.30802590019091153, -0.29435848614851523, -0.17160846284960354, -0.2814365889787196, -0.11786586262317982, -0.39472710786536275, 1.9571113419334536, 0.32104252468574407, -0.2758356549201223, -0.05222480408558455, 0.059005760413731914, -0.14675440643910537, -0.2806707186007609, -0.2940248894393035, 0.16243548123352256, 3.70110460714467, -0.16590878445899726, -0.209199213488563, -1.256114498179309, -0.3257959887015587, -0.4099576002616784, -0.5593154383345447, -0.36613992564118003, -0.5440250128447833, -0.31694315469325945, -0.3797064539806537, -0.11616264668647859, -0.3302355768850643, -0.18880801706278544, -0.262984529893001, -0.21761901775597767, -0.5144842914354206, 0.33621140528950616, -0.49378288811441384, -0.3619808120928119, -0.35397751088934254, -0.07249721010302318, -0.4428957243941053, -0.36272413193543257]}, {\"customdata\": [[\"SHA-256D\"], [\"PoS\"], [\"Counterparty\"], [\"X11\"], [\"X11\"], [\"PoS\"], [\"Counterparty\"], [\"POS 3.0\"], [\"X13\"], [\"PoS\"], [\"PoS\"], [\"X13\"], [\"Blake\"], [\"PoS\"], [\"PoS\"], [\"SHA-256\"], [\"PoS\"], [\"SHA-256\"], [\"PoS\"], [\"PoS\"], [\"SkunkHash v2 Raptor\"], [\"DPoS\"], [\"PoS\"], [\"DPoS\"], [\"SHA-512\"], [\"NEP-5\"], [\"Lyra2REv2\"], [\"Quark\"], [\"POS 2.0\"], [\"Mars\"], [\"DPoS\"], [\"NIST5\"], [\"Quark\"], [\"PoS\"], [\"Quark\"], [\"X11\"], [\"POS 3.0\"], [\"Ethash\"], [\"NeoScrypt\"], [\"CryptoNight\"], [\"Ethash\"], [\"Ethash\"], [\"X13\"], [\"XEVAN\"], [\"Scrypt\"], [\"Scrypt\"], [\"Green Protocol\"], [\"PoS\"], [\"Semux BFT consensus\"], [\"Quark\"], [\"PoS\"], [\"X16R\"], [\"XEVAN\"], [\"Scrypt\"], [\"CryptoNight\"], [\"Scrypt\"], [\"X15\"], [\"Scrypt\"], [\"Quark\"], [\"SHA-256\"], [\"DPoS\"], [\"X16R\"], [\"X16R\"], [\"Quark\"], [\"Quark\"], [\"Scrypt\"], [\"Quark\"], [\"XEVAN\"], [\"X11\"], [\"Scrypt\"], [\"PoS\"], [\"X11\"], [\"DPoS\"], [\"X16R\"], [\"Keccak\"], [\"XEVAN\"], [\"SHA-256\"], [\"XEVAN\"], [\"X11\"], [\"Quark\"], [\"Argon2d\"], [\"Blake\"], [\"Blake\"], [\"Equihash\"], [\"Exosis\"], [\"Quark\"], [\"Equihash\"], [\"Quark\"], [\"Quark\"], [\"ERC20 + BEP-2\"], [\"Lyra2REv2\"], [\"Equihash+Scrypt\"], [\"X11\"], [\"XEVAN\"], [\"SHA-256D\"], [\"X11\"], [\"X13\"], [\"CryptoNight\"], [\"SHA-256\"], [\"Quark\"], [\"Equihash\"], [\"SHA-512\"], [\"Cryptonight Haven\"], [\"Ethash\"], [\"X13\"], [\"SHA-256\"], [\"Quark\"], [\"DPoS\"], [\"Ouroboros\"], [\"VBFT\"], [\"VeChainThor Authority\"], [\"POS 3.0\"], [\"X16R\"], [\"Ethash\"], [\"DPoS\"], [\"Ethash\"], [\"SHA-256\"]], \"hoverlabel\": {\"namelength\": 0}, \"hovertemplate\": \"<b>%{hovertext}</b><br><br>class=%{marker.color}<br>p3=%{x}<br>p2=%{y}<br>p1=%{z}<br>Algorithm=%{customdata[0]}\", \"hovertext\": [\"PetroDollar\", \"Exclusive Coin\", \"StorjCoin\", \"Creva Coin\", \"UnCoin\", \"Radium\", \"Scotcoin\", \"Let it Ride\", \"MudraCoin\", \"Opair\", \"CoffeeCoin\", \"RoyalCoin\", \"Netko\", \"Atmos\", \"MacronCoin\", \"ProCurrency\", \"Phreak\", \"Ultimate Secure Cash\", \"Wagerr\", \"Particl\", \"Signatum\", \"Growers International\", \"Stakecoin\", \"Oxycoin\", \"Obsidian\", \"Red Pulse Phoenix\", \"Rupee\", \"Bitcloud 2.0\", \"KekCoin\", \"MinexCoin\", \"Lamden Tau\", \"Bulwark\", \"Kalkulus\", \"Copico\", \"Digiwage\", \"Monkey Project\", \"TokenPay\", \"1717 Masonic Commemorative Token\", \"THEKEY Token\", \"TurtleCoin\", \"Dorado\", \"Logarithm\", \"Tokyo Coin\", \"Ellerium\", \"Velox\", \"MedicCoin\", \"Bitcoin Green\", \"Deviant Coin\", \"Semux\", \"Carebit\", \"Zealium\", \"Proton\", \"Bitcoin Incognito\", \"HollyWoodCoin\", \"Newton Coin\", \"Xt3ch\", \"Dekado\", \"Lynx\", \"Poseidon Quark\", \"BitcoinWSpectrum\", \"Muse\", \"Motion\", \"Trivechain\", \"Dystem\", \"Giant\", \"Peony Coin\", \"Vitae\", \"Urals Coin\", \"ARENON\", \"MMOCoin\", \"Ketan\", \"PAXEX\", \"Zipper\", \"Xchange\", \"RoBet\", \"Bettex coin\", \"TigerCash\", \"BitMoney\", \"Junson Ming Chan Coin\", \"HerbCoin\", \"URANIUMX\", \"Universal Molecule\", \"Lithium\", \"PirateCash\", \"Exosis\", \"Galilel\", \"Bithereum\", \"Stakinglab\", \"Crypto Sports\", \"Atomic Wallet Coin\", \"Scribe Network\", \"Vollar\", \"Platinum\", \"Beetle Coin\", \"Titan Coin\", \"Award\", \"Bitcoin Rhodium\", \"Beldex\", \"eXPerience Chain\", \"STREAMIT COIN\", \"Beam\", \"Kcash\", \"BLOC.MONEY\", \"Monarch Token\", \"ABBC Coin\", \"Zeph\", \"Lobstex\", \"EOS\", \"Cardano\", \"Ontology\", \"VeChain\", \"QTUM\", \"Ravencoin\", \"Waltonchain\", \"ARK\", \"Metaverse\", \"Infinity Economics\"], \"legendgroup\": \"class=0\", \"marker\": {\"color\": [0, 0, 0, 0, 0, 0, 0, 0, 0, 0, 0, 0, 0, 0, 0, 0, 0, 0, 0, 0, 0, 0, 0, 0, 0, 0, 0, 0, 0, 0, 0, 0, 0, 0, 0, 0, 0, 0, 0, 0, 0, 0, 0, 0, 0, 0, 0, 0, 0, 0, 0, 0, 0, 0, 0, 0, 0, 0, 0, 0, 0, 0, 0, 0, 0, 0, 0, 0, 0, 0, 0, 0, 0, 0, 0, 0, 0, 0, 0, 0, 0, 0, 0, 0, 0, 0, 0, 0, 0, 0, 0, 0, 0, 0, 0, 0, 0, 0, 0, 0, 0, 0, 0, 0, 0, 0, 0, 0, 0, 0, 0, 0, 0, 0, 0, 0, 0], \"coloraxis\": \"coloraxis\", \"symbol\": \"diamond\"}, \"mode\": \"markers\", \"name\": \"class=0\", \"scene\": \"scene\", \"showlegend\": true, \"type\": \"scatter3d\", \"x\": [0.5512203292820544, 0.8901646790222435, 0.7875536604802984, 0.4597762109985526, 0.3374336501486559, 0.9990446501758203, 0.9740879962459101, 1.1984706487566217, 0.5745150000188052, 1.114830111765207, 1.1305548519730877, 0.6196115300814378, 0.9677364279493497, 1.21525545414359, 1.2329713607801107, 0.4316044070590231, 1.2406670440129912, 0.5120990605751793, 1.3684193014002035, 1.2836775645361065, 1.4160044341551623, 1.164067104536206, 1.3304571540744707, 0.5955210246996616, 1.907661039791635, 1.6571268185836945, 1.063191464172487, 0.8281187087924784, 1.6462335642304418, 1.741306411689827, 0.7022858934705795, 0.9022558364702166, 1.686031884195049, 1.5842675321787072, 1.706939598050178, 0.8446247561789687, 1.6510542549720915, 1.2369349004943953, 0.9424026515336988, -1.2366805828611995, 1.3511124468244933, 1.3610073576737718, 1.0563886452783189, 1.208559091094955, 0.5269042031661852, 0.5709387611421755, 2.0705592380320903, 1.6459651223878344, 1.1964588338604563, 1.0856116664611648, 1.6599269558885188, 1.6428670598351527, 2.1702014156290996, 0.6200730612519572, -0.09899545649044271, 0.6570123308261753, 1.1689777222884823, -0.25630558357690547, 1.9614267581637352, 1.0011224314291576, 1.4979977803719082, 0.8017293875045621, 0.9092248280145238, 1.9662228165712476, 1.172995020386842, 0.6644287700589322, 1.9739158239025263, 1.2675551330637254, 1.1044570583649553, 0.6858374443181494, 1.7705202741248227, 1.1420615284345852, 1.473583391082532, 0.9096563763666093, 1.8809228557710835, 2.279842770790733, 1.1513649426167976, 3.4843497654392883, 1.1548098250916938, 1.4281142015278847, 2.112781336173992, 0.7316095856598638, 0.7440755533780796, 1.552348348657192, 1.0107318466296462, 1.4635079604283223, 0.6986217455991097, 2.4122921373562463, 2.3028474318865566, 2.9525722424034915, 0.8471338942844993, 1.1362037100415197, 1.4723214051939626, 1.7368295103256615, 0.8830960592204158, 0.6860166303098187, 0.7694042770853393, 0.6264853483777968, 1.3088077079640963, 2.467036573310485, 0.6661685843888732, 3.612886733806622, 1.3833560187677092, 2.0079083586762336, 1.4855253202465937, -0.2907508780139143, 2.497673815321765, -0.2836572456806242, 1.4500342951272998, 1.8085198467942236, 0.5482705947903525, 1.3792178804076234, 1.6214266688848513, 1.151234985645905, 0.4071524291103737, 1.176311781283602, 0.6604981206277865], \"y\": [0.06503174372396678, 1.6052112751019794, 1.5331946073543594, 0.07618234982225086, -0.043181612976255244, 1.5828588648843744, 1.3381776725817176, 0.4862203800038638, 0.43562963461711607, 1.5589907578108504, 1.5557104878404155, 0.4265717043721408, -0.10912106969870566, 1.538251070368646, 1.53401919115356, 0.049429889983430196, 1.5332735215061337, 0.10807894417229687, 1.3515550146725601, 1.5244564143745065, 0.4215945658472098, 1.140294665085502, 1.5148182649422461, 1.7765922535674368, 1.4641503600198698, 0.13488079209925963, 0.0713688943686984, -0.34768914795191824, 0.3825923876589507, 0.13341658938480586, 1.7551669480874048, 0.08300587965273075, 0.19985441210530414, 1.3069888939976142, 0.1954479538931538, 0.1522653336833541, 0.39336382187374197, 0.1080490860501445, -0.1761023345818092, -1.83495448031858, -0.0710841158373325, -0.07265041029525304, 0.3358208771936296, -0.5969896701139527, 0.18064103372819884, 0.1682615117680435, 0.3131709416296567, 1.449789231915073, 1.075020072295671, -0.40138051973764055, 1.446992172066958, 0.04150844870559858, -0.7092137409591446, 0.16086764817021093, -0.902306305147148, 0.15403808105989394, 0.09658466823265474, -0.6857103152846024, 0.14264364714123298, 0.007714676298811591, 1.226801437242541, -0.6986596189917353, -0.5307696822794793, 0.14222797791878383, -0.41832195871351935, 0.1355477152690122, 0.14058949029173615, -0.7990883057459196, 0.09882362251309547, 0.1477133357732792, 1.4243101046387552, 0.09111684152687685, 0.8568828933412055, -0.720986891531498, -0.1775734518997156, -0.09345243930726456, -0.025159529780914715, -0.9831029936794767, -0.3004745999777654, -0.47111688786170886, -0.18254476783056076, -0.8189861903034411, -0.8214770642003212, -0.15595732618692637, -0.9593225699556265, -0.4779446814742474, -0.8932443385792014, -0.10433214999594559, 0.07320289198377816, -0.08898786789418775, -0.7976624759794358, -0.9388399975793469, 0.023321609953441597, -0.7070656844015296, -0.5778153332201659, -0.5398685338725312, -0.517497060656143, -0.8198179422396121, -0.4885763279563398, 0.038599887775946785, -0.8868410738615234, 1.4555682641805467, -1.057428855179098, -0.2075230891234813, 0.0909755055315309, 0.6335059042322239, 0.03306873325703481, 1.955510327678334, 0.3366017876604149, 0.3801317457823459, -1.1865970061835949, 0.449057905959, -0.1974637283591884, -0.02958770840811396, 1.8163545097148255, -0.03477305692256461, 0.05803311061836773], \"z\": [-0.2366387192022818, -0.2890493173061162, -0.3447684082822828, -0.25301901053947906, 0.7717811930029892, -0.2459061713631935, -0.12953494660167672, -0.28534026123221345, -0.27473639112087994, -0.26560443815473506, -0.26333562390554205, -0.2603130147752751, -0.022013898206297147, -0.19911298953699577, -0.2213447190415492, 0.3174295964604762, -0.22264676772861272, -0.21022676154472228, -0.028084618786649106, -0.19569080154876006, -0.2509189920615011, 1.2945202720785844, -0.19441854510369844, 3.8956051625108215, -0.31511809918109573, 0.06273368668716002, -0.17644832292842388, -0.31266104501918096, -0.14932881436448545, 0.04814403486576773, 3.9265554668177893, -0.23775299772538433, -0.11047122101395791, 0.033171002802960765, -0.10087160583453571, -0.2511947928388203, -0.13223897111783683, -0.10771421603275648, 0.19631865708760718, 8.81256384075302, 0.07118261646249453, 0.07117301208458306, -0.09735248843993241, -0.038912680272858935, -0.16613230915693586, -0.13849645788477893, -0.06294799202854186, -0.06076676080697106, 4.241635392912264, -0.20172221010184593, -0.05186427695405221, -0.021230333717993863, 0.24470473519150526, -0.13255384563763384, 2.250787714864636, -0.13119894362044174, -0.03465259200068783, 2.4646954601276887, -0.025432985009762182, -0.03493179793787667, 1.2514996445092152, 0.035995844968035755, -0.1680735891818614, -0.010371661465041426, -0.18798232111360194, 0.0016398260074742244, 3.7729655586053086e-05, 0.22264234224377483, -0.1370081691546674, -0.09834548912227449, -0.03790008113467104, -0.14560655788991028, 3.3706832114614067, 0.06783805041266716, 0.214061923470128, 0.2424090630361864, 0.033776180075984395, 1.4507971776459054, 0.8032487467254232, -0.0967842428888832, 0.2607331439208591, 0.15544449165961335, 0.12972353203978498, 0.07058140206697319, 0.18653977472667585, -0.07327989953445796, 0.10382592721610562, 0.25947056708063, 0.09861156371793273, 0.4075984161448468, 0.10275168577321578, 0.2545319877996484, -0.025669356507053365, 0.17343671336782543, -0.08861655736457741, -0.18154381035194847, 0.13914781214215796, 0.6472582570607105, 2.559065701338961, 0.15386371966968743, 0.09437568293231358, -0.33045881915137176, 0.29044058486670643, 0.3181556894400316, 0.23257217041496567, 3.659031573294151, 0.17772847513125986, 5.557901482981881, 0.7929154354485942, 0.23339153272443786, 3.8597918461342133, -0.253145802971535, 0.3971291867046244, -0.0028141975559879645, 3.817332480059464, 0.006329090545411632, 0.02004068696491085]}, {\"customdata\": [[\"Scrypt\"], [\"Scrypt\"], [\"Scrypt\"], [\"Counterparty\"], [\"Scrypt\"], [\"PoS\"], [\"Scrypt\"], [\"X11\"], [\"X14\"], [\"PoS\"], [\"X11\"], [\"PoS\"], [\"PoS\"], [\"Scrypt\"], [\"X13\"], [\"Scrypt\"], [\"Scrypt\"], [\"DPoS\"], [\"CryptoNight\"], [\"SHA-512\"], [\"PoS\"], [\"Leased POS\"], [\"DPoS\"], [\"PoS\"]], \"hoverlabel\": {\"namelength\": 0}, \"hovertemplate\": \"<b>%{hovertext}</b><br><br>class=%{marker.color}<br>p3=%{x}<br>p2=%{y}<br>p1=%{z}<br>Algorithm=%{customdata[0]}\", \"hovertext\": [\"MasterCoin\", \"Diggits\", \"Revolution VR\", \"BitCrystals\", \"SafeExchangeCoin\", \"Nebuchadnezzar\", \"Omni\", \"Lutetium Coin\", \"GanjaCoin V2\", \"TeamUP\", \"XenixCoin\", \"FreeCoin\", \"Creatio\", \"GAKHcoin\", \"FindCoin\", \"Aureus\", \"eBoost\", \"ALAX\", \"PlatinCoin\", \"Bitshares\", \"Steem\", \"Waves\", \"Lisk\", \"Nxt\"], \"legendgroup\": \"class=3\", \"marker\": {\"color\": [3, 3, 3, 3, 3, 3, 3, 3, 3, 3, 3, 3, 3, 3, 3, 3, 3, 3, 3, 3, 3, 3, 3, 3], \"coloraxis\": \"coloraxis\", \"symbol\": \"square\"}, \"mode\": \"markers\", \"name\": \"class=3\", \"scene\": \"scene\", \"showlegend\": true, \"type\": \"scatter3d\", \"x\": [-1.0870205297039077, -0.15365434361711555, -1.0467401503092424, 0.8709080342012682, -1.4292280019162924, 0.9542633342991834, -0.9954331794931651, 0.3348374784792397, -0.7485969943932907, 1.0349535983305993, -0.4007469068079133, 1.056711761879824, 1.0588501527375167, -0.798069018279267, 0.5917002211172234, 0.3226283234340587, -0.6866705574955063, 0.7420672307134099, 0.014866584266551179, 1.320768179579543, 0.031408864633442245, -3.9475273073822614, 0.191610962247192, 0.46902671588771727], \"y\": [4.791507628117909, 5.512967863937005, 4.782776918874304, 6.553987627073, 6.107214953744129, 6.784726486008838, 4.772703108609526, 5.4481617567437635, 7.972102242191624, 6.7678799231405815, 4.877122027927649, 6.763626019097385, 6.763252929131826, 4.921985817605682, 5.624922212016232, 5.260270022943246, 4.709052221224535, 6.938292641165545, 4.500379277256943, 6.770518494233657, 6.060714244845628, 20.156364248575045, 7.053203919690963, 10.209171391548953], \"z\": [-0.18583927036477257, -0.20096140042902647, -0.1674436903529846, 0.037527960809443345, -0.0797604808425289, -0.10589365552016063, -0.15350723168270783, -0.1968306896081019, -0.2942643327350432, -0.07535101119748583, -0.3545971282376031, -0.06912907452991429, -0.0689724941753783, -0.31544522543075054, -0.048489634992377274, 0.09938994693878249, 0.0010571797108081147, 4.174661814012452, 0.6345690181171578, -0.24071387526595722, -0.08348930801021157, -0.7344288501549385, 3.963109169323148, -0.11428859863052955]}, {\"customdata\": [[\"Proof-of-BibleHash\"], [\"SHA-256 + Hive\"], [\"SHA3-256\"], [\"ECC 256K1\"], [\"Proof-of-Authority\"]], \"hoverlabel\": {\"namelength\": 0}, \"hovertemplate\": \"<b>%{hovertext}</b><br><br>class=%{marker.color}<br>p3=%{x}<br>p2=%{y}<br>p1=%{z}<br>Algorithm=%{customdata[0]}\", \"hovertext\": [\"BiblePay\", \"LitecoinCash\", \"Fiii\", \"Acute Angle Cloud\", \"Poa Network\"], \"legendgroup\": \"class=4\", \"marker\": {\"color\": [4, 4, 4, 4, 4], \"coloraxis\": \"coloraxis\", \"symbol\": \"x\"}, \"mode\": \"markers\", \"name\": \"class=4\", \"scene\": \"scene\", \"showlegend\": true, \"type\": \"scatter3d\", \"x\": [9.636144544430426, 7.236500878703835, 16.645072456447082, 14.32142641565131, 10.236143728311776], \"y\": [-0.8835317274359179, -0.7750016260537292, -1.1384008488275572, -1.0342383707280298, -0.8843493326659376], \"z\": [1.0318837105430965, -0.2409520154046755, -0.028104084849693723, 0.2754332530746103, 0.11227248675701636]}, {\"customdata\": [[\"TRC10\"]], \"hoverlabel\": {\"namelength\": 0}, \"hovertemplate\": \"<b>%{hovertext}</b><br><br>class=%{marker.color}<br>p3=%{x}<br>p2=%{y}<br>p1=%{z}<br>Algorithm=%{customdata[0]}\", \"hovertext\": [\"BitTorrent\"], \"legendgroup\": \"class=1\", \"marker\": {\"color\": [1], \"coloraxis\": \"coloraxis\", \"symbol\": \"cross\"}, \"mode\": \"markers\", \"name\": \"class=1\", \"scene\": \"scene\", \"showlegend\": true, \"type\": \"scatter3d\", \"x\": [-2.542291270007147], \"y\": [-1.7900360540975135], \"z\": [34.11340228417971]}],\n",
       "                        {\"coloraxis\": {\"colorbar\": {\"title\": {\"text\": \"class\"}}, \"colorscale\": [[0.0, \"#0d0887\"], [0.1111111111111111, \"#46039f\"], [0.2222222222222222, \"#7201a8\"], [0.3333333333333333, \"#9c179e\"], [0.4444444444444444, \"#bd3786\"], [0.5555555555555556, \"#d8576b\"], [0.6666666666666666, \"#ed7953\"], [0.7777777777777778, \"#fb9f3a\"], [0.8888888888888888, \"#fdca26\"], [1.0, \"#f0f921\"]]}, \"height\": 600, \"legend\": {\"tracegroupgap\": 0, \"x\": 0, \"y\": 1}, \"margin\": {\"t\": 60}, \"scene\": {\"domain\": {\"x\": [0.0, 0.98], \"y\": [0.0, 1.0]}, \"xaxis\": {\"title\": {\"text\": \"p3\"}}, \"yaxis\": {\"title\": {\"text\": \"p2\"}}, \"zaxis\": {\"title\": {\"text\": \"p1\"}}}, \"template\": {\"data\": {\"bar\": [{\"error_x\": {\"color\": \"#2a3f5f\"}, \"error_y\": {\"color\": \"#2a3f5f\"}, \"marker\": {\"line\": {\"color\": \"#E5ECF6\", \"width\": 0.5}}, \"type\": \"bar\"}], \"barpolar\": [{\"marker\": {\"line\": {\"color\": \"#E5ECF6\", \"width\": 0.5}}, \"type\": \"barpolar\"}], \"carpet\": [{\"aaxis\": {\"endlinecolor\": \"#2a3f5f\", \"gridcolor\": \"white\", \"linecolor\": \"white\", \"minorgridcolor\": \"white\", \"startlinecolor\": \"#2a3f5f\"}, \"baxis\": {\"endlinecolor\": \"#2a3f5f\", \"gridcolor\": \"white\", \"linecolor\": \"white\", \"minorgridcolor\": \"white\", \"startlinecolor\": \"#2a3f5f\"}, \"type\": \"carpet\"}], \"choropleth\": [{\"colorbar\": {\"outlinewidth\": 0, \"ticks\": \"\"}, \"type\": \"choropleth\"}], \"contour\": [{\"colorbar\": {\"outlinewidth\": 0, \"ticks\": \"\"}, \"colorscale\": [[0.0, \"#0d0887\"], [0.1111111111111111, \"#46039f\"], [0.2222222222222222, \"#7201a8\"], [0.3333333333333333, \"#9c179e\"], [0.4444444444444444, \"#bd3786\"], [0.5555555555555556, \"#d8576b\"], [0.6666666666666666, \"#ed7953\"], [0.7777777777777778, \"#fb9f3a\"], [0.8888888888888888, \"#fdca26\"], [1.0, \"#f0f921\"]], \"type\": \"contour\"}], \"contourcarpet\": [{\"colorbar\": {\"outlinewidth\": 0, \"ticks\": \"\"}, \"type\": \"contourcarpet\"}], \"heatmap\": [{\"colorbar\": {\"outlinewidth\": 0, \"ticks\": \"\"}, \"colorscale\": [[0.0, \"#0d0887\"], [0.1111111111111111, \"#46039f\"], [0.2222222222222222, \"#7201a8\"], [0.3333333333333333, \"#9c179e\"], [0.4444444444444444, \"#bd3786\"], [0.5555555555555556, \"#d8576b\"], [0.6666666666666666, \"#ed7953\"], [0.7777777777777778, \"#fb9f3a\"], [0.8888888888888888, \"#fdca26\"], [1.0, \"#f0f921\"]], \"type\": \"heatmap\"}], \"heatmapgl\": [{\"colorbar\": {\"outlinewidth\": 0, \"ticks\": \"\"}, \"colorscale\": [[0.0, \"#0d0887\"], [0.1111111111111111, \"#46039f\"], [0.2222222222222222, \"#7201a8\"], [0.3333333333333333, \"#9c179e\"], [0.4444444444444444, \"#bd3786\"], [0.5555555555555556, \"#d8576b\"], [0.6666666666666666, \"#ed7953\"], [0.7777777777777778, \"#fb9f3a\"], [0.8888888888888888, \"#fdca26\"], [1.0, \"#f0f921\"]], \"type\": \"heatmapgl\"}], \"histogram\": [{\"marker\": {\"colorbar\": {\"outlinewidth\": 0, \"ticks\": \"\"}}, \"type\": \"histogram\"}], \"histogram2d\": [{\"colorbar\": {\"outlinewidth\": 0, \"ticks\": \"\"}, \"colorscale\": [[0.0, \"#0d0887\"], [0.1111111111111111, \"#46039f\"], [0.2222222222222222, \"#7201a8\"], [0.3333333333333333, \"#9c179e\"], [0.4444444444444444, \"#bd3786\"], [0.5555555555555556, \"#d8576b\"], [0.6666666666666666, \"#ed7953\"], [0.7777777777777778, \"#fb9f3a\"], [0.8888888888888888, \"#fdca26\"], [1.0, \"#f0f921\"]], \"type\": \"histogram2d\"}], \"histogram2dcontour\": [{\"colorbar\": {\"outlinewidth\": 0, \"ticks\": \"\"}, \"colorscale\": [[0.0, \"#0d0887\"], [0.1111111111111111, \"#46039f\"], [0.2222222222222222, \"#7201a8\"], [0.3333333333333333, \"#9c179e\"], [0.4444444444444444, \"#bd3786\"], [0.5555555555555556, \"#d8576b\"], [0.6666666666666666, \"#ed7953\"], [0.7777777777777778, \"#fb9f3a\"], [0.8888888888888888, \"#fdca26\"], [1.0, \"#f0f921\"]], \"type\": \"histogram2dcontour\"}], \"mesh3d\": [{\"colorbar\": {\"outlinewidth\": 0, \"ticks\": \"\"}, \"type\": \"mesh3d\"}], \"parcoords\": [{\"line\": {\"colorbar\": {\"outlinewidth\": 0, \"ticks\": \"\"}}, \"type\": \"parcoords\"}], \"scatter\": [{\"marker\": {\"colorbar\": {\"outlinewidth\": 0, \"ticks\": \"\"}}, \"type\": \"scatter\"}], \"scatter3d\": [{\"line\": {\"colorbar\": {\"outlinewidth\": 0, \"ticks\": \"\"}}, \"marker\": {\"colorbar\": {\"outlinewidth\": 0, \"ticks\": \"\"}}, \"type\": \"scatter3d\"}], \"scattercarpet\": [{\"marker\": {\"colorbar\": {\"outlinewidth\": 0, \"ticks\": \"\"}}, \"type\": \"scattercarpet\"}], \"scattergeo\": [{\"marker\": {\"colorbar\": {\"outlinewidth\": 0, \"ticks\": \"\"}}, \"type\": \"scattergeo\"}], \"scattergl\": [{\"marker\": {\"colorbar\": {\"outlinewidth\": 0, \"ticks\": \"\"}}, \"type\": \"scattergl\"}], \"scattermapbox\": [{\"marker\": {\"colorbar\": {\"outlinewidth\": 0, \"ticks\": \"\"}}, \"type\": \"scattermapbox\"}], \"scatterpolar\": [{\"marker\": {\"colorbar\": {\"outlinewidth\": 0, \"ticks\": \"\"}}, \"type\": \"scatterpolar\"}], \"scatterpolargl\": [{\"marker\": {\"colorbar\": {\"outlinewidth\": 0, \"ticks\": \"\"}}, \"type\": \"scatterpolargl\"}], \"scatterternary\": [{\"marker\": {\"colorbar\": {\"outlinewidth\": 0, \"ticks\": \"\"}}, \"type\": \"scatterternary\"}], \"surface\": [{\"colorbar\": {\"outlinewidth\": 0, \"ticks\": \"\"}, \"colorscale\": [[0.0, \"#0d0887\"], [0.1111111111111111, \"#46039f\"], [0.2222222222222222, \"#7201a8\"], [0.3333333333333333, \"#9c179e\"], [0.4444444444444444, \"#bd3786\"], [0.5555555555555556, \"#d8576b\"], [0.6666666666666666, \"#ed7953\"], [0.7777777777777778, \"#fb9f3a\"], [0.8888888888888888, \"#fdca26\"], [1.0, \"#f0f921\"]], \"type\": \"surface\"}], \"table\": [{\"cells\": {\"fill\": {\"color\": \"#EBF0F8\"}, \"line\": {\"color\": \"white\"}}, \"header\": {\"fill\": {\"color\": \"#C8D4E3\"}, \"line\": {\"color\": \"white\"}}, \"type\": \"table\"}]}, \"layout\": {\"annotationdefaults\": {\"arrowcolor\": \"#2a3f5f\", \"arrowhead\": 0, \"arrowwidth\": 1}, \"colorscale\": {\"diverging\": [[0, \"#8e0152\"], [0.1, \"#c51b7d\"], [0.2, \"#de77ae\"], [0.3, \"#f1b6da\"], [0.4, \"#fde0ef\"], [0.5, \"#f7f7f7\"], [0.6, \"#e6f5d0\"], [0.7, \"#b8e186\"], [0.8, \"#7fbc41\"], [0.9, \"#4d9221\"], [1, \"#276419\"]], \"sequential\": [[0.0, \"#0d0887\"], [0.1111111111111111, \"#46039f\"], [0.2222222222222222, \"#7201a8\"], [0.3333333333333333, \"#9c179e\"], [0.4444444444444444, \"#bd3786\"], [0.5555555555555556, \"#d8576b\"], [0.6666666666666666, \"#ed7953\"], [0.7777777777777778, \"#fb9f3a\"], [0.8888888888888888, \"#fdca26\"], [1.0, \"#f0f921\"]], \"sequentialminus\": [[0.0, \"#0d0887\"], [0.1111111111111111, \"#46039f\"], [0.2222222222222222, \"#7201a8\"], [0.3333333333333333, \"#9c179e\"], [0.4444444444444444, \"#bd3786\"], [0.5555555555555556, \"#d8576b\"], [0.6666666666666666, \"#ed7953\"], [0.7777777777777778, \"#fb9f3a\"], [0.8888888888888888, \"#fdca26\"], [1.0, \"#f0f921\"]]}, \"colorway\": [\"#636efa\", \"#EF553B\", \"#00cc96\", \"#ab63fa\", \"#FFA15A\", \"#19d3f3\", \"#FF6692\", \"#B6E880\", \"#FF97FF\", \"#FECB52\"], \"font\": {\"color\": \"#2a3f5f\"}, \"geo\": {\"bgcolor\": \"white\", \"lakecolor\": \"white\", \"landcolor\": \"#E5ECF6\", \"showlakes\": true, \"showland\": true, \"subunitcolor\": \"white\"}, \"hoverlabel\": {\"align\": \"left\"}, \"hovermode\": \"closest\", \"mapbox\": {\"style\": \"light\"}, \"paper_bgcolor\": \"white\", \"plot_bgcolor\": \"#E5ECF6\", \"polar\": {\"angularaxis\": {\"gridcolor\": \"white\", \"linecolor\": \"white\", \"ticks\": \"\"}, \"bgcolor\": \"#E5ECF6\", \"radialaxis\": {\"gridcolor\": \"white\", \"linecolor\": \"white\", \"ticks\": \"\"}}, \"scene\": {\"xaxis\": {\"backgroundcolor\": \"#E5ECF6\", \"gridcolor\": \"white\", \"gridwidth\": 2, \"linecolor\": \"white\", \"showbackground\": true, \"ticks\": \"\", \"zerolinecolor\": \"white\"}, \"yaxis\": {\"backgroundcolor\": \"#E5ECF6\", \"gridcolor\": \"white\", \"gridwidth\": 2, \"linecolor\": \"white\", \"showbackground\": true, \"ticks\": \"\", \"zerolinecolor\": \"white\"}, \"zaxis\": {\"backgroundcolor\": \"#E5ECF6\", \"gridcolor\": \"white\", \"gridwidth\": 2, \"linecolor\": \"white\", \"showbackground\": true, \"ticks\": \"\", \"zerolinecolor\": \"white\"}}, \"shapedefaults\": {\"line\": {\"color\": \"#2a3f5f\"}}, \"ternary\": {\"aaxis\": {\"gridcolor\": \"white\", \"linecolor\": \"white\", \"ticks\": \"\"}, \"baxis\": {\"gridcolor\": \"white\", \"linecolor\": \"white\", \"ticks\": \"\"}, \"bgcolor\": \"#E5ECF6\", \"caxis\": {\"gridcolor\": \"white\", \"linecolor\": \"white\", \"ticks\": \"\"}}, \"title\": {\"x\": 0.05}, \"xaxis\": {\"automargin\": true, \"gridcolor\": \"white\", \"linecolor\": \"white\", \"ticks\": \"\", \"zerolinecolor\": \"white\", \"zerolinewidth\": 2}, \"yaxis\": {\"automargin\": true, \"gridcolor\": \"white\", \"linecolor\": \"white\", \"ticks\": \"\", \"zerolinecolor\": \"white\", \"zerolinewidth\": 2}}}, \"width\": 800},\n",
       "                        {\"responsive\": true}\n",
       "                    ).then(function(){\n",
       "                            \n",
       "var gd = document.getElementById('0db15928-1974-4dde-baff-0f3552c29f9e');\n",
       "var x = new MutationObserver(function (mutations, observer) {{\n",
       "        var display = window.getComputedStyle(gd).display;\n",
       "        if (!display || display === 'none') {{\n",
       "            console.log([gd, 'removed!']);\n",
       "            Plotly.purge(gd);\n",
       "            observer.disconnect();\n",
       "        }}\n",
       "}});\n",
       "\n",
       "// Listen for the removal of the full notebook cells\n",
       "var notebookContainer = gd.closest('#notebook-container');\n",
       "if (notebookContainer) {{\n",
       "    x.observe(notebookContainer, {childList: true});\n",
       "}}\n",
       "\n",
       "// Listen for the clearing of the current output cell\n",
       "var outputEl = gd.closest('.output');\n",
       "if (outputEl) {{\n",
       "    x.observe(outputEl, {childList: true});\n",
       "}}\n",
       "\n",
       "                        })\n",
       "                };\n",
       "                });\n",
       "            </script>\n",
       "        </div>"
      ]
     },
     "metadata": {},
     "output_type": "display_data"
    }
   ],
   "source": [
    "# Creating a 3D-Scatter with the PCA data and the clusters\n",
    "import plotly.express as px\n",
    "fig = px.scatter_3d(\n",
    "    result,\n",
    "    x=\"p3\",\n",
    "    y=\"p2\",\n",
    "    z=\"p1\",\n",
    "    color=\"class\",\n",
    "    symbol=\"class\",\n",
    "    hover_name=\"CoinName\",\n",
    "    hover_data=[\"Algorithm\"],\n",
    "    width=800,\n",
    ")\n",
    "fig.update_layout(legend=dict(x=0, y=1))\n",
    "fig.show()"
   ]
  },
  {
   "cell_type": "markdown",
   "metadata": {},
   "source": [
    "#### Table of Tradable Cryptocurrencies"
   ]
  },
  {
   "cell_type": "code",
   "execution_count": 95,
   "metadata": {},
   "outputs": [
    {
     "data": {
      "application/vnd.holoviews_exec.v0+json": "",
      "text/html": [
       "<div id='2224' style='display: table; margin: 0 auto;'>\n",
       "\n",
       "\n",
       "\n",
       "\n",
       "\n",
       "  <div class=\"bk-root\" id=\"4adbc6f0-a55c-48ba-b863-9a87dbe7b282\" data-root-id=\"2224\"></div>\n",
       "</div>\n",
       "<script type=\"application/javascript\">(function(root) {\n",
       "  function embed_document(root) {\n",
       "    \n",
       "  var docs_json = {\"c39cf248-9567-43bf-928e-3664cd28d8e1\":{\"roots\":{\"references\":[{\"attributes\":{\"columns\":[{\"id\":\"2176\",\"type\":\"TableColumn\"},{\"id\":\"2181\",\"type\":\"TableColumn\"},{\"id\":\"2186\",\"type\":\"TableColumn\"},{\"id\":\"2191\",\"type\":\"TableColumn\"},{\"id\":\"2196\",\"type\":\"TableColumn\"},{\"id\":\"2201\",\"type\":\"TableColumn\"},{\"id\":\"2206\",\"type\":\"TableColumn\"},{\"id\":\"2211\",\"type\":\"TableColumn\"},{\"id\":\"2216\",\"type\":\"TableColumn\"},{\"id\":\"2221\",\"type\":\"TableColumn\"}],\"height\":300,\"reorderable\":false,\"source\":{\"id\":\"2172\",\"type\":\"ColumnDataSource\"},\"view\":{\"id\":\"2225\",\"type\":\"CDSView\"},\"width\":700},\"id\":\"2224\",\"type\":\"DataTable\"},{\"attributes\":{\"format\":\"0,0.0[00000]\"},\"id\":\"2189\",\"type\":\"NumberFormatter\"},{\"attributes\":{\"editor\":{\"id\":\"2185\",\"type\":\"StringEditor\"},\"field\":\"ProofType\",\"formatter\":{\"id\":\"2184\",\"type\":\"StringFormatter\"},\"title\":\"ProofType\"},\"id\":\"2186\",\"type\":\"TableColumn\"},{\"attributes\":{\"editor\":{\"id\":\"2215\",\"type\":\"IntEditor\"},\"field\":\"class\",\"formatter\":{\"id\":\"2214\",\"type\":\"NumberFormatter\"},\"title\":\"class\"},\"id\":\"2216\",\"type\":\"TableColumn\"},{\"attributes\":{\"editor\":{\"id\":\"2200\",\"type\":\"NumberEditor\"},\"field\":\"p1\",\"formatter\":{\"id\":\"2199\",\"type\":\"NumberFormatter\"},\"title\":\"p1\"},\"id\":\"2201\",\"type\":\"TableColumn\"},{\"attributes\":{},\"id\":\"2190\",\"type\":\"NumberEditor\"},{\"attributes\":{},\"id\":\"2200\",\"type\":\"NumberEditor\"},{\"attributes\":{\"editor\":{\"id\":\"2180\",\"type\":\"StringEditor\"},\"field\":\"Algorithm\",\"formatter\":{\"id\":\"2179\",\"type\":\"StringFormatter\"},\"title\":\"Algorithm\"},\"id\":\"2181\",\"type\":\"TableColumn\"},{\"attributes\":{},\"id\":\"2215\",\"type\":\"IntEditor\"},{\"attributes\":{\"editor\":{\"id\":\"2205\",\"type\":\"NumberEditor\"},\"field\":\"p2\",\"formatter\":{\"id\":\"2204\",\"type\":\"NumberFormatter\"},\"title\":\"p2\"},\"id\":\"2206\",\"type\":\"TableColumn\"},{\"attributes\":{},\"id\":\"2214\",\"type\":\"NumberFormatter\"},{\"attributes\":{},\"id\":\"2173\",\"type\":\"Selection\"},{\"attributes\":{\"callback\":null,\"data\":{\"Algorithm\":[\"Scrypt\",\"X13\",\"SHA-256\",\"SHA-256\",\"Scrypt\",\"X15\",\"SHA-256D\",\"Scrypt\",\"Scrypt\",\"Multiple\",\"Scrypt\",\"SHA-256\",\"Scrypt\",\"Scrypt\",\"Scrypt\",\"Groestl\",\"Scrypt\",\"Scrypt\",\"Scrypt\",\"Scrypt\",\"Scrypt\",\"X11\",\"Scrypt\",\"Groestl\",\"SHA-256\",\"Scrypt\",\"Scrypt\",\"Scrypt\",\"PoS\",\"Scrypt\",\"Scrypt\",\"Scrypt\",\"Scrypt\",\"Scrypt\",\"Scrypt\",\"X11\",\"Scrypt\",\"SHA-256\",\"Scrypt\",\"Scrypt\",\"Scrypt\",\"SHA3\",\"HybridScryptHash256\",\"Scrypt\",\"Scrypt\",\"SHA-256\",\"Scrypt\",\"Scrypt\",\"Scrypt\",\"NeoScrypt\",\"Scrypt\",\"Scrypt\",\"Scrypt\",\"Scrypt\",\"X11\",\"X11\",\"Multiple\",\"SHA-256\",\"X11\",\"SHA-256\",\"SHA-256\",\"SHA-256\",\"X11\",\"Scrypt\",\"Scrypt\",\"Scrypt\",\"Scrypt\",\"X11\",\"Multiple\",\"SHA-256\",\"X13\",\"Scrypt\",\"Counterparty\",\"Scrypt\",\"SHA-256\",\"Groestl\",\"Scrypt\",\"Scrypt\",\"X13\",\"Scrypt\",\"Scrypt\",\"Scrypt\",\"Scrypt\",\"X13\",\"Multiple\",\"Scrypt\",\"Scrypt\",\"X13\",\"Stanford Folding\",\"Scrypt\",\"X11\",\"X11\",\"Multiple\",\"QuBit\",\"NeoScrypt\",\"Scrypt\",\"NeoScrypt\",\"Blake\",\"Scrypt\",\"Scrypt\",\"SHA-256\",\"Scrypt\",\"Scrypt\",\"X11\",\"Scrypt\",\"M7 POW\",\"Scrypt\",\"Scrypt\",\"SHA-256\",\"Scrypt\",\"X11\",\"Scrypt\",\"Scrypt\",\"X11\",\"Lyra2RE\",\"X11\",\"SHA-256\",\"QUAIT\",\"X11\",\"SHA-256\",\"X11\",\"X11\",\"Scrypt\",\"Scrypt\",\"Scrypt\",\"X11\",\"Scrypt\",\"Scrypt\",\"Scrypt\",\"X13\",\"X11\",\"Scrypt\",\"PoS\",\"X15\",\"X11\",\"SHA-256\",\"Scrypt\",\"Scrypt\",\"X11\",\"SHA-256\",\"Scrypt\",\"1GB AES Pattern Search\",\"SHA-256\",\"X11\",\"SHA-256\",\"Scrypt\",\"SHA-256\",\"NIST5\",\"Counterparty\",\"Scrypt\",\"Counterparty\",\"X11\",\"Scrypt\",\"X11\",\"Scrypt\",\"Dagger\",\"Scrypt\",\"X11\",\"Scrypt\",\"SHA-256\",\"Scrypt\",\"PoS\",\"Scrypt\",\"X11\",\"X11\",\"SHA-256\",\"SHA-256\",\"NIST5\",\"X11\",\"Scrypt\",\"POS 3.0\",\"Scrypt\",\"Scrypt\",\"Scrypt\",\"X13\",\"X11\",\"X11\",\"X11\",\"Scrypt\",\"CryptoNight\",\"SHA-256\",\"SHA-256\",\"X11\",\"Scrypt\",\"Multiple\",\"Scrypt\",\"Scrypt\",\"Scrypt\",\"SHA-256\",\"Scrypt\",\"Scrypt\",\"SHA-256D\",\"PoS\",\"Scrypt\",\"X11\",\"PoS\",\"X13\",\"X14\",\"PoS\",\"SHA-256D\",\"Ethash\",\"Equihash\",\"X11\",\"Scrypt\",\"X11\",\"X13\",\"X11\",\"PoS\",\"Scrypt\",\"Scrypt\",\"X11\",\"PoS\",\"X11\",\"SHA-256\",\"Scrypt\",\"X11\",\"Scrypt\",\"Scrypt\",\"X11\",\"CryptoNight\",\"Scrypt\",\"Scrypt\",\"Scrypt\",\"Scrypt\",\"QuBit\",\"Scrypt\",\"CryptoNight\",\"Lyra2RE\",\"Scrypt\",\"SHA-256\",\"X11\",\"Scrypt\",\"X11\",\"Scrypt\",\"CryptoNight-V7\",\"Scrypt\",\"Scrypt\",\"Scrypt\",\"X13\",\"X11\",\"Equihash\",\"Scrypt\",\"Scrypt\",\"Blake\",\"Lyra2RE\",\"Scrypt\",\"Dagger-Hashimoto\",\"X11\",\"Blake2S\",\"X11\",\"Scrypt\",\"PoS\",\"X11\",\"NIST5\",\"PoS\",\"X11\",\"Scrypt\",\"Scrypt\",\"Scrypt\",\"SHA-256\",\"X11\",\"Scrypt\",\"Scrypt\",\"Scrypt\",\"SHA-256\",\"PoS\",\"Scrypt\",\"X15\",\"SHA-256\",\"Scrypt\",\"X11\",\"CryptoNight-V7\",\"536\",\"Argon2d\",\"Cloverhash\",\"PoS\",\"CryptoNight\",\"NIST5\",\"X11\",\"NIST5\",\"Skein\",\"Scrypt\",\"X13\",\"Scrypt\",\"X11\",\"PoS\",\"X11\",\"Scrypt\",\"Ethash\",\"CryptoNight\",\"X13\",\"Time Travel\",\"Scrypt\",\"SkunkHash v2 Raptor\",\"X11\",\"Skein\",\"DPoS\",\"X11\",\"Scrypt\",\"Scrypt\",\"PoS\",\"DPoS\",\"Scrypt\",\"Scrypt\",\"Scrypt\",\"Scrypt\",\"Scrypt\",\"Scrypt\",\"Scrypt\",\"CryptoNight\",\"SHA-512\",\"X11\",\"Equihash\",\"NeoScrypt\",\"X11\",\"Scrypt\",\"NeoScrypt\",\"NEP-5\",\"Scrypt\",\"Lyra2REv2\",\"Scrypt\",\"SHA-256\",\"NIST5\",\"PHI1612\",\"Dagger\",\"Scrypt\",\"Quark\",\"Scrypt\",\"POS 2.0\",\"Scrypt\",\"X11\",\"NeoScrypt\",\"Ethash\",\"Mars\",\"NeoScrypt\",\"X11\",\"DPoS\",\"NIST5\",\"Multiple\",\"Scrypt\",\"CryptoNight\",\"SHA-256\",\"CryptoNight\",\"Ethash\",\"NIST5\",\"Quark\",\"X11\",\"CryptoNight-V7\",\"Scrypt\",\"Scrypt\",\"Scrypt\",\"X11\",\"PoS\",\"BLAKE256\",\"X11\",\"NeoScrypt\",\"Quark\",\"NeoScrypt\",\"Scrypt\",\"Scrypt\",\"Scrypt\",\"X11\",\"X11\",\"SHA-256\",\"C11\",\"POS 3.0\",\"Ethash\",\"NeoScrypt\",\"CryptoNight\",\"Ethash\",\"SkunkHash\",\"Scrypt\",\"Ethash\",\"CryptoNight\",\"Scrypt\",\"Lyra2REv2\",\"X13\",\"Proof-of-BibleHash\",\"SHA-256 + Hive\",\"Scrypt\",\"DPoS\",\"Scrypt\",\"X11\",\"C11\",\"X11\",\"XEVAN\",\"Scrypt\",\"CryptoNight\",\"Scrypt\",\"IMesh\",\"NIST5\",\"Scrypt\",\"Scrypt\",\"Equihash\",\"Scrypt\",\"Lyra2Z\",\"Green Protocol\",\"PoS\",\"Scrypt\",\"Semux BFT consensus\",\"X11\",\"Quark\",\"PoS\",\"CryptoNight\",\"X16R\",\"NIST5\",\"XEVAN\",\"Tribus\",\"Scrypt\",\"Lyra2Z\",\"CryptoNight\",\"CryptoNight Heavy\",\"CryptoNight\",\"Scrypt\",\"Scrypt\",\"Jump Consistent Hash\",\"SHA-256D\",\"CryptoNight\",\"Scrypt\",\"X15\",\"Scrypt\",\"Quark\",\"SHA-256\",\"DPoS\",\"X16R\",\"HMQ1725\",\"X11\",\"X16R\",\"Quark\",\"Quark\",\"Scrypt\",\"Lyra2REv2\",\"Quark\",\"Scrypt\",\"Scrypt\",\"CryptoNight-V7\",\"Cryptonight-GPU\",\"XEVAN\",\"X11\",\"X11\",\"Scrypt\",\"PoS\",\"X11\",\"X11\",\"Scrypt\",\"DPoS\",\"X16R\",\"Keccak\",\"Equihash\",\"XEVAN\",\"SHA-256\",\"Lyra2Z\",\"XEVAN\",\"SHA3-256\",\"X11\",\"CryptoNight\",\"Quark\",\"Argon2d\",\"Blake\",\"Blake\",\"Equihash\",\"Exosis\",\"Scrypt\",\"Quark\",\"Equihash\",\"Quark\",\"Quark\",\"Scrypt\",\"ERC20 + BEP-2\",\"Lyra2REv2\",\"QuBit\",\"Equihash+Scrypt\",\"X11\",\"Scrypt\",\"XEVAN\",\"SHA-256D\",\"X11\",\"SHA-256\",\"X13\",\"CryptoNight\",\"SHA-256\",\"Quark\",\"SHA-256\",\"TRC10\",\"Equihash\",\"SHA-256\",\"SHA-512\",\"ECC 256K1\",\"Cryptonight Haven\",\"Ethash\",\"Multiple\",\"Ethash\",\"X13\",\"SHA-256\",\"HEX\",\"Quark\",\"SHA-256\",\"Ethash\",\"DPoS\",\"Scrypt\",\"Ouroboros\",\"CryptoNight-V7\",\"X11\",\"Ethash\",\"Equihash\",\"SHA-512\",\"PoS\",\"SHA-256\",\"VBFT\",\"BLAKE256\",\"Leased POS\",\"VeChainThor Authority\",\"POS 3.0\",\"X16R\",\"Equihash\",\"Equihash\",\"Blake2b\",\"Equihash210,9\",\"Lyra2REv2\",\"Multiple\",\"DPoS\",\"Multiple\",\"Scrypt\",\"NeoScrypt\",\"SHA-256\",\"Proof-of-Authority\",\"Blake2b\",\"CryptoNight\",\"Equihash\",\"Ethash\",\"Lyra2Z\",\"DPoS\",\"SHA3\",\"SHA-256\",\"PoS\",\"X13\",\"X11\",\"X11GOST\",\"Scrypt\",\"X13\",\"Ethash\",\"Groestl\",\"Quark\",\"Scrypt\",\"Shabal256\",\"SHA-256\",\"Ethash\",\"Scrypt\",\"Scrypt\",\"CryptoNight\",\"Scrypt\",\"Scrypt\",\"Scrypt\",\"Keccak\",\"SHA-256\",\"Scrypt\"],\"CoinName\":[\"42 Coin\",\"EliteCoin\",\"BitcoinDark\",\"PayCoin\",\"ProsperCoin\",\"KoboCoin\",\"PetroDollar\",\"Argentum\",\"BlueCoin\",\"MyriadCoin\",\"MoonCoin\",\"ZetaCoin\",\"SexCoin\",\"Quatloo\",\"EnergyCoin\",\"Riecoin\",\"Digitalcoin \",\"BitBar\",\"Catcoin\",\"CryptoBullion\",\"CannaCoin\",\"CryptCoin\",\"CasinoCoin\",\"Diamond\",\"DevCoin\",\"EarthCoin\",\"E-Gulden\",\"Emerald\",\"Exclusive Coin\",\"FlutterCoin\",\"Franko\",\"GrandCoin\",\"GlobalCoin\",\"GoldCoin\",\"HoboNickels\",\"HyperStake\",\"Infinite Coin\",\"IXcoin\",\"KrugerCoin\",\"LuckyCoin\",\"Litebar \",\"MaxCoin\",\"MediterraneanCoin\",\"MintCoin\",\"MinCoin\",\"MazaCoin\",\"Nautilus Coin\",\"NobleCoin\",\"NyanCoin\",\"Orbitcoin\",\"PhoenixCoin\",\"RonPaulCoin\",\"StableCoin\",\"SmartCoin\",\"SuperCoin\",\"SyncCoin\",\"TeslaCoin\",\"TigerCoin\",\"TorCoin\",\"TerraCoin\",\"UnbreakableCoin\",\"Unobtanium\",\"UroCoin\",\"UnitaryStatus Dollar\",\"UltraCoin\",\"VeriCoin\",\"WorldCoin\",\"X11 Coin\",\"Crypti\",\"JouleCoin\",\"StealthCoin\",\"ZCC Coin\",\"StorjCoin\",\"MonaCoin\",\"Neutron\",\"FairCoin\",\"RubyCoin\",\"PesetaCoin\",\"Kore\",\"Wild Beast Coin\",\"Dnotes\",\"Flo\",\"8BIT Coin\",\"Sativa Coin\",\"JoinCoin\",\"ArtByte\",\"LiteDoge\",\"Triangles Coin\",\"Folding Coin\",\"SolarCoin\",\"TruckCoin\",\"Ucoin\",\"Unitus\",\"CypherPunkCoin\",\"UFO Coin\",\"OrangeCoin\",\"FriendshipCoin\",\"BlakeCoin\",\"OmniCron\",\"BitstarCoin\",\"NeosCoin\",\"HyperCoin\",\"Vtorrent\",\"PinkCoin\",\"GreenCoin\",\"Cryptonite\",\"BitcoinPlus\",\"MasterCoin\",\"SoonCoin\",\"1Credit\",\"IslaCoin\",\"Crypto Escudo\",\"AudioCoin\",\"MarsCoin \",\"Crypto\",\"Creva Coin\",\"Anarchists Prime\",\"Droidz\",\"BowsCoin\",\"IncaKoin\",\"Squall Coin\",\"Piggy Coin\",\"Genstake\",\"Song Coin\",\"SmileyCoin\",\"UnCoin\",\"BitZeny\",\"Diggits\",\"XiaoMiCoin\",\"Paycon\",\"CapriCoin\",\" ClubCoin\",\"Radium\",\"EverGreenCoin\",\"MindCoin\",\"I0coin\",\"Bata\",\"Pakcoin\",\"Creditbit \",\"OKCash\",\"Revolution VR\",\"HOdlcoin\",\"EDRCoin\",\"Hitcoin\",\"DubaiCoin\",\"HiCoin\",\"CarpeDiemCoin\",\"PWR Coin\",\"BitCrystals\",\"BillaryCoin\",\"Scotcoin\",\"Influxcoin\",\"GPU Coin\",\"Adzcoin\",\"Gapcoin\",\"SoilCoin\",\"YoCoin\",\"EuropeCoin\",\"ZeitCoin\",\"SwingCoin\",\"SafeExchangeCoin\",\"Nebuchadnezzar\",\"Francs\",\"BolivarCoin\",\"Ratecoin\",\"Revenu\",\"Clockcoin\",\"VIP Tokens\",\"BitSend\",\"Omni\",\"Let it Ride\",\"PutinCoin\",\"iBankCoin\",\"Frankywillcoin\",\"MudraCoin\",\"PizzaCoin\",\"Lutetium Coin\",\"GoldBlocks\",\"CarterCoin\",\"Karbo\",\"BitTokens\",\"ZayedCoin\",\"MustangCoin\",\"ZoneCoin\",\"Circuits of Value\",\"RootCoin\",\"DopeCoin\",\"BitCurrency\",\"DollarCoin\",\"Swiscoin\",\"Shilling\",\"BuzzCoin\",\"Opair\",\"PesoBit\",\"Halloween Coin\",\"CoffeeCoin\",\"RoyalCoin\",\"GanjaCoin V2\",\"TeamUP\",\"LanaCoin\",\"Elementrem\",\"ZClassic\",\"InsaneCoin\",\"KiloCoin\",\"ArtexCoin\",\"EmberCoin\",\"XenixCoin\",\"FreeCoin\",\"PLNCoin\",\"AquariusCoin\",\"Kurrent\",\"Creatio\",\"Eternity\",\"Eurocoin\",\"BitcoinFast\",\"Stakenet\",\"BitConnect Coin\",\"MoneyCoin\",\"Enigma\",\"Cannabis Industry Coin\",\"Russiacoin\",\"PandaCoin\",\"GameUnits\",\"GAKHcoin\",\"LiteCreed\",\"OsmiumCoin\",\"Bikercoins\",\"HexxCoin\",\"Klingon Empire Darsek\",\"Internet of People\",\"KushCoin\",\"Printerium\",\"PacCoin\",\"Impeach\",\"Citadel\",\"Zilbercoin\",\"FirstCoin\",\"BeaverCoin\",\"FindCoin\",\"VaultCoin\",\"Zero\",\"OpenChat\",\"Canada eCoin\",\"Netko\",\"Zoin\",\"RenosCoin\",\"DubaiCoin\",\"VirtacoinPlus\",\"TajCoin\",\"Impact\",\"EB3coin\",\"Atmos\",\"HappyCoin\",\"Coinonat\",\"MacronCoin\",\"Condensate\",\"Independent Money System\",\"ArgusCoin\",\"LomoCoin\",\"ProCurrency\",\"GoldReserve\",\"BenjiRolls\",\"ParallelCoin\",\"GrowthCoin\",\"ILCoin\",\"Phreak\",\"Degas Coin\",\"HTML5 Coin\",\"Ultimate Secure Cash\",\"EquiTrader\",\"Insane Coin\",\"Quantum Resistant Ledger\",\"Espers\",\"Dynamic\",\"ChanCoin\",\"Wagerr\",\"Dinastycoin\",\"Denarius\",\"DigitalPrice\",\"Virta Unique Coin\",\"Bitcoin Planet\",\"Unify\",\"BritCoin\",\"SocialCoin\",\"ArcticCoin\",\"Particl\",\"DAS\",\"Linda\",\"Reality Clash\",\"LeviarCoin\",\"DeepOnion\",\"Bitcore\",\"gCn Coin\",\"Signatum\",\"Onix\",\"Cream\",\"Growers International\",\"Monoeci\",\"Draftcoin\",\"Sojourn Coin\",\"Stakecoin\",\"Oxycoin\",\"NewYorkCoin\",\"FrazCoin\",\"Kronecoin\",\"AdCoin\",\"Linx\",\"CoinonatX\",\"Ethereum Dark\",\"Sumokoin\",\"Obsidian\",\"Regalcoin\",\"BitcoinZ\",\"TrezarCoin\",\"Elements\",\"TerraNovaCoin\",\"VIVO Coin\",\"Red Pulse Phoenix\",\"Aureus\",\"Rupee\",\"WomenCoin\",\"Theresa May Coin\",\"NamoCoin\",\"LUXCoin\",\"Pirl\",\"Xios\",\"Bitcloud 2.0\",\"eBoost\",\"KekCoin\",\"BlackholeCoin\",\"Pura\",\"Innova\",\"Ellaism\",\"MinexCoin\",\"GoByte\",\"Magnet\",\"Lamden Tau\",\"Electra\",\"SHIELD\",\"Cash & Back Coin\",\"UltraNote\",\"GlobalToken\",\"BitCoal\",\"DaxxCoin\",\"Bulwark\",\"Kalkulus\",\"AC3\",\"Lethean\",\"GermanCoin\",\"LiteCoin Ultra\",\"PopularCoin\",\"PhantomX\",\"Copico\",\"Photon\",\"Sucre\",\"SparksPay\",\"Digiwage\",\"GunCoin\",\"IrishCoin\",\"Trollcoin\",\"Litecoin Plus\",\"Monkey Project\",\"Pioneer Coin\",\"UnitedBitcoin\",\"Interzone\",\"TokenPay\",\"1717 Masonic Commemorative Token\",\"THEKEY Token\",\"TurtleCoin\",\"Dorado\",\"MUNcoin\",\"Unified Society USDEX\",\"Logarithm\",\"Niobio Cash\",\"ShareChain\",\"KREDS\",\"Tokyo Coin\",\"BiblePay\",\"LitecoinCash\",\"BitFlip\",\"ALAX\",\"LottoCoin\",\"Crypto Improvement Fund\",\"Stipend\",\"Pushi\",\"Ellerium\",\"Velox\",\"BitTube\",\"Poseidon\",\"Aidos Kuneen\",\"Bitspace\",\"Briacoin\",\"Ignition\",\"Bitrolium\",\"MedicCoin\",\"Alpenschillling\",\"Bitcoin Green\",\"Deviant Coin\",\"Abjcoin\",\"Semux\",\"FuturoCoin\",\"Carebit\",\"Zealium\",\"Monero Classic\",\"Proton\",\"Jumpcoin\",\"Bitcoin Incognito\",\"KEYCO\",\"HollyWoodCoin\",\"GINcoin\",\"PlatinCoin\",\"Loki\",\"Newton Coin\",\"Swisscoin\",\"Xt3ch\",\"MassGrid\",\"TheVig\",\"PluraCoin\",\"EmaratCoin\",\"Dekado\",\"Lynx\",\"Poseidon Quark\",\"BitcoinWSpectrum\",\"Muse\",\"Motion\",\"PlusOneCoin\",\"Axe\",\"Trivechain\",\"Dystem\",\"Giant\",\"Peony Coin\",\"Absolute Coin\",\"Vitae\",\"HexCoin\",\"TPCash\",\"Webchain\",\"Ryo\",\"Urals Coin\",\"ARENON\",\"EUNO\",\"MMOCoin\",\"Ketan\",\"PAXEX\",\"Azart\",\"ThunderStake\",\"Zipper\",\"Xchange\",\"RoBet\",\"CrypticCoin\",\"Bettex coin\",\"TigerCash\",\"Actinium\",\"BitMoney\",\"Fiii\",\"Junson Ming Chan Coin\",\"FREDEnergy\",\"HerbCoin\",\"URANIUMX\",\"Universal Molecule\",\"Lithium\",\"PirateCash\",\"Exosis\",\"Oduwa\",\"Galilel\",\"Bithereum\",\"Stakinglab\",\"Crypto Sports\",\"Credit\",\"Atomic Wallet Coin\",\"Scribe Network\",\"SLICE\",\"Vollar\",\"Platinum\",\"Nasdacoin\",\"Beetle Coin\",\"Titan Coin\",\"Award\",\"BLAST\",\"Bitcoin Rhodium\",\"Beldex\",\"eXPerience Chain\",\"STREAMIT COIN\",\"Bitcoin SV\",\"BitTorrent\",\"Beam\",\"Project Pai\",\"Kcash\",\"Acute Angle Cloud\",\"BLOC.MONEY\",\"Callisto Network\",\"Crown Coin\",\"Monarch Token\",\"ABBC Coin\",\"Zeph\",\"XDNA\",\"Lobstex\",\"Bitcoin\",\"Ethereum\",\"EOS\",\"Litecoin\",\"Cardano\",\"Monero\",\"Dash\",\"Ethereum Classic\",\"ZCash\",\"Bitshares\",\"Steem\",\"Bitcoin Cash\",\"Ontology\",\"Decred\",\"Waves\",\"VeChain\",\"QTUM\",\"Ravencoin\",\"Bitcoin Gold\",\"Komodo\",\"Siacoin\",\"Aion\",\"Vertcoin\",\"DigiByte\",\"Lisk\",\"Verge\",\"Reddcoin\",\"FeatherCoin\",\"Namecoin\",\"Poa Network\",\"Nano\",\"ByteCoin\",\"Horizen\",\"Waltonchain\",\"ZCoin\",\"ARK\",\"Nexus\",\"SysCoin\",\"Nxt\",\"NavCoin\",\"IOCoin\",\"SibCoin\",\"Aurora Coin\",\"Bitcoin Diamond\",\"Metaverse\",\"Groestlcoin\",\"QuarkCoin\",\"Einsteinium\",\"BurstCoin\",\"Infinity Economics\",\"Expanse\",\"ViaCoin\",\"WhiteCoin\",\"DigitalNote \",\"PotCoin\",\"Gulden\",\"Gamecredits\",\"SmartCash\",\"Emercoin\",\"MegaCoin\"],\"ProofType\":[\"PoW/PoS\",\"PoW/PoS\",\"PoW/PoS\",\"PoS\",\"PoW\",\"PoW/PoS\",\"N/A\",\"PoW\",\"PoW/PoS\",\"PoW\",\"PoW\",\"PoW\",\"PoW\",\"PoW\",\"PoW/PoS\",\"PoW\",\"PoW\",\"PoW/PoS\",\"PoW\",\"PoW/PoS\",\"PoW\",\"PoW\",\"PoC\",\"PoW/PoS\",\"PoW\",\"PoW\",\"PoW\",\"PoW\",\"PoS\",\"PoS/PoW/PoT\",\"PoW\",\"PoW\",\"PoW\",\"PoW\",\"PoW/PoS\",\"PoS\",\"PoW\",\"PoW\",\"PoW\",\"PoW\",\"PoW\",\"PoW/PoS\",\"PoW\",\"PoS\",\"PoW\",\"PoW/PoS\",\"PoS\",\"PoW\",\"PoW\",\"PoW/PoS\",\"PoW/PoS\",\"PoW\",\"PoW\",\"PoW\",\"PoS\",\"PoW/PoS\",\"PoS\",\"PoW\",\"PoW/PoS\",\"PoW\",\"PoW\",\"PoW\",\"PoW\",\"PoW/PoS\",\"PoW/PoS\",\"PoST\",\"PoW\",\"PoW/PoS\",\"PoS\",\"PoW\",\"PoW/PoS\",\"PoW/PoS\",\"PoS\",\"PoW\",\"PoW/PoS\",\"PoW/PoS\",\"PoS\",\"PoW\",\"PoW/PoS\",\"PoW\",\"PoS\",\"PoW\",\"PoW/PoS\",\"PoW/PoS\",\"PoW\",\"PoW\",\"PoW/PoS\",\"PoW/PoS\",\"PoW\",\"PoW\",\"PoW/PoS\",\"PoS\",\"PoW\",\"PoW\",\"PoW\",\"PoW/PoS\",\"PoW/PoS\",\"PoW\",\"PoW\",\"PoW/PoS\",\"PoS\",\"PoW/PoS\",\"PoW/PoS\",\"PoW/PoS\",\"PoW\",\"PoW\",\"PoS\",\"PoW\",\"PoW\",\"PoW\",\"PoW/PoS\",\"PoW\",\"PoW/PoS\",\"PoW\",\"PoW\",\"N/A\",\"PoW\",\"PoW/PoS\",\"PoW\",\"PoW/PoS\",\"PoS/PoW\",\"PoW/PoS\",\"PoW/PoS\",\"PoW\",\"PoW\",\"N/A\",\"PoW\",\"PoS\",\"PoW/PoS\",\"PoW/PoS\",\"PoW/PoS\",\"PoW/PoS\",\"PoS\",\"PoW/PoS\",\"PoW\",\"PoW\",\"PoW\",\"PoW\",\"Proof of Trust\",\"PoW/PoS\",\"PoW\",\"PoW\",\"PoW/PoS\",\"PoW/PoS\",\"PoW/PoS\",\"PoS\",\"PoW\",\"PoW/PoS\",\"N/A\",\"PoW/PoS\",\"N/A\",\"PoW/PoS\",\"PoS\",\"PoW\",\"PoW/PoS\",\"PoW\",\"PoW\",\"PoW/PoS\",\"PoS\",\"PoW/PoS\",\"PoC\",\"PoS\",\"PoW\",\"PoW\",\"PoW/PoS\",\"PoW/PoS\",\"PoW/PoS\",\"PoW/PoS\",\"PoW/PoS\",\"PoW\",\"PoS\",\"PoW/PoS\",\"PoW/PoS\",\"PoW/PoS\",\"PoS\",\"PoW\",\"PoS\",\"PoW/PoS\",\"PoW/PoS\",\"PoW\",\"PoW/PoS\",\"PoW\",\"PoW/PoS\",\"PoW/PoS\",\"PoW\",\"PoW/PoS\",\"PoW\",\"PoS\",\"PoW\",\"PoW/PoW\",\"PoW\",\"PoW/PoS\",\"PoS\",\"PoW/PoS\",\"PoW/PoS\",\"PoS\",\"PoS\",\"PoW/PoS\",\"PoS\",\"PoW/PoS\",\"PoW\",\"PoW\",\"PoW/PoS\",\"PoW\",\"PoW\",\"PoW/PoS\",\"PoW/PoS\",\"PoS\",\"PoW/PoS\",\"PoW/PoS\",\"PoW\",\"PoS\",\"PoW/PoS\",\"PoW/PoS\",\"PoW/PoS\",\"TPoS\",\"PoW/PoS\",\"PoW/PoS\",\"PoW/PoS\",\"PoW\",\"PoW/PoS\",\"PoS\",\"PoW/PoS\",\"PoW/PoS\",\"PoW/PoS\",\"PoW\",\"PoW\",\"PoW\",\"PoW/PoS\",\"PoW/PoS\",\"PoW/PoS\",\"PoW/PoS\",\"PoW\",\"PoW/PoS\",\"PoW\",\"PoS\",\"PoW/PoS \",\"PoW\",\"PoS\",\"PoW\",\"PoW\",\"PoW/PoS\",\"PoW\",\"N/A\",\"PoW\",\"PoS\",\"PoW\",\"PoW/PoS\",\"PoW/PoS\",\"PoW/PoS\",\"PoW\",\"PoS\",\"PoW/PoS\",\"PoW\",\"PoS\",\"PoW/PoS\",\"PoW/PoS\",\"PoW/PoS\",\"PoW/PoS\",\"PoS\",\"PoW/PoS\",\"PoW\",\"PoW\",\"PoS\",\"PoW\",\"PoS\",\"PoW/PoS\",\"PoW/PoS\",\"PoS\",\"PoW\",\"PoW/PoS\",\"PoW\",\"PoW/PoS\",\"PoW\",\"PoW\",\"N/A\",\"PoW\",\"PoW/PoS\",\"PoW\",\"PoW/PoS\",\"PoW/PoS\",\"PoW\",\"PoW/PoS\",\"PoW\",\"PoW\",\"PoS\",\"PoW\",\"PoW/PoS\",\"PoW\",\"PoW\",\"PoW/PoS\",\"PoW\",\"PoW\",\"PoS\",\"PoW\",\"PoW/PoS\",\"N/A\",\"PoW/PoS\",\"PoS\",\"PoW\",\"PoS\",\"DPoS\",\"PoW\",\"PoW\",\"PoW\",\"PoW\",\"PoW\",\"PoW/PoS\",\"PoW/PoS\",\"PoW\",\"PoS\",\"PoW/PoS\",\"PoW\",\"PoW/PoS\",\"PoW\",\"PoW/PoS\",\"PoW\",\"N/A\",\"N/A\",\"PoS\",\"PoW/PoS\",\"PoW/PoS\",\"PoW/PoS\",\"PoW/PoS\",\"PoW\",\"PoW/PoS\",\"PoW/PoS\",\"PoW\",\"PoS\",\"PoW/PoS\",\"PoW\",\"PoW\",\"PoW\",\"N/A\",\"PoW\",\"PoW/PoS\",\"DPoS\",\"PoW/PoS\",\"PoW\",\"PoW/PoS\",\"PoW\",\"PoW\",\"PoW\",\"PoW\",\"PoS\",\"PoS\",\"PoW\",\"PoW\",\"PoW/PoS\",\"PoW/PoS\",\"PoW\",\"PoW/PoS\",\"N/A\",\"PoW\",\"PoW\",\"PoW\",\"PoS\",\"PoW\",\"PoW\",\"PoW/PoS\",\"PoW/PoS\",\"PoS\",\"PoW\",\"PoW\",\"PoW\",\"PoS\",\"PoS\",\"N/A\",\"PoW\",\"N/A\",\"PoW\",\"PoW/PoS\",\"N/A\",\"PoW\",\"PoW\",\"PoW\",\"PoS\",\"POBh\",\"PoW + Hive\",\"PoW\",\"DPoS\",\"PoW\",\"PoW\",\"PoW/PoS\",\"PoW/PoS\",\"PoW/PoS\",\"PoS\",\"PoW\",\"PoW\",\"PoW\",\"PoW/PoS\",\"PoW/PoS\",\"PoW/PoS\",\"PoW\",\"PoS\",\"PoW\",\"PoS\",\"PoS\",\"PoW/PoS\",\"DPoS\",\"PoW\",\"PoW/PoS\",\"PoS\",\"PoW\",\"PoS\",\"PoW\",\"PoS/PoW\",\"PoW\",\"PoS\",\"PoW\",\"PoW\",\"PoW\",\"PoW\",\"PoW/PoS\",\"PoS\",\"PoW\",\"PoW/PoS\",\"PoW\",\"PoW/PoS\",\"PoS\",\"HPoW\",\"PoS\",\"PoS\",\"PoS\",\"PoW\",\"PoW\",\"PoW\",\"PoW/PoS\",\"PoS\",\"PoW/PoS\",\"PoS\",\"PoW/PoS\",\"PoS\",\"PoW\",\"PoW/PoS\",\"PoW\",\"PoW\",\"PoW\",\"PoS\",\"PoW/PoS\",\"PoS\",\"PoS\",\"PoS\",\"PoW\",\"PoW/PoS\",\"N/A\",\"PoW\",\"N/A\",\"PoW\",\"PoS\",\"PoS\",\"PoW\",\"Pos\",\"DPoC\",\"PoS\",\"PoW\",\"PoW/PoS\",\"N/A\",\"PoW\",\"PoW\",\"PoS\",\"PoW\",\"PoW/PoS\",\"PoW/PoS\",\"PoW\",\"N/A\",\"PoS\",\"PoW/PoS\",\"N/A\",\"PoW\",\"PoW\",\"PoW\",\"PoS\",\"PoW/PoS\",\"PoW/PoS\",\"PoW/PoS\",\"PoW/PoS\",\"PoW\",\"PoW\",\"PoW\",\"N/A\",\"PoS\",\"PoW\",\"DPoS\",\"PoW\",\"PoW\",\"Zero-Knowledge Proof\",\"DPOS\",\"PoW\",\"PoW\",\"PoS\",\"N/A\",\"N/A\",\"DPoS\",\"PoW/PoS\",\"PoS\",\"PoW\",\"PoW\",\"DPoS\",\"PoW\",\"PoS\",\"PoW\",\"PoW/PoS\",\"PoW\",\"PoW\",\"PoS\",\"PoW\",\"PoW\",\"PoS\",\"PoW/PoS\",\"LPoS\",\"Proof of Authority\",\"PoS\",\"N/A\",\"PoW\",\"dPoW/PoW\",\"PoW\",\"PoW/PoS\",\"PoW\",\"PoW\",\"DPoS\",\"PoW\",\"PoW/PoS\",\"PoW\",\"PoW\",\"PoA\",\"PoW\",\"PoW\",\"PoW\",\"N/A\",\"PoW\",\"DPoS\",\"PoW/nPoS\",\"PoW\",\"PoS/LPoS\",\"PoW/PoS\",\"PoW/PoS\",\"PoW\",\"PoW/PoS\",\"PoW/PoS\",\"N/A\",\"PoW\",\"PoW\",\"PoW\",\"PoC\",\"PoS\",\"PoW\",\"PoW\",\"PoW/PoS\",\"PoW\",\"PoW/PoS\",\"PoW\",\"PoW\",\"PoW\",\"PoW/PoS\",\"PoW\"],\"TotalCoinSupply\":{\"__ndarray__\":\"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\",\"dtype\":\"float64\",\"shape\":[556]},\"TotalCoinsMined\":{\"__ndarray__\":\"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\",\"dtype\":\"float64\",\"shape\":[556]},\"class\":{\"__ndarray__\":\"AgAAAAIAAAACAAAAAgAAAAIAAAACAAAAAAAAAAIAAAACAAAAAgAAAAIAAAACAAAAAgAAAAIAAAACAAAAAgAAAAIAAAACAAAAAgAAAAIAAAACAAAAAgAAAAIAAAACAAAAAgAAAAIAAAACAAAAAgAAAAAAAAACAAAAAgAAAAIAAAACAAAAAgAAAAIAAAACAAAAAgAAAAIAAAACAAAAAgAAAAIAAAACAAAAAgAAAAIAAAACAAAAAgAAAAIAAAACAAAAAgAAAAIAAAACAAAAAgAAAAIAAAACAAAAAgAAAAIAAAACAAAAAgAAAAIAAAACAAAAAgAAAAIAAAACAAAAAgAAAAIAAAACAAAAAgAAAAIAAAACAAAAAgAAAAIAAAACAAAAAAAAAAIAAAACAAAAAgAAAAIAAAACAAAAAgAAAAIAAAACAAAAAgAAAAIAAAACAAAAAgAAAAIAAAACAAAAAgAAAAIAAAACAAAAAgAAAAIAAAACAAAAAgAAAAIAAAACAAAAAgAAAAIAAAACAAAAAgAAAAIAAAACAAAAAgAAAAIAAAACAAAAAgAAAAIAAAADAAAAAgAAAAIAAAACAAAAAgAAAAIAAAACAAAAAgAAAAAAAAACAAAAAgAAAAIAAAACAAAAAgAAAAIAAAACAAAAAgAAAAIAAAAAAAAAAgAAAAMAAAACAAAAAgAAAAIAAAACAAAAAAAAAAIAAAACAAAAAgAAAAIAAAACAAAAAgAAAAIAAAADAAAAAgAAAAIAAAACAAAAAgAAAAIAAAACAAAAAgAAAAMAAAACAAAAAAAAAAIAAAACAAAAAgAAAAIAAAACAAAAAgAAAAIAAAACAAAAAgAAAAMAAAADAAAAAgAAAAIAAAACAAAAAgAAAAIAAAACAAAAAgAAAAMAAAAAAAAAAgAAAAIAAAACAAAAAAAAAAIAAAADAAAAAgAAAAIAAAACAAAAAgAAAAIAAAACAAAAAgAAAAIAAAACAAAAAgAAAAIAAAACAAAAAgAAAAIAAAACAAAAAAAAAAIAAAACAAAAAAAAAAAAAAADAAAAAwAAAAIAAAACAAAAAgAAAAIAAAACAAAAAgAAAAIAAAADAAAAAwAAAAIAAAACAAAAAgAAAAMAAAACAAAAAgAAAAIAAAACAAAAAgAAAAIAAAACAAAAAgAAAAIAAAACAAAAAgAAAAMAAAACAAAAAgAAAAIAAAACAAAAAgAAAAIAAAACAAAAAgAAAAIAAAACAAAAAgAAAAIAAAACAAAAAgAAAAMAAAACAAAAAgAAAAIAAAACAAAAAAAAAAIAAAACAAAAAgAAAAIAAAACAAAAAgAAAAIAAAAAAAAAAgAAAAIAAAAAAAAAAgAAAAIAAAACAAAAAgAAAAAAAAACAAAAAgAAAAIAAAACAAAAAgAAAAAAAAACAAAAAgAAAAAAAAACAAAAAgAAAAIAAAACAAAAAgAAAAIAAAAAAAAAAgAAAAIAAAACAAAAAgAAAAIAAAACAAAAAgAAAAIAAAACAAAAAAAAAAIAAAACAAAAAgAAAAIAAAACAAAAAgAAAAIAAAAAAAAAAgAAAAIAAAAAAAAAAgAAAAIAAAACAAAAAAAAAAAAAAACAAAAAgAAAAIAAAACAAAAAgAAAAIAAAACAAAAAgAAAAAAAAACAAAAAgAAAAIAAAACAAAAAgAAAAIAAAAAAAAAAwAAAAAAAAACAAAAAgAAAAIAAAACAAAAAgAAAAIAAAAAAAAAAwAAAAAAAAACAAAAAgAAAAIAAAACAAAAAAAAAAIAAAACAAAAAAAAAAIAAAACAAAAAgAAAAIAAAACAAAAAgAAAAIAAAAAAAAAAAAAAAIAAAACAAAAAgAAAAIAAAACAAAAAgAAAAAAAAACAAAAAgAAAAIAAAAAAAAAAgAAAAIAAAACAAAAAgAAAAAAAAACAAAAAgAAAAIAAAAAAAAAAAAAAAAAAAAAAAAAAAAAAAIAAAACAAAAAAAAAAIAAAACAAAAAgAAAAAAAAAEAAAABAAAAAIAAAADAAAAAgAAAAIAAAACAAAAAgAAAAAAAAAAAAAAAgAAAAIAAAACAAAAAgAAAAIAAAACAAAAAgAAAAAAAAACAAAAAAAAAAAAAAACAAAAAAAAAAIAAAAAAAAAAAAAAAIAAAAAAAAAAgAAAAAAAAACAAAAAAAAAAIAAAADAAAAAgAAAAAAAAACAAAAAAAAAAIAAAACAAAAAgAAAAIAAAAAAAAAAAAAAAAAAAAAAAAAAAAAAAAAAAACAAAAAgAAAAAAAAAAAAAAAAAAAAAAAAACAAAAAAAAAAIAAAACAAAAAgAAAAIAAAAAAAAAAAAAAAIAAAAAAAAAAAAAAAAAAAACAAAAAgAAAAAAAAAAAAAAAAAAAAIAAAAAAAAAAAAAAAIAAAAAAAAABAAAAAAAAAACAAAAAAAAAAAAAAAAAAAAAAAAAAAAAAAAAAAAAgAAAAAAAAAAAAAAAAAAAAAAAAACAAAAAAAAAAAAAAACAAAAAAAAAAAAAAACAAAAAAAAAAAAAAAAAAAAAgAAAAAAAAAAAAAAAAAAAAAAAAACAAAAAQAAAAAAAAACAAAAAAAAAAQAAAAAAAAAAgAAAAIAAAAAAAAAAAAAAAAAAAACAAAAAAAAAAIAAAACAAAAAAAAAAIAAAAAAAAAAgAAAAIAAAACAAAAAgAAAAMAAAADAAAAAgAAAAAAAAACAAAAAwAAAAAAAAAAAAAAAAAAAAIAAAACAAAAAgAAAAIAAAACAAAAAgAAAAMAAAACAAAAAgAAAAIAAAACAAAABAAAAAIAAAACAAAAAgAAAAAAAAACAAAAAAAAAAIAAAACAAAAAwAAAAIAAAACAAAAAgAAAAIAAAACAAAAAAAAAAIAAAACAAAAAgAAAAIAAAAAAAAAAgAAAAIAAAACAAAAAgAAAAIAAAACAAAAAgAAAAIAAAACAAAAAgAAAA==\",\"dtype\":\"int32\",\"shape\":[556]},\"index\":[\"42\",\"1337\",\"BTCD\",\"XPY\",\"PRC\",\"KOBO\",\"XPD\",\"ARG\",\"BLU\",\"XMY\",\"MOON\",\"ZET\",\"SXC\",\"QTL\",\"ENRG\",\"RIC\",\"DGC\",\"BTB\",\"CAT\",\"CBX\",\"CCN\",\"CRYPT\",\"CSC\",\"DMD\",\"DVC\",\"EAC\",\"EFL\",\"EMD\",\"EXCL\",\"FLT\",\"FRK\",\"GDC\",\"GLC\",\"GLD\",\"HBN\",\"HYP\",\"IFC\",\"IXC\",\"KGC\",\"LKY\",\"LTB\",\"MAX\",\"MED\",\"MINT\",\"MINC\",\"MZC\",\"NAUT\",\"NOBL\",\"NYAN\",\"ORB\",\"PXC\",\"RPC\",\"SBC\",\"SMC\",\"SUPER\",\"SYNC\",\"TES\",\"TGC\",\"TOR\",\"TRC\",\"UNB\",\"UNO\",\"URO\",\"USDE\",\"UTC\",\"VRC\",\"WDC\",\"XC\",\"XCR\",\"XJO\",\"XST\",\"ZCC\",\"SJCX\",\"MONA\",\"NTRN\",\"FAIR\",\"RBY\",\"PTC\",\"KORE\",\"WBB\",\"NOTE\",\"FLO\",\"8BIT\",\"STV\",\"J\",\"ABY\",\"LDOGE\",\"TRI\",\"FLDC\",\"SLR\",\"TRK\",\"U\",\"UIS\",\"CYP\",\"UFO\",\"OC\",\"FSC\",\"BLC\",\"OMC\",\"BITS\",\"NEOS\",\"HYPER\",\"VTR\",\"PINK\",\"GRE\",\"XCN\",\"XBC\",\"MSC\",\"SOON\",\"1CR\",\"ISL\",\"CESC\",\"ADC\",\"MARS\",\"CTO\",\"CREVA\",\"ACP\",\"DRZ\",\"BSC\",\"NKA\",\"SQL\",\"PIGGY\",\"GEN\",\"SONG\",\"SMLY\",\"UNC\",\"ZNY\",\"DIGS\",\"MI\",\"CON\",\"CPC\",\"CLUB\",\"RADS\",\"EGC\",\"MND\",\"I0C\",\"BTA\",\"PAK\",\"CRB\",\"OK\",\"RVR\",\"HODL\",\"EDRC\",\"HTC\",\"DBIC\",\"XHI\",\"DIEM\",\"PWR\",\"BCY\",\"BLRY\",\"SCOT\",\"INFX\",\"GPU\",\"ADZ\",\"GAP\",\"SOIL\",\"YOC\",\"ERC\",\"ZEIT\",\"SWING\",\"SAFEX\",\"NEBU\",\"FRN\",\"BOLI\",\"XRA\",\"REV\",\"CKC\",\"VIP\",\"BSD\",\"OMNI\",\"LIR\",\"PUT\",\"IBANK\",\"FRWC\",\"MUDRA\",\"PIZZA\",\"LC\",\"GB\",\"CTC\",\"KRB\",\"BXT\",\"ZYD\",\"MST\",\"ZNE\",\"COVAL\",\"ROOT\",\"DOPE\",\"BTCR\",\"DLC\",\"SCN\",\"SH\",\"BUZZ\",\"XPO\",\"PSB\",\"HALLO\",\"CFC\",\"ROYAL\",\"GNJ\",\"TEAM\",\"LANA\",\"ELE\",\"ZCL\",\"INSANE\",\"KLC\",\"ATX\",\"EMB\",\"XEN\",\"FRE\",\"PLNC\",\"ARCO\",\"KURT\",\"XCRE\",\"ENT\",\"EUC\",\"BCF\",\"XSN\",\"BCCOIN\",\"MONEY\",\"XNG\",\"XCI\",\"RC\",\"PND\",\"UNITS\",\"GAKH\",\"LTCR\",\"OS76\",\"BIC\",\"HXX\",\"KED\",\"IOP\",\"KUSH\",\"PRX\",\"PAC\",\"IMPCH\",\"CTL\",\"ZBC\",\"FRST\",\"BVC\",\"FIND\",\"VLTC\",\"ZER\",\"CHAT\",\"CDN\",\"NETKO\",\"ZOI\",\"RNS\",\"DBIX\",\"XVP\",\"TAJ\",\"IMX\",\"EB3\",\"ATMOS\",\"HPC\",\"CXT\",\"MCRN\",\"RAIN\",\"IMS\",\"ARGUS\",\"LMC\",\"PROC\",\"XGR\",\"BENJI\",\"DUO\",\"GRW\",\"ILC\",\"PHR\",\"DEA\",\"HTML5\",\"USC\",\"EQT\",\"INSN\",\"QRL\",\"ESP\",\"DYN\",\"CHAN\",\"WGR\",\"DCY\",\"DNR\",\"DP\",\"VUC\",\"BTPL\",\"UNIFY\",\"BRIT\",\"SOCC\",\"ARC\",\"PART\",\"DAS\",\"LINDA\",\"RCC\",\"XLC\",\"ONION\",\"BTX\",\"GCN\",\"SIGT\",\"ONX\",\"CRM\",\"GRWI\",\"XMCC\",\"DFT\",\"SOJ\",\"STCN\",\"OXY\",\"NYC\",\"FRAZ\",\"KRONE\",\"ACC\",\"LINX\",\"XCXT\",\"ETHD\",\"SUMO\",\"ODN\",\"REC\",\"BTCZ\",\"TZC\",\"ELM\",\"TER\",\"VIVO\",\"PHX\",\"AURS\",\"RUP\",\"WOMEN\",\"MAY\",\"NAMO\",\"LUX\",\"PIRL\",\"XIOS\",\"BTDX\",\"EBST\",\"KEK\",\"BLHC\",\"PURA\",\"INN\",\"ELLA\",\"MNX\",\"GBX\",\"MAG\",\"TAU\",\"ECA\",\"XSH\",\"CNBC\",\"XUN\",\"GLT\",\"COAL\",\"DAXX\",\"BWK\",\"KLKS\",\"AC3\",\"LTHN\",\"GER\",\"LTCU\",\"POP\",\"PNX\",\"XCPO\",\"PHO\",\"SUCR\",\"SPK\",\"WAGE\",\"GUN\",\"IRL\",\"TROLL\",\"LCP\",\"MONK\",\"PCOIN\",\"UBTC\",\"ITZ\",\"TPAY\",\"MCT\",\"TKY\",\"TRTL\",\"DOR\",\"MUN\",\"USX\",\"LGR\",\"NBR\",\"SSS\",\"KREDS\",\"TOKC\",\"BBP\",\"LCC\",\"FLIP\",\"ALX\",\"LOT\",\"CIF\",\"SPD\",\"PUSHI\",\"ELP\",\"VLX\",\"TUBE\",\"PSD\",\"ADK\",\"BSX\",\"BRIA\",\"IC\",\"BTL\",\"MEDIC\",\"ALPS\",\"BITG\",\"DEV\",\"ABJ\",\"SEM\",\"FTO\",\"CARE\",\"NZL\",\"XMC\",\"PROTON\",\"JUMP\",\"XBI\",\"KEC\",\"HWC\",\"GIN\",\"PLTC\",\"LOKI\",\"NCP\",\"SIC\",\"XT3\",\"MGD\",\"VIG\",\"PLURA\",\"EMAR\",\"DKD\",\"LYNX\",\"POSQ\",\"BWS\",\"MUSE\",\"XMN\",\"PLUS1\",\"AXE\",\"TRVC\",\"DTEM\",\"GIC\",\"PNY\",\"ABS\",\"VITAE\",\"HEX\",\"TPC\",\"WEBC\",\"RYO\",\"URALS\",\"ARE\",\"EUNO\",\"MMO\",\"KETAN\",\"PAXEX\",\"AZART\",\"TSC\",\"ZIP\",\"XCG\",\"ROBET\",\"CRYP\",\"BTXC\",\"TCH\",\"ACM\",\"BITM\",\"FIII\",\"JMC\",\"FRED\",\"HERB\",\"URX\",\"UMO\",\"LIT\",\"PIRATE\",\"EXO\",\"OWC\",\"GALI\",\"BTH\",\"LABX\",\"CSPN\",\"CREDIT\",\"AWC\",\"SCRIBE\",\"SLC\",\"VOLLAR\",\"PLAT\",\"NSD\",\"BEET\",\"TTN\",\"AWR\",\"BLAST\",\"XRC\",\"BDX\",\"XPC\",\"STREAM\",\"BSV\",\"BTT\",\"BEAM\",\"PPAI\",\"KCASH\",\"AAC\",\"BLOCM\",\"CLO\",\"CRW\",\"MONT\",\"ABBC\",\"ZEPH\",\"XDNA\",\"LOBS\",\"BTC\",\"ETH\",\"EOS\",\"LTC\",\"ADA\",\"XMR\",\"DASH\",\"ETC\",\"ZEC\",\"BTS\",\"STEEM\",\"BCH\",\"ONT\",\"DCR\",\"WAVES\",\"VET\",\"QTUM\",\"RVN\",\"BTG\",\"KMD\",\"SC\",\"AION\",\"VTC\",\"DGB\",\"LSK\",\"XVG\",\"RDD\",\"FTC\",\"NMC\",\"POA\",\"NANO\",\"BCN\",\"ZEN\",\"WTC\",\"XZC\",\"ARK\",\"NXS\",\"SYS\",\"NXT\",\"NAV\",\"IOC\",\"SIB\",\"AUR\",\"BCD\",\"ETP\",\"GRS\",\"QRK\",\"EMC2\",\"BURST\",\"XIN\",\"EXP\",\"VIA\",\"XWC\",\"XDN\",\"POT\",\"NLG\",\"GAME\",\"SMART\",\"EMC\",\"MEC\"],\"p1\":{\"__ndarray__\":\"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\",\"dtype\":\"float64\",\"shape\":[556]},\"p2\":{\"__ndarray__\":\"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\",\"dtype\":\"float64\",\"shape\":[556]},\"p3\":{\"__ndarray__\":\"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\",\"dtype\":\"float64\",\"shape\":[556]}},\"selected\":{\"id\":\"2173\",\"type\":\"Selection\"},\"selection_policy\":{\"id\":\"2226\",\"type\":\"UnionRenderers\"}},\"id\":\"2172\",\"type\":\"ColumnDataSource\"},{\"attributes\":{\"editor\":{\"id\":\"2220\",\"type\":\"StringEditor\"},\"field\":\"CoinName\",\"formatter\":{\"id\":\"2219\",\"type\":\"StringFormatter\"},\"title\":\"CoinName\"},\"id\":\"2221\",\"type\":\"TableColumn\"},{\"attributes\":{},\"id\":\"2220\",\"type\":\"StringEditor\"},{\"attributes\":{},\"id\":\"2180\",\"type\":\"StringEditor\"},{\"attributes\":{},\"id\":\"2210\",\"type\":\"NumberEditor\"},{\"attributes\":{\"editor\":{\"id\":\"2210\",\"type\":\"NumberEditor\"},\"field\":\"p3\",\"formatter\":{\"id\":\"2209\",\"type\":\"NumberFormatter\"},\"title\":\"p3\"},\"id\":\"2211\",\"type\":\"TableColumn\"},{\"attributes\":{},\"id\":\"2179\",\"type\":\"StringFormatter\"},{\"attributes\":{},\"id\":\"2219\",\"type\":\"StringFormatter\"},{\"attributes\":{},\"id\":\"2174\",\"type\":\"StringFormatter\"},{\"attributes\":{\"format\":\"0,0.0[00000]\"},\"id\":\"2199\",\"type\":\"NumberFormatter\"},{\"attributes\":{},\"id\":\"2175\",\"type\":\"StringEditor\"},{\"attributes\":{},\"id\":\"2195\",\"type\":\"NumberEditor\"},{\"attributes\":{\"format\":\"0,0.0[00000]\"},\"id\":\"2204\",\"type\":\"NumberFormatter\"},{\"attributes\":{\"editor\":{\"id\":\"2195\",\"type\":\"NumberEditor\"},\"field\":\"TotalCoinSupply\",\"formatter\":{\"id\":\"2194\",\"type\":\"NumberFormatter\"},\"title\":\"TotalCoinSupply\"},\"id\":\"2196\",\"type\":\"TableColumn\"},{\"attributes\":{\"editor\":{\"id\":\"2175\",\"type\":\"StringEditor\"},\"field\":\"index\",\"formatter\":{\"id\":\"2174\",\"type\":\"StringFormatter\"},\"title\":\"index\"},\"id\":\"2176\",\"type\":\"TableColumn\"},{\"attributes\":{\"editor\":{\"id\":\"2190\",\"type\":\"NumberEditor\"},\"field\":\"TotalCoinsMined\",\"formatter\":{\"id\":\"2189\",\"type\":\"NumberFormatter\"},\"title\":\"TotalCoinsMined\"},\"id\":\"2191\",\"type\":\"TableColumn\"},{\"attributes\":{},\"id\":\"2205\",\"type\":\"NumberEditor\"},{\"attributes\":{},\"id\":\"2226\",\"type\":\"UnionRenderers\"},{\"attributes\":{\"format\":\"0,0.0[00000]\"},\"id\":\"2194\",\"type\":\"NumberFormatter\"},{\"attributes\":{\"source\":{\"id\":\"2172\",\"type\":\"ColumnDataSource\"}},\"id\":\"2225\",\"type\":\"CDSView\"},{\"attributes\":{\"format\":\"0,0.0[00000]\"},\"id\":\"2209\",\"type\":\"NumberFormatter\"},{\"attributes\":{},\"id\":\"2185\",\"type\":\"StringEditor\"},{\"attributes\":{},\"id\":\"2184\",\"type\":\"StringFormatter\"}],\"root_ids\":[\"2224\"]},\"title\":\"Bokeh Application\",\"version\":\"1.3.4\"}};\n",
       "  var render_items = [{\"docid\":\"c39cf248-9567-43bf-928e-3664cd28d8e1\",\"roots\":{\"2224\":\"4adbc6f0-a55c-48ba-b863-9a87dbe7b282\"}}];\n",
       "  root.Bokeh.embed.embed_items_notebook(docs_json, render_items);\n",
       "\n",
       "  }\n",
       "  if (root.Bokeh !== undefined) {\n",
       "    embed_document(root);\n",
       "  } else {\n",
       "    var attempts = 0;\n",
       "    var timer = setInterval(function(root) {\n",
       "      if (root.Bokeh !== undefined) {\n",
       "        embed_document(root);\n",
       "        clearInterval(timer);\n",
       "      }\n",
       "      attempts++;\n",
       "      if (attempts > 100) {\n",
       "        console.log(\"Bokeh: ERROR: Unable to run BokehJS code because BokehJS library is missing\");\n",
       "        clearInterval(timer);\n",
       "      }\n",
       "    }, 10, root)\n",
       "  }\n",
       "})(window);</script>"
      ],
      "text/plain": [
       ":Table   [index,Algorithm,ProofType,TotalCoinsMined,TotalCoinSupply,p1,p2,p3,class,CoinName]"
      ]
     },
     "execution_count": 95,
     "metadata": {
      "application/vnd.holoviews_exec.v0+json": {
       "id": "2224"
      }
     },
     "output_type": "execute_result"
    }
   ],
   "source": [
    "# Table with tradable cryptos\n",
    "result.hvplot.table()"
   ]
  },
  {
   "cell_type": "markdown",
   "metadata": {},
   "source": [
    "#### Scatter Plot with Tradable Cryptocurrencies"
   ]
  },
  {
   "cell_type": "code",
   "execution_count": null,
   "metadata": {},
   "outputs": [],
   "source": [
    "# Scaling data to create the scatter plot"
   ]
  },
  {
   "cell_type": "code",
   "execution_count": 96,
   "metadata": {},
   "outputs": [
    {
     "data": {
      "application/vnd.holoviews_exec.v0+json": "",
      "text/html": [
       "<div id='2243' style='display: table; margin: 0 auto;'>\n",
       "\n",
       "\n",
       "\n",
       "\n",
       "\n",
       "  <div class=\"bk-root\" id=\"ba97204f-fe6e-4f8d-a429-e6e6c9decf5d\" data-root-id=\"2243\"></div>\n",
       "</div>\n",
       "<script type=\"application/javascript\">(function(root) {\n",
       "  function embed_document(root) {\n",
       "    \n",
       "  var docs_json = {\"f175ae42-0f3c-4edf-873f-b7c1ea4dfaa8\":{\"roots\":{\"references\":[{\"attributes\":{\"below\":[{\"id\":\"2252\",\"type\":\"LinearAxis\"}],\"center\":[{\"id\":\"2256\",\"type\":\"Grid\"},{\"id\":\"2261\",\"type\":\"Grid\"}],\"left\":[{\"id\":\"2257\",\"type\":\"LinearAxis\"}],\"margin\":null,\"min_border_bottom\":10,\"min_border_left\":10,\"min_border_right\":10,\"min_border_top\":10,\"plot_height\":300,\"plot_width\":700,\"renderers\":[{\"id\":\"2280\",\"type\":\"GlyphRenderer\"}],\"sizing_mode\":\"fixed\",\"title\":{\"id\":\"2244\",\"type\":\"Title\"},\"toolbar\":{\"id\":\"2267\",\"type\":\"Toolbar\"},\"x_range\":{\"id\":\"2240\",\"type\":\"Range1d\"},\"x_scale\":{\"id\":\"2248\",\"type\":\"LinearScale\"},\"y_range\":{\"id\":\"2241\",\"type\":\"Range1d\"},\"y_scale\":{\"id\":\"2250\",\"type\":\"LinearScale\"}},\"id\":\"2243\",\"subtype\":\"Figure\",\"type\":\"Plot\"},{\"attributes\":{\"fill_alpha\":{\"value\":0.2},\"fill_color\":{\"value\":\"#1f77b4\"},\"line_alpha\":{\"value\":0.2},\"line_color\":{\"value\":\"#1f77b4\"},\"size\":{\"units\":\"screen\",\"value\":5.477225575051661},\"x\":{\"field\":\"TotalCoinsMined\"},\"y\":{\"field\":\"TotalCoinSupply\"}},\"id\":\"2279\",\"type\":\"Scatter\"},{\"attributes\":{\"fill_color\":{\"value\":\"#1f77b4\"},\"line_color\":{\"value\":\"#1f77b4\"},\"size\":{\"units\":\"screen\",\"value\":5.477225575051661},\"x\":{\"field\":\"TotalCoinsMined\"},\"y\":{\"field\":\"TotalCoinSupply\"}},\"id\":\"2277\",\"type\":\"Scatter\"},{\"attributes\":{},\"id\":\"2253\",\"type\":\"BasicTicker\"},{\"attributes\":{\"callback\":null,\"end\":1000000000000.0,\"reset_end\":1000000000000.0,\"reset_start\":0.0,\"tags\":[[[\"TotalCoinSupply\",\"TotalCoinSupply\",null]]]},\"id\":\"2241\",\"type\":\"Range1d\"},{\"attributes\":{\"data_source\":{\"id\":\"2274\",\"type\":\"ColumnDataSource\"},\"glyph\":{\"id\":\"2277\",\"type\":\"Scatter\"},\"hover_glyph\":null,\"muted_glyph\":{\"id\":\"2279\",\"type\":\"Scatter\"},\"nonselection_glyph\":{\"id\":\"2278\",\"type\":\"Scatter\"},\"selection_glyph\":null,\"view\":{\"id\":\"2281\",\"type\":\"CDSView\"}},\"id\":\"2280\",\"type\":\"GlyphRenderer\"},{\"attributes\":{\"fill_alpha\":{\"value\":0.1},\"fill_color\":{\"value\":\"#1f77b4\"},\"line_alpha\":{\"value\":0.1},\"line_color\":{\"value\":\"#1f77b4\"},\"size\":{\"units\":\"screen\",\"value\":5.477225575051661},\"x\":{\"field\":\"TotalCoinsMined\"},\"y\":{\"field\":\"TotalCoinSupply\"}},\"id\":\"2278\",\"type\":\"Scatter\"},{\"attributes\":{},\"id\":\"2250\",\"type\":\"LinearScale\"},{\"attributes\":{\"axis_label\":\"TotalCoinSupply\",\"bounds\":\"auto\",\"formatter\":{\"id\":\"2284\",\"type\":\"BasicTickFormatter\"},\"major_label_orientation\":\"horizontal\",\"ticker\":{\"id\":\"2258\",\"type\":\"BasicTicker\"}},\"id\":\"2257\",\"type\":\"LinearAxis\"},{\"attributes\":{\"source\":{\"id\":\"2274\",\"type\":\"ColumnDataSource\"}},\"id\":\"2281\",\"type\":\"CDSView\"},{\"attributes\":{},\"id\":\"2282\",\"type\":\"BasicTickFormatter\"},{\"attributes\":{\"axis_label\":\"TotalCoinsMined\",\"bounds\":\"auto\",\"formatter\":{\"id\":\"2282\",\"type\":\"BasicTickFormatter\"},\"major_label_orientation\":\"horizontal\",\"ticker\":{\"id\":\"2253\",\"type\":\"BasicTicker\"}},\"id\":\"2252\",\"type\":\"LinearAxis\"},{\"attributes\":{},\"id\":\"2263\",\"type\":\"PanTool\"},{\"attributes\":{},\"id\":\"2262\",\"type\":\"SaveTool\"},{\"attributes\":{},\"id\":\"2284\",\"type\":\"BasicTickFormatter\"},{\"attributes\":{\"callback\":null,\"renderers\":[{\"id\":\"2280\",\"type\":\"GlyphRenderer\"}],\"tags\":[\"hv_created\"],\"tooltips\":[[\"TotalCoinsMined\",\"@{TotalCoinsMined}\"],[\"TotalCoinSupply\",\"@{TotalCoinSupply}\"],[\"CoinName\",\"@{CoinName}\"]]},\"id\":\"2242\",\"type\":\"HoverTool\"},{\"attributes\":{\"grid_line_color\":null,\"ticker\":{\"id\":\"2253\",\"type\":\"BasicTicker\"}},\"id\":\"2256\",\"type\":\"Grid\"},{\"attributes\":{},\"id\":\"2266\",\"type\":\"ResetTool\"},{\"attributes\":{},\"id\":\"2275\",\"type\":\"Selection\"},{\"attributes\":{\"active_drag\":\"auto\",\"active_inspect\":\"auto\",\"active_multi\":null,\"active_scroll\":\"auto\",\"active_tap\":\"auto\",\"tools\":[{\"id\":\"2242\",\"type\":\"HoverTool\"},{\"id\":\"2262\",\"type\":\"SaveTool\"},{\"id\":\"2263\",\"type\":\"PanTool\"},{\"id\":\"2264\",\"type\":\"WheelZoomTool\"},{\"id\":\"2265\",\"type\":\"BoxZoomTool\"},{\"id\":\"2266\",\"type\":\"ResetTool\"}]},\"id\":\"2267\",\"type\":\"Toolbar\"},{\"attributes\":{\"bottom_units\":\"screen\",\"fill_alpha\":{\"value\":0.5},\"fill_color\":{\"value\":\"lightgrey\"},\"left_units\":\"screen\",\"level\":\"overlay\",\"line_alpha\":{\"value\":1.0},\"line_color\":{\"value\":\"black\"},\"line_dash\":[4,4],\"line_width\":{\"value\":2},\"render_mode\":\"css\",\"right_units\":\"screen\",\"top_units\":\"screen\"},\"id\":\"2293\",\"type\":\"BoxAnnotation\"},{\"attributes\":{},\"id\":\"2291\",\"type\":\"UnionRenderers\"},{\"attributes\":{\"text\":\"\",\"text_color\":{\"value\":\"black\"},\"text_font_size\":{\"value\":\"12pt\"}},\"id\":\"2244\",\"type\":\"Title\"},{\"attributes\":{\"dimension\":1,\"grid_line_color\":null,\"ticker\":{\"id\":\"2258\",\"type\":\"BasicTicker\"}},\"id\":\"2261\",\"type\":\"Grid\"},{\"attributes\":{\"callback\":null,\"data\":{\"CoinName\":[\"42 Coin\",\"EliteCoin\",\"BitcoinDark\",\"PayCoin\",\"ProsperCoin\",\"KoboCoin\",\"PetroDollar\",\"Argentum\",\"BlueCoin\",\"MyriadCoin\",\"MoonCoin\",\"ZetaCoin\",\"SexCoin\",\"Quatloo\",\"EnergyCoin\",\"Riecoin\",\"Digitalcoin \",\"BitBar\",\"Catcoin\",\"CryptoBullion\",\"CannaCoin\",\"CryptCoin\",\"CasinoCoin\",\"Diamond\",\"DevCoin\",\"EarthCoin\",\"E-Gulden\",\"Emerald\",\"Exclusive Coin\",\"FlutterCoin\",\"Franko\",\"GrandCoin\",\"GlobalCoin\",\"GoldCoin\",\"HoboNickels\",\"HyperStake\",\"Infinite Coin\",\"IXcoin\",\"KrugerCoin\",\"LuckyCoin\",\"Litebar \",\"MaxCoin\",\"MediterraneanCoin\",\"MintCoin\",\"MinCoin\",\"MazaCoin\",\"Nautilus Coin\",\"NobleCoin\",\"NyanCoin\",\"Orbitcoin\",\"PhoenixCoin\",\"RonPaulCoin\",\"StableCoin\",\"SmartCoin\",\"SuperCoin\",\"SyncCoin\",\"TeslaCoin\",\"TigerCoin\",\"TorCoin\",\"TerraCoin\",\"UnbreakableCoin\",\"Unobtanium\",\"UroCoin\",\"UnitaryStatus Dollar\",\"UltraCoin\",\"VeriCoin\",\"WorldCoin\",\"X11 Coin\",\"Crypti\",\"JouleCoin\",\"StealthCoin\",\"ZCC Coin\",\"StorjCoin\",\"MonaCoin\",\"Neutron\",\"FairCoin\",\"RubyCoin\",\"PesetaCoin\",\"Kore\",\"Wild Beast Coin\",\"Dnotes\",\"Flo\",\"8BIT Coin\",\"Sativa Coin\",\"JoinCoin\",\"ArtByte\",\"LiteDoge\",\"Triangles Coin\",\"Folding Coin\",\"SolarCoin\",\"TruckCoin\",\"Ucoin\",\"Unitus\",\"CypherPunkCoin\",\"UFO Coin\",\"OrangeCoin\",\"FriendshipCoin\",\"BlakeCoin\",\"OmniCron\",\"BitstarCoin\",\"NeosCoin\",\"HyperCoin\",\"Vtorrent\",\"PinkCoin\",\"GreenCoin\",\"Cryptonite\",\"BitcoinPlus\",\"MasterCoin\",\"SoonCoin\",\"1Credit\",\"IslaCoin\",\"Crypto Escudo\",\"AudioCoin\",\"MarsCoin \",\"Crypto\",\"Creva Coin\",\"Anarchists Prime\",\"Droidz\",\"BowsCoin\",\"IncaKoin\",\"Squall Coin\",\"Piggy Coin\",\"Genstake\",\"Song Coin\",\"SmileyCoin\",\"UnCoin\",\"BitZeny\",\"Diggits\",\"XiaoMiCoin\",\"Paycon\",\"CapriCoin\",\" ClubCoin\",\"Radium\",\"EverGreenCoin\",\"MindCoin\",\"I0coin\",\"Bata\",\"Pakcoin\",\"Creditbit \",\"OKCash\",\"Revolution VR\",\"HOdlcoin\",\"EDRCoin\",\"Hitcoin\",\"DubaiCoin\",\"HiCoin\",\"CarpeDiemCoin\",\"PWR Coin\",\"BitCrystals\",\"BillaryCoin\",\"Scotcoin\",\"Influxcoin\",\"GPU Coin\",\"Adzcoin\",\"Gapcoin\",\"SoilCoin\",\"YoCoin\",\"EuropeCoin\",\"ZeitCoin\",\"SwingCoin\",\"SafeExchangeCoin\",\"Nebuchadnezzar\",\"Francs\",\"BolivarCoin\",\"Ratecoin\",\"Revenu\",\"Clockcoin\",\"VIP Tokens\",\"BitSend\",\"Omni\",\"Let it Ride\",\"PutinCoin\",\"iBankCoin\",\"Frankywillcoin\",\"MudraCoin\",\"PizzaCoin\",\"Lutetium Coin\",\"GoldBlocks\",\"CarterCoin\",\"Karbo\",\"BitTokens\",\"ZayedCoin\",\"MustangCoin\",\"ZoneCoin\",\"Circuits of Value\",\"RootCoin\",\"DopeCoin\",\"BitCurrency\",\"DollarCoin\",\"Swiscoin\",\"Shilling\",\"BuzzCoin\",\"Opair\",\"PesoBit\",\"Halloween Coin\",\"CoffeeCoin\",\"RoyalCoin\",\"GanjaCoin V2\",\"TeamUP\",\"LanaCoin\",\"Elementrem\",\"ZClassic\",\"InsaneCoin\",\"KiloCoin\",\"ArtexCoin\",\"EmberCoin\",\"XenixCoin\",\"FreeCoin\",\"PLNCoin\",\"AquariusCoin\",\"Kurrent\",\"Creatio\",\"Eternity\",\"Eurocoin\",\"BitcoinFast\",\"Stakenet\",\"BitConnect Coin\",\"MoneyCoin\",\"Enigma\",\"Cannabis Industry Coin\",\"Russiacoin\",\"PandaCoin\",\"GameUnits\",\"GAKHcoin\",\"LiteCreed\",\"OsmiumCoin\",\"Bikercoins\",\"HexxCoin\",\"Klingon Empire Darsek\",\"Internet of People\",\"KushCoin\",\"Printerium\",\"PacCoin\",\"Impeach\",\"Citadel\",\"Zilbercoin\",\"FirstCoin\",\"BeaverCoin\",\"FindCoin\",\"VaultCoin\",\"Zero\",\"OpenChat\",\"Canada eCoin\",\"Netko\",\"Zoin\",\"RenosCoin\",\"DubaiCoin\",\"VirtacoinPlus\",\"TajCoin\",\"Impact\",\"EB3coin\",\"Atmos\",\"HappyCoin\",\"Coinonat\",\"MacronCoin\",\"Condensate\",\"Independent Money System\",\"ArgusCoin\",\"LomoCoin\",\"ProCurrency\",\"GoldReserve\",\"BenjiRolls\",\"ParallelCoin\",\"GrowthCoin\",\"ILCoin\",\"Phreak\",\"Degas Coin\",\"HTML5 Coin\",\"Ultimate Secure Cash\",\"EquiTrader\",\"Insane Coin\",\"Quantum Resistant Ledger\",\"Espers\",\"Dynamic\",\"ChanCoin\",\"Wagerr\",\"Dinastycoin\",\"Denarius\",\"DigitalPrice\",\"Virta Unique Coin\",\"Bitcoin Planet\",\"Unify\",\"BritCoin\",\"SocialCoin\",\"ArcticCoin\",\"Particl\",\"DAS\",\"Linda\",\"Reality Clash\",\"LeviarCoin\",\"DeepOnion\",\"Bitcore\",\"gCn Coin\",\"Signatum\",\"Onix\",\"Cream\",\"Growers International\",\"Monoeci\",\"Draftcoin\",\"Sojourn Coin\",\"Stakecoin\",\"Oxycoin\",\"NewYorkCoin\",\"FrazCoin\",\"Kronecoin\",\"AdCoin\",\"Linx\",\"CoinonatX\",\"Ethereum Dark\",\"Sumokoin\",\"Obsidian\",\"Regalcoin\",\"BitcoinZ\",\"TrezarCoin\",\"Elements\",\"TerraNovaCoin\",\"VIVO Coin\",\"Red Pulse Phoenix\",\"Aureus\",\"Rupee\",\"WomenCoin\",\"Theresa May Coin\",\"NamoCoin\",\"LUXCoin\",\"Pirl\",\"Xios\",\"Bitcloud 2.0\",\"eBoost\",\"KekCoin\",\"BlackholeCoin\",\"Pura\",\"Innova\",\"Ellaism\",\"MinexCoin\",\"GoByte\",\"Magnet\",\"Lamden Tau\",\"Electra\",\"SHIELD\",\"Cash & Back Coin\",\"UltraNote\",\"GlobalToken\",\"BitCoal\",\"DaxxCoin\",\"Bulwark\",\"Kalkulus\",\"AC3\",\"Lethean\",\"GermanCoin\",\"LiteCoin Ultra\",\"PopularCoin\",\"PhantomX\",\"Copico\",\"Photon\",\"Sucre\",\"SparksPay\",\"Digiwage\",\"GunCoin\",\"IrishCoin\",\"Trollcoin\",\"Litecoin Plus\",\"Monkey Project\",\"Pioneer Coin\",\"UnitedBitcoin\",\"Interzone\",\"TokenPay\",\"1717 Masonic Commemorative Token\",\"THEKEY Token\",\"TurtleCoin\",\"Dorado\",\"MUNcoin\",\"Unified Society USDEX\",\"Logarithm\",\"Niobio Cash\",\"ShareChain\",\"KREDS\",\"Tokyo Coin\",\"BiblePay\",\"LitecoinCash\",\"BitFlip\",\"ALAX\",\"LottoCoin\",\"Crypto Improvement Fund\",\"Stipend\",\"Pushi\",\"Ellerium\",\"Velox\",\"BitTube\",\"Poseidon\",\"Aidos Kuneen\",\"Bitspace\",\"Briacoin\",\"Ignition\",\"Bitrolium\",\"MedicCoin\",\"Alpenschillling\",\"Bitcoin Green\",\"Deviant Coin\",\"Abjcoin\",\"Semux\",\"FuturoCoin\",\"Carebit\",\"Zealium\",\"Monero Classic\",\"Proton\",\"Jumpcoin\",\"Bitcoin Incognito\",\"KEYCO\",\"HollyWoodCoin\",\"GINcoin\",\"PlatinCoin\",\"Loki\",\"Newton Coin\",\"Swisscoin\",\"Xt3ch\",\"MassGrid\",\"TheVig\",\"PluraCoin\",\"EmaratCoin\",\"Dekado\",\"Lynx\",\"Poseidon Quark\",\"BitcoinWSpectrum\",\"Muse\",\"Motion\",\"PlusOneCoin\",\"Axe\",\"Trivechain\",\"Dystem\",\"Giant\",\"Peony Coin\",\"Absolute Coin\",\"Vitae\",\"HexCoin\",\"TPCash\",\"Webchain\",\"Ryo\",\"Urals Coin\",\"ARENON\",\"EUNO\",\"MMOCoin\",\"Ketan\",\"PAXEX\",\"Azart\",\"ThunderStake\",\"Zipper\",\"Xchange\",\"RoBet\",\"CrypticCoin\",\"Bettex coin\",\"TigerCash\",\"Actinium\",\"BitMoney\",\"Fiii\",\"Junson Ming Chan Coin\",\"FREDEnergy\",\"HerbCoin\",\"URANIUMX\",\"Universal Molecule\",\"Lithium\",\"PirateCash\",\"Exosis\",\"Oduwa\",\"Galilel\",\"Bithereum\",\"Stakinglab\",\"Crypto Sports\",\"Credit\",\"Atomic Wallet Coin\",\"Scribe Network\",\"SLICE\",\"Vollar\",\"Platinum\",\"Nasdacoin\",\"Beetle Coin\",\"Titan Coin\",\"Award\",\"BLAST\",\"Bitcoin Rhodium\",\"Beldex\",\"eXPerience Chain\",\"STREAMIT COIN\",\"Bitcoin SV\",\"BitTorrent\",\"Beam\",\"Project Pai\",\"Kcash\",\"Acute Angle Cloud\",\"BLOC.MONEY\",\"Callisto Network\",\"Crown Coin\",\"Monarch Token\",\"ABBC Coin\",\"Zeph\",\"XDNA\",\"Lobstex\",\"Bitcoin\",\"Ethereum\",\"EOS\",\"Litecoin\",\"Cardano\",\"Monero\",\"Dash\",\"Ethereum Classic\",\"ZCash\",\"Bitshares\",\"Steem\",\"Bitcoin Cash\",\"Ontology\",\"Decred\",\"Waves\",\"VeChain\",\"QTUM\",\"Ravencoin\",\"Bitcoin Gold\",\"Komodo\",\"Siacoin\",\"Aion\",\"Vertcoin\",\"DigiByte\",\"Lisk\",\"Verge\",\"Reddcoin\",\"FeatherCoin\",\"Namecoin\",\"Poa Network\",\"Nano\",\"ByteCoin\",\"Horizen\",\"Waltonchain\",\"ZCoin\",\"ARK\",\"Nexus\",\"SysCoin\",\"Nxt\",\"NavCoin\",\"IOCoin\",\"SibCoin\",\"Aurora Coin\",\"Bitcoin Diamond\",\"Metaverse\",\"Groestlcoin\",\"QuarkCoin\",\"Einsteinium\",\"BurstCoin\",\"Infinity Economics\",\"Expanse\",\"ViaCoin\",\"WhiteCoin\",\"DigitalNote \",\"PotCoin\",\"Gulden\",\"Gamecredits\",\"SmartCash\",\"Emercoin\",\"MegaCoin\"],\"TotalCoinSupply\":{\"__ndarray__\":\"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\",\"dtype\":\"float64\",\"shape\":[556]},\"TotalCoinsMined\":{\"__ndarray__\":\"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\",\"dtype\":\"float64\",\"shape\":[556]}},\"selected\":{\"id\":\"2275\",\"type\":\"Selection\"},\"selection_policy\":{\"id\":\"2291\",\"type\":\"UnionRenderers\"}},\"id\":\"2274\",\"type\":\"ColumnDataSource\"},{\"attributes\":{\"overlay\":{\"id\":\"2293\",\"type\":\"BoxAnnotation\"}},\"id\":\"2265\",\"type\":\"BoxZoomTool\"},{\"attributes\":{},\"id\":\"2248\",\"type\":\"LinearScale\"},{\"attributes\":{},\"id\":\"2264\",\"type\":\"WheelZoomTool\"},{\"attributes\":{},\"id\":\"2258\",\"type\":\"BasicTicker\"},{\"attributes\":{\"callback\":null,\"end\":989988693574.957,\"reset_end\":989988693574.957,\"reset_start\":-5917977547.96773,\"start\":-5917977547.96773,\"tags\":[[[\"TotalCoinsMined\",\"TotalCoinsMined\",null]]]},\"id\":\"2240\",\"type\":\"Range1d\"}],\"root_ids\":[\"2243\"]},\"title\":\"Bokeh Application\",\"version\":\"1.3.4\"}};\n",
       "  var render_items = [{\"docid\":\"f175ae42-0f3c-4edf-873f-b7c1ea4dfaa8\",\"roots\":{\"2243\":\"ba97204f-fe6e-4f8d-a429-e6e6c9decf5d\"}}];\n",
       "  root.Bokeh.embed.embed_items_notebook(docs_json, render_items);\n",
       "\n",
       "  }\n",
       "  if (root.Bokeh !== undefined) {\n",
       "    embed_document(root);\n",
       "  } else {\n",
       "    var attempts = 0;\n",
       "    var timer = setInterval(function(root) {\n",
       "      if (root.Bokeh !== undefined) {\n",
       "        embed_document(root);\n",
       "        clearInterval(timer);\n",
       "      }\n",
       "      attempts++;\n",
       "      if (attempts > 100) {\n",
       "        console.log(\"Bokeh: ERROR: Unable to run BokehJS code because BokehJS library is missing\");\n",
       "        clearInterval(timer);\n",
       "      }\n",
       "    }, 10, root)\n",
       "  }\n",
       "})(window);</script>"
      ],
      "text/plain": [
       ":Scatter   [TotalCoinsMined]   (TotalCoinSupply,CoinName)"
      ]
     },
     "execution_count": 96,
     "metadata": {
      "application/vnd.holoviews_exec.v0+json": {
       "id": "2243"
      }
     },
     "output_type": "execute_result"
    }
   ],
   "source": [
    "# Plot the scatter with x=\"TotalCoinsMined\" and y=\"TotalCoinSupply\"\n",
    "result.hvplot.scatter(x='TotalCoinsMined', y='TotalCoinSupply',hover_cols=[\"CoinName\"])"
   ]
  }
 ],
 "metadata": {
  "file_extension": ".py",
  "kernelspec": {
   "display_name": "Python 3",
   "language": "python",
   "name": "python3"
  },
  "language_info": {
   "codemirror_mode": {
    "name": "ipython",
    "version": 3
   },
   "file_extension": ".py",
   "mimetype": "text/x-python",
   "name": "python",
   "nbconvert_exporter": "python",
   "pygments_lexer": "ipython3",
   "version": "3.7.3"
  },
  "mimetype": "text/x-python",
  "name": "python",
  "npconvert_exporter": "python",
  "pygments_lexer": "ipython3",
  "version": 3
 },
 "nbformat": 4,
 "nbformat_minor": 4
}
